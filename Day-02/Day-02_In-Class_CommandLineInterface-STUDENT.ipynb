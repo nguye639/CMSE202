{
 "cells": [
  {
   "cell_type": "markdown",
   "metadata": {},
   "source": [
    "### <p style=\"text-align: right;\"> &#9989; **Put your name here** </p>\n",
    "#### <p style=\"text-align: right;\"> &#9989; Put your group member names here</p>"
   ]
  },
  {
   "cell_type": "markdown",
   "metadata": {
    "slideshow": {
     "slide_type": "-"
    }
   },
   "source": [
    "# Day 2 In-Class Assignment: The Command Line Interface\n",
    "<img src=\"https://hackadaycom.files.wordpress.com/2013/12/c128-80-column.gif\" width= 600>\n",
    "<p style=\"text-align: right;\">\n",
    "From <a>http://hackaday.com</a>\n",
    "</p>"
   ]
  },
  {
   "cell_type": "markdown",
   "metadata": {
    "slideshow": {
     "slide_type": "-"
    }
   },
   "source": [
    "## Agenda for today's class\n",
    "\n",
    "2. Revisiting the gift exchange problem from last week\n",
    "3. Review of pre-class assignments\n",
    "4. Create class directory structure using CLI\n",
    "5. Practice Downloading examples using ```git```.\n",
    "6. Group work using Google Docs\n",
    "7. Download the classes ```git``` repositories\n",
    "8. Assignment wrap-up\n"
   ]
  },
  {
   "cell_type": "markdown",
   "metadata": {},
   "source": [
    "---\n",
    "# 1. Revisiting the Gift Exchange problem\n",
    "\n",
    "**If there wasn't sufficient time to have a class discussion last class period**, take a moment to remind yourself of the gift exchange problem from last week or pull up last week's in-class notebook. \n",
    "\n",
    "&#128101; As a class, each group will present their favorite plan.  Take notes below about ideas other groups had that you think are good and would like to include in your plan."
   ]
  },
  {
   "cell_type": "markdown",
   "metadata": {},
   "source": [
    "<font size=8 color=\"#009600\">&#9998;</font> Do This - Erase the contents of this cell and replace it with notes from the above question!  (double-click on this text to edit this cell, and hit shift+enter to save the text)"
   ]
  },
  {
   "cell_type": "markdown",
   "metadata": {},
   "source": [
    "---\n",
    "\n",
    "# 2. Review of pre-class assignment\n",
    "\n",
    "If there were any questions that came up about the pre-class assignment, or parts that were confusing, we'll take a few minutes to discuss those as a class. We **will not** work though the entire pre-class assignment today -- you're expected to have done the assignment yourself!"
   ]
  },
  {
   "cell_type": "markdown",
   "metadata": {},
   "source": [
    "----\n",
    "# 3. Create class directory structure using the CLI\n",
    "\n",
    "&#9989; Do This - Open a terminal or command prompt on your computer. At this point you should determine which command line interface you plan to work with for the semester.\n",
    "\n",
    "*If you're on a Mac computer*, the easiest option to to just use the \"Terminal\" application.\n",
    "\n",
    "*If you're on a Linux computer*, the easiest option is to use the \"Console\" application, assuming you're using Ubuntu. If you have another Linux operating system, the application might have a different name.\n",
    "\n",
    "*If you're on a Windows computer*, you'll probably want to use something other than the standard \"CMD\" command line interface as this interface does not use standard Linux terminal commands. If you've successfully installed Git, you should be able to locate the \"GitBash\" command line interface, which provides the functionality you will need for this course. If you don't wish to use GitBash, you're welcome to choose another option. \"Powershell\" or \"Cygwin\" are other options.\n",
    "\n",
    "If you're having issues with you location command line interface software, open a Jupyter Terminal on JupyterHub and use the command line interface available there.\n",
    "\n",
    "Once you've launch a CLI that works for you, make the following directory structure:\n",
    "\n",
    "- CMSE202\n",
    "  - repositories\n",
    "  - scratch\n",
    "  \n",
    "Ask for assistance from one of your instructors if you run into issues. We will be using this same structure the entire semester. Note that \"CMSE202\" is the main directory and \"repositories\" and \"scratch\" are subdirectories within CMSE202.\n",
    "  \n",
    "**Follow-up task**: Once you've created your directory structure, run the `ls` command in your CMSE202 directory to make sure everything looks right. `cd` into the \"repositories\" directory and run `pwd` to determine the full path of your new directory. Copy and paste the full path into a new cell below this one."
   ]
  },
  {
   "cell_type": "markdown",
   "metadata": {},
   "source": [
    "---\n",
    "# 4. Practice Downloading examples using ```git```.\n",
    "\n",
    "### Step 1: Download your first git repository\n",
    "The MSU **GitLab** is a private system designed for projects that originate at MSU. There is a repository called \"Jupyter-Examples\" which has a bunch of examples you may want to reference in class. Lets download this repository:\n",
    "\n",
    "&#9989; Do This - Change to current working directory to \"~/CMSE202/repositories\" and run the following command:  \n",
    "\n",
    "`git clone https://gitlab.msu.edu/CMSE/Jupyter-Examples.git`\n",
    "\n",
    "The above command should have created a folder named \"Jupyter-Example\" in your \"repositories\" directory.  \n",
    "\n",
    "&#9989; Do This - Use the Terminal/Command Prompt program and the Jupyter interface to navigate this new folder and look at some of the examples.  Find the \"Violin Plot\" and \"Slider_input_example\" examples and run them in the Jupyter interface. If you get any errors when you run these examples, try to understand the error output and fix the issues.\n"
   ]
  },
  {
   "cell_type": "markdown",
   "metadata": {},
   "source": [
    "\n",
    "### Step 2: Download a repository using Github\n",
    "There is also a public **GitHub** Website that has a ton of examples.  We are going to download a couple of examples to see if we can get them working:"
   ]
  },
  {
   "cell_type": "markdown",
   "metadata": {},
   "source": [
    "&#9989; Do This - Change current working directory to \"~/CMSE202/repositories\" and run the following commands:  \n",
    "\n",
    "`git clone https://github.com/fperez/science-journal-demo`\n",
    "\n",
    "**Question 1:** What does this git repository do?"
   ]
  },
  {
   "cell_type": "markdown",
   "metadata": {},
   "source": [
    "<font size=8 color=\"#009600\">&#9998;</font> Do This - Erase the contents of this cell and replace it with your answer to the above question!  (double-click on this text to edit this cell, and hit shift+enter to save the text)"
   ]
  },
  {
   "cell_type": "markdown",
   "metadata": {},
   "source": [
    "**Question 2:** As a group, brainstorm things you could do with the tools provided in the \"science-journal\" demo.  "
   ]
  },
  {
   "cell_type": "markdown",
   "metadata": {},
   "source": [
    "<font size=8 color=\"#009600\">&#9998;</font> Do This - Erase the contents of this cell and replace it with some of the ideas you brainstormed as a bulleted list. "
   ]
  },
  {
   "cell_type": "markdown",
   "metadata": {},
   "source": [
    "**Question 3:**  Find and download the **Neural-Networks-Demystified** git repository into your repositories directory: What command did you use to download the repository?"
   ]
  },
  {
   "cell_type": "markdown",
   "metadata": {},
   "source": [
    "<font size=8 color=\"#009600\">&#9998;</font>  Do This - Erase the contents of this cell and replace it with your answer to the above question!  Use the **code** html tag to make the formatting match the commands shown above."
   ]
  },
  {
   "cell_type": "markdown",
   "metadata": {},
   "source": [
    "---\n",
    "# 5. Group work using Google Docs\n",
    "\n",
    "In this project, we will be taking advantage of Google Docs as a classroom-wide, web-based collaboration tool. We'll use a shared Google Document to take notes as  group. If you haven't used Google Docs before, start out by going to http://docs.google.com and signing into your @msu.edu account (MSU has a Education Agreement to access some of Google's core apps using your MSU NetID credentials; http://googleapps.msu.edu/). **Note:** If you already have a google account outside of the one provided to you by MSU, you'll want to make sure you switch accounts and sign into your MSU account for this class.\n",
    "\n",
    "Once you're signed in, you can test out creating a new Google Document and exploring how you can share it with others. If you're already familiar with Google Docs and Google Drive help your group to log in an explore.\n",
    "\n",
    "For this project lets use the following Google Doc that has already been created (you must be signed into your MSU account to access this): \n",
    "\n",
    "If you're in *Section 001*, use this one:\n",
    "\n",
    "https://docs.google.com/document/d/1gqDT_yDGFwTxDguaNDEdHqmYuKDGJEny9EM3F1MYbNU/edit?usp=sharing\n",
    "\n",
    "If you're in *Section 002*, use this one:\n",
    "\n",
    "https://docs.google.com/document/d/1AXZATWj9dvJzwd1DdJ4_rGZxONEl7WRFvTPIwdBojkg/edit?usp=sharing\n",
    "\n",
    "When you create a Google Doc, you can adjust the settings so that you can just share a link to others. You can also set the permissions to be as open or as restricted as you want.  \n",
    "\n",
    "**WARNING:** <font color=\"red\">Remember, if you make a link public with full permission to edit, anyone can access and edit the Google Doc you create (if they have the URL).  While this can make collaborations quick and easy, you'll want to be careful when you go that route and avoid sharing any private information.</font>\n"
   ]
  },
  {
   "cell_type": "markdown",
   "metadata": {},
   "source": [
    "After clicking the Google Doc link above, notice that you can see who is logged into the document in the upper right. Each person who is logged in an viewing the document will have a different colored cursor that you can see move about the document.\n",
    "\n",
    "**Note:** To make sure the credit is given to the content that each person contributes, put your name in front the text that you insert into the document. For example, if your name is Devin, you might put something like \"Devin: I found a python script on GitHub that plays a Lunar Lander game, [https://github.com/dingz212445/cit590hw1Lunar_Lander](https://github.com/dingz212445/cit590hw1Lunar_Lander)\". This also helps to gauge how much everyone participates today."
   ]
  },
  {
   "cell_type": "markdown",
   "metadata": {},
   "source": [
    "**Question 4:** Search GitHub (using GitHub search and Google) for some interesting scientifically motivated examples.  Examples written in python are preferred but keep your eyes out for specific examples that use Jupyter notebooks.  What search terms did you use to find  your examples?  Mark in bold those phrases that seemed to provide the best results and add them to the class Google Doc for your Section."
   ]
  },
  {
   "cell_type": "markdown",
   "metadata": {},
   "source": [
    "<font size=8 color=\"#009600\">&#9998;</font>  Do This - Erase the contents of this cell and replace it with your answer to the above question!  (double-click on this text to edit this cell, and hit shift+enter to save the text).  "
   ]
  },
  {
   "cell_type": "markdown",
   "metadata": {},
   "source": [
    "**Question 5:**  Make a bulleted list of repositories you found that were interesting. Also share some of the best URLs on the class Google Doc for your Section."
   ]
  },
  {
   "cell_type": "markdown",
   "metadata": {},
   "source": [
    "<font size=8 color=\"#009600\">&#9998;</font>  Do This - Erase the contents of this cell and replace it with your bulleted list."
   ]
  },
  {
   "cell_type": "markdown",
   "metadata": {},
   "source": [
    "**Question 6:**  Find an interesting Jupyter example(s) and get the notebook working in Jupyter. **NOTE: not all notebooks will work.** Some common reasons include:\n",
    "* Notebook requires a import module that is not included in your Python installation.\n",
    "* Notebook may be written in Python2 and your Python installation is Python3.\n",
    "* Repository may be incomplete or broken.\n",
    "\n",
    "Get at least one example working and show it to your instructor.  Bonus points for really unique examples.  Make a list of URL(s)- for the Jupyter notebooks you find and share them on the class Google Doc."
   ]
  },
  {
   "cell_type": "markdown",
   "metadata": {},
   "source": [
    "<font size=8 color=\"#009600\">&#9998;</font>  Do This - Erase the contents of this cell and replace it with the URL(s) for the jupyter notebooks you find."
   ]
  },
  {
   "cell_type": "markdown",
   "metadata": {},
   "source": [
    "---\n",
    "# 6. Download the class Git repository\n",
    "\n",
    "### Step 1: Create a GitHub account\n",
    "If you haven't done so already, go to the GitHub website and create an account using your @msu.edu email addres. Then, log into GitHub:\n",
    "\n",
    "[https://github.com](https://github.com)\n",
    "\n",
    "**Important**: Once your account is set up, send your GitHub username to your instructor via Slack. The course content is maintained inside a private GitHub repository, so you need to be given access to the repository before you'll be able to \"fork\" and \"clone\" the repository. The course repository is maintained at [https://github.com/msu-cmse-courses/cmse202-S19-assignments](https://github.com/msu-cmse-courses/cmse202-S19-assignments).\n",
    "\n",
    "### Step 2: Fork and Clone the course repository\n",
    "&#9989; Do This - Once you have access to the course assignment repository, you need to \"fork\" the repository by clicking the \"Fork\" button at the upper right of the repository page. This will create a duplicate of the current state of the assignment repository that you control. This will be a location where you can commit your own changes to the assignments, add your own content, etc.\n",
    "\n",
    "Once you've forked the repository, you need to clone it to your computer. Change your current working directory to \"~/CMSE202\" and run the following command (where you've replaced < yourGitHubUserName > with your user name):  \n",
    "\n",
    "`git clone https://github.com/<yourGitHubUserName>/cmse202-S19-assignments.git`\n",
    "\n",
    "The above command should have created a folder named \"cmse202-S19-assignments\" in your CMSE202 directory. This is now your cloned version of the course repository.\n",
    "\n",
    "**NOTE:** We will be using this repository for all future assignments.  To update your fork of the repository, please use the following command to pull from the original remote repository:\n",
    "\n",
    "`git pull https://github.com/msu-cmse-courses/cmse202-S19-assignments.git`\n",
    "\n",
    "We'll be spending more time learning the ins and outs of Git in the next class."
   ]
  },
  {
   "cell_type": "markdown",
   "metadata": {},
   "source": [
    "# 7. Assignment Wrap-up\n",
    "\n",
    "### &#9989; Do This - Fill out the Google Form below before turning in your notebook on D2L."
   ]
  },
  {
   "cell_type": "code",
   "execution_count": null,
   "metadata": {},
   "outputs": [],
   "source": [
    "from IPython.display import HTML\n",
    "HTML(\n",
    "\"\"\"\n",
    "<iframe src=\"https://goo.gl/forms/noAwoJd9pEj7A1su1\"\n",
    "width=\"800\"\n",
    "height=\"600\"\n",
    "frameborder=\"0\"\n",
    "marginheight=\"0\"\n",
    "marginwidth=\"0\">Loading...</iframe>\n",
    "\"\"\"\n",
    ")"
   ]
  },
  {
   "cell_type": "markdown",
   "metadata": {},
   "source": [
    "-----\n",
    "### Congratulations, you're done with your in-class assignment!\n",
    "\n",
    "Now, you just need to submit this assignment by uploading it to the course <a href=\"https://d2l.msu.edu/\">Desire2Learn</a> web page for today's submission folder (Don't forget to add your names in the first cell)."
   ]
  },
  {
   "cell_type": "markdown",
   "metadata": {},
   "source": [
    "&#169; Copyright 2018,  Michigan State University Board of Trustees"
   ]
  }
 ],
 "metadata": {
  "anaconda-cloud": {},
  "kernelspec": {
   "display_name": "Python 3",
   "language": "python",
   "name": "python3"
  },
  "language_info": {
   "codemirror_mode": {
    "name": "ipython",
    "version": 3
   },
   "file_extension": ".py",
   "mimetype": "text/x-python",
   "name": "python",
   "nbconvert_exporter": "python",
   "pygments_lexer": "ipython3",
   "version": "3.7.1"
  }
 },
 "nbformat": 4,
 "nbformat_minor": 2
}
