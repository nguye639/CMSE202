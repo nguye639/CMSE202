{
 "cells": [
  {
   "cell_type": "markdown",
   "metadata": {},
   "source": [
    "<p style=\"text-align: right;\"> &#9989; Put your name here</p>"
   ]
  },
  {
   "cell_type": "markdown",
   "metadata": {
    "slideshow": {
     "slide_type": "-"
    }
   },
   "source": [
    "# Day 2 Pre-Class Assignment: Intro to the Command Line Interface (CLI)\n",
    "#### Learning the basics of the Terminal, Shell and the Engineering Jupyterhub Server"
   ]
  },
  {
   "cell_type": "markdown",
   "metadata": {
    "slideshow": {
     "slide_type": "-"
    }
   },
   "source": [
    "## Learning goals for today's pre-class assignment \n",
    "\n",
    "</p>\n",
    "By the end of this pre-class assignment, you should:\n",
    "\n",
    "1. Understand the basics of Python, IPython, and Jupyter notebooks\n",
    "2. Be familiar to the Engineering Jupyterhub and how to use it.\n",
    "3. Be able to describe and use a Command Line Interface (CLI)?\n"
   ]
  },
  {
   "cell_type": "markdown",
   "metadata": {},
   "source": [
    "## Assignment instructions\n",
    "\n",
    "Pre-class assignments will be composed of a combination of videos, text to read, and small assignments.  The goal of these assignments is to prepare you for class the following day.  You should watch the videos and read the text, and then do the assigned work.  You will be graded on making a good-faith effort, not on absolute correctness! When you don't understand something, make a note of it this notebook so that the instructor can work to address these issues.\n",
    "\n",
    "To make notebook cells that have Python code in them do something, hold down the 'shift' key and then press the 'enter' or 'return' key (you'll have to do this to get movies to run).  To edit a cell (to add answers, for example) you double-click, add your text, and then enter it by holding down 'shift' and pressing 'enter'.  \n",
    "\n",
    "**This assignment is due by 11:59 p.m. the day before class,** and should be uploaded into the \"Pre-Class Assignments\" submission folder for Day 2. "
   ]
  },
  {
   "cell_type": "markdown",
   "metadata": {},
   "source": [
    "-------------\n",
    "## 1. Review of Python, IPython, and IPython notebooks\n",
    "This section is a quick review of what we did last semester and what we did in class on the first day.  Please watch the videos and answer the questions provided. **Note:** Many of the videos we will use in this course were created by a previous CMSE 202 instructor, Dr. Dirk Colbry. Dr. Colbry is the Director of High-Performance Computing Studies in the CMSE Department and the point of contact for any technical issues you may have with the course tools."
   ]
  },
  {
   "cell_type": "code",
   "execution_count": null,
   "metadata": {},
   "outputs": [],
   "source": [
    "from IPython.display import YouTubeVideo\n",
    "YouTubeVideo(\"L03BzGmLUUE\",width=640,height=360)"
   ]
  },
  {
   "cell_type": "code",
   "execution_count": null,
   "metadata": {},
   "outputs": [],
   "source": [
    "from IPython.display import YouTubeVideo\n",
    "YouTubeVideo(\"5WSQnGmz3IA\",width=640,height=360)"
   ]
  },
  {
   "cell_type": "markdown",
   "metadata": {},
   "source": [
    "### Watch the above video and answer the following questions:"
   ]
  },
  {
   "cell_type": "markdown",
   "metadata": {},
   "source": [
    "**Question 1:**  Besides Python, what other languages have you been introduced to (ex. C, C++, R, FORTRAN, MATLAB, JS, etc). \n",
    "\n",
    "Please feel free to elaborate on your answer to give us an idea of your experience for each language. For example, I could write a \"hello world\" program in less than five minutes? (note a \"Hello world\" program is just the most basic program which displays the words \"Hello World\"). Or, I took class XX in Language YY."
   ]
  },
  {
   "cell_type": "markdown",
   "metadata": {},
   "source": [
    "<font size=8 color=\"#009600\">&#9998;</font> Do This - Erase the contents of this cell and replace it with your answer to the above question!  (double-click on this text to edit this cell, and hit shift+enter to save the text). Please use appropriate Markup formating to make your answer's easy to read."
   ]
  },
  {
   "cell_type": "markdown",
   "metadata": {},
   "source": [
    "**Question 2:**  Besides Jupyter, What other programming interfaces have you used (if any)? Some examples may include; Command line interfaces, Python Spyder, Microsoft Visual Studio, Eclipse, etc."
   ]
  },
  {
   "cell_type": "markdown",
   "metadata": {},
   "source": [
    "<font size=8 color=\"#009600\">&#9998;</font> Do This - Erase the contents of this cell and replace it with your answer to the above question!  (double-click on this text to edit this cell, and hit shift+enter to save the text)"
   ]
  },
  {
   "cell_type": "markdown",
   "metadata": {},
   "source": [
    "-----\n",
    "## 2. Introduction to the Engineering JupyterHub Account\n",
    "The following video will introduce you to the Engineering JupyterHub Interface. Please watch this video and answer the questions. Log onto the engineering Jupyterhub account using the following link: \n",
    "\n",
    "http://jupyterhub.egr.msu.edu. \n",
    "\n",
    "In order to log into the JupyterHub you need to activate your DECS account first. If you haven't done this yet, go to:\n",
    "\n",
    "https://www.egr.msu.edu/decs/myaccount/?page=activate\n",
    "\n",
    "Your \"Initial Password\" is your PID, which is the number that starts with \"A\" on your MSU SpartanCard, followed by the \"@\" symbol (e.g. A123467890@). Once you activate your account, you'll be able to log in to JupyterHub. Contact the instructor if you have issues with this process.\n",
    "\n",
    "**Note:** The expectation for this course is that you will use the Anaconda Python 3 installation on your personal computer. However, when you run into issues with your computer or your Python installation, you should be familiar with using the JupyterHub interface so that you can use it as a backup option. For this pre-class notebook, you will be expected to use the JupyterHub for all of the command-line interface (CLI) components to get practice with it. In class, we'll use the command prompt that is available on your laptop.\n"
   ]
  },
  {
   "cell_type": "code",
   "execution_count": null,
   "metadata": {},
   "outputs": [],
   "source": [
    "# the command below this comment actually displays a specific YouTube video,  \n",
    "# with a given width and height.  You can watch the video in full-screen (much higher\n",
    "# resolution) mode by clicking the little box in the bottom-right corner of the video.\n",
    "\n",
    "YouTubeVideo(\"l7mhi4ww6tY\",width=640,height=360)"
   ]
  },
  {
   "cell_type": "markdown",
   "metadata": {},
   "source": [
    "**Question 3:** Please describe the primary computer you will be using for class (Laptop, Desktop, tablet, etc); it's operating system (Mac, Windows, Linux, etc.) Any other details you want to brag about (RAM, CPU speed, disk space, etc.)"
   ]
  },
  {
   "cell_type": "markdown",
   "metadata": {},
   "source": [
    "<font size=8 color=\"#009600\">&#9998;</font> Do This - Erase the contents of this cell and replace it with your answer to the above question!  (double-click on this text to edit this cell, and hit shift+enter to save the text)"
   ]
  },
  {
   "cell_type": "markdown",
   "metadata": {},
   "source": [
    "**Question 4:** Are you able to successfully log on to the Engineering Jupyterhub?  If no, what problems are you having. Also, if no, make sure the instructor(s) are aware of the problem (besides telling us here in this assignment)?"
   ]
  },
  {
   "cell_type": "markdown",
   "metadata": {},
   "source": [
    "<font size=8 color=\"#009600\">&#9998;</font> Do This - Erase the contents of this cell and replace it with your answer to the above question!  (double-click on this text to edit this cell, and hit shift+enter to save the text)"
   ]
  },
  {
   "cell_type": "markdown",
   "metadata": {},
   "source": [
    "----\n",
    "\n",
    "## 3. What is a Command Line Interface (CLI)?\n",
    "\n",
    "The following video will introduce you to the Engineering Jupyterhub Terminal program which is one possible Command Line Interface (CLI) that can be used for work done in this class. I highly recommend that you follow along and execute the same commands as the video.  If you are watching/listening to the video on-the-go, a summary of the commands presented in the video are included below as a reference for when you get back to your computer."
   ]
  },
  {
   "cell_type": "code",
   "execution_count": null,
   "metadata": {},
   "outputs": [],
   "source": [
    "# the command below this comment actually displays a specific YouTube video,  \n",
    "# with a given width and height.  You can watch the video in full-screen (much higher\n",
    "# resolution) mode by clicking the little box in the bottom-right corner of the video.\n",
    "\n",
    "YouTubeVideo(\"dhuZdzSblD4\",width=640,height=360)"
   ]
  },
  {
   "cell_type": "markdown",
   "metadata": {},
   "source": [
    "**Question 5:** What is the name of the Shell that is being used by your Engineering Jupyterhub terminal program? "
   ]
  },
  {
   "cell_type": "markdown",
   "metadata": {},
   "source": [
    "<font size=8 color=\"#009600\">&#9998;</font> Do This - Erase the contents of this cell and replace it with your answer to the above question!  (double-click on this text to edit this cell, and hit shift+enter to save the text)"
   ]
  },
  {
   "cell_type": "markdown",
   "metadata": {},
   "source": [
    "**Question 6:** Add a short description for each of the following commands."
   ]
  },
  {
   "cell_type": "markdown",
   "metadata": {},
   "source": [
    "<font size=8 color=\"#009600\">&#9998;</font> Do This - Erase this instructional text and modify the following list to include short (just a few words) descriptions for each command as it was presented in the video.  A few descriptions  are provided for you as examples and some of them are repeated:\n",
    "\n",
    "\n",
    "* echo $SHELL\n",
    "* python\n",
    "    * import random\n",
    "    * random.randint(1,100)\n",
    "    * quit()\n",
    "* clear\n",
    "* pwd\n",
    "* ls\n",
    "* cd jnotebooks_scratch # Change to the directory named jnotebooks_scratch\n",
    "* cd ..\n",
    "* cd ~ \n",
    "* cd - # Change to the previous directory\n",
    "* python\n",
    "    * import os\n",
    "    * os.getcwd()\n",
    "    * os.chdir('..')\n",
    "    * quit()\n",
    "    "
   ]
  },
  {
   "cell_type": "markdown",
   "metadata": {},
   "source": [
    "**Question 7:** What is the name of the command for showing the contents of the current working directory in the terminal program?"
   ]
  },
  {
   "cell_type": "markdown",
   "metadata": {},
   "source": [
    "<font size=8 color=\"#009600\">&#9998;</font> Do This - Erase the contents of this cell and replace it with your answer to the above question!  (double-click on this text to edit this cell, and hit shift+enter to save the text)"
   ]
  },
  {
   "cell_type": "markdown",
   "metadata": {},
   "source": [
    "**Question 8:** What is the name of the command for creating a new directory in the terminal program? (Note this command was not in the video. You many need to try and use Google to figure this out, if you can not find the answer, let us know and include some of the keywords you used in Google as your answer). "
   ]
  },
  {
   "cell_type": "markdown",
   "metadata": {},
   "source": [
    "<font size=8 color=\"#009600\">&#9998;</font> Do This - Erase the contents of this cell and replace it with your answer to the above question!  (double-click on this text to edit this cell, and hit shift+enter to save the text)"
   ]
  },
  {
   "cell_type": "markdown",
   "metadata": {},
   "source": [
    "### Assignment wrap-up\n",
    "Please fill out the form that appears when you run the code below.  **You must completely fill this out in order to receive credit for the assignment!**"
   ]
  },
  {
   "cell_type": "code",
   "execution_count": null,
   "metadata": {},
   "outputs": [],
   "source": [
    "from IPython.display import HTML\n",
    "HTML(\n",
    "\"\"\"\n",
    "<iframe \n",
    "\tsrc=\"https://goo.gl/forms/9HeY1ttGhqdlymMk1\" \n",
    "\twidth=\"800px\" \n",
    "\theight=\"600px\" \n",
    "\tframeborder=\"0\" \n",
    "\tmarginheight=\"0\" \n",
    "\tmarginwidth=\"0\">\n",
    "\tLoading...\n",
    "</iframe>\n",
    "\"\"\"\n",
    ")\n"
   ]
  },
  {
   "cell_type": "markdown",
   "metadata": {},
   "source": [
    "-----\n",
    "### Congratulations, you're done with your first pre-class assignment!\n",
    "\n",
    "Now, you just need to submit this assignment by uploading it to the course <a href=\"https://d2l.msu.edu/\">Desire2Learn</a> web page for today's submission folder (Don't forget to add your name in the first cell)."
   ]
  },
  {
   "cell_type": "markdown",
   "metadata": {},
   "source": [
    "&#169; Copyright 2018,  Michigan State University Board of Trustees"
   ]
  }
 ],
 "metadata": {
  "anaconda-cloud": {},
  "kernelspec": {
   "display_name": "Python 3",
   "language": "python",
   "name": "python3"
  },
  "language_info": {
   "codemirror_mode": {
    "name": "ipython",
    "version": 3
   },
   "file_extension": ".py",
   "mimetype": "text/x-python",
   "name": "python",
   "nbconvert_exporter": "python",
   "pygments_lexer": "ipython3",
   "version": "3.7.1"
  }
 },
 "nbformat": 4,
 "nbformat_minor": 2
}
