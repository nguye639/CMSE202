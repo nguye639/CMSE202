{
 "cells": [
  {
   "cell_type": "markdown",
   "metadata": {
    "slideshow": {
     "slide_type": "-"
    }
   },
   "source": [
    "## <p style=\"text-align: right;\"> &#9989; Put your name here </p>"
   ]
  },
  {
   "cell_type": "markdown",
   "metadata": {
    "slideshow": {
     "slide_type": "-"
    }
   },
   "source": [
    "# Day 4 In-Class Assignment: Elastic and Viscous Force Models\n",
    "## With fun debugging practice!\n",
    "\n",
    "**<p style=\"text-align: center;\"> NOTE: You should work in teams but make sure to turn in today's assignment individually. Also, make sure you don't upload a blank notebook!</p>**\n",
    "\n",
    "In this notebook, we're going to work with some code that uses functions to apply different forces in both elastic scenarios (think springs) and viscous scenarios (think dashpots... don't know what a dashpot is? You've probably encountered one if you've ever walked through a screen door).  \n",
    "\n",
    "In the code provided in this assignment, you might run into bugs.  Some of them will be pretty obvious bugs with standard python error outputs, but others might be mistakes in the code. Your job is to fix all errors of all types. Feel to use any of the debugging tips and tricks you learned in the pre-class assignment! \n",
    "\n",
    "You'll also have to generate a bit of python code on your own, this will help to brush the cobwebs off with your Python skills."
   ]
  },
  {
   "cell_type": "markdown",
   "metadata": {
    "slideshow": {
     "slide_type": "-"
    }
   },
   "source": [
    "### Agenda for today's class\n",
    "\n",
    "1. Review of pre-class assignment\n",
    "1. Applied Force Models\n",
    "1. A Simple Spring (Linear Elasticity)\n",
    "1. Newtonian DashPots (Viscous Model)\n",
    "1. More Git practice: repository round robin\n",
    "1. Assignment wrap-up"
   ]
  },
  {
   "cell_type": "code",
   "execution_count": null,
   "metadata": {
    "collapsed": true
   },
   "outputs": [],
   "source": [
    "# We'll start off with importing the things we think we'll need for this assignment.\n",
    "# It's good to get into the practice of putting all of your important import statements\n",
    "# In the first code cell in your notebook.\n",
    "%matplotlib inline\n",
    "import numpy as np\n",
    "import matplotlib.pyplot as plt"
   ]
  },
  {
   "cell_type": "markdown",
   "metadata": {},
   "source": [
    "----\n",
    "# 1. Review of pre-class assignment\n",
    "\n",
    "We'll take a few minutes to cover any specific questions you might have about the pre-class assignment.\n",
    "\n",
    "Let's take a moment to highlight some key concepts. Discuss with your table the following prompts and write down a brief definition of each of these concepts.\n",
    "\n",
    "* Git review: Discuss what each of the following commands do: git pull, git clone, git add, git commit\n",
    "\n",
    "&#9989; Do This -  Write your disussion notes here.\n",
    "\n",
    "* With your table, define the following: Syntax Error, Runtime Error, Logic Error \n",
    "\n",
    "&#9989; Do This -  Write your disussion notes here.\n",
    "\n",
    "* Come up with an example for each of the above errors.\n",
    "\n",
    "&#9989; Do This -  Write your disussion notes here.\n"
   ]
  },
  {
   "cell_type": "markdown",
   "metadata": {},
   "source": [
    "---\n",
    "# 2. Applied Force Models\n",
    "\n",
    "In this section we are going to define force models as functions.  Each function has two possible inputs. t is the current time and T is the total time.  The function returns a force based on the current and overall time (T).  \n",
    "\n",
    "### Constant force\n",
    "Here is a simple constant force model (think gravity) with a bug. **Note:** this function does not actually change with t or T.  They are included for compatibility later.\n"
   ]
  },
  {
   "cell_type": "code",
   "execution_count": null,
   "metadata": {
    "collapsed": true
   },
   "outputs": [],
   "source": [
    "def Constant_Force(t, T == 1):\n",
    "    '''Function returns a constant gravitational force'''\n",
    "    return(9.8)"
   ]
  },
  {
   "cell_type": "markdown",
   "metadata": {},
   "source": [
    "&#9989; Do This: Fix the bug in the above code."
   ]
  },
  {
   "cell_type": "markdown",
   "metadata": {},
   "source": [
    "### Functions as variables\n",
    "In Python, functions can be passed around just like variables can(everything is an object). That means that I can actually write a function that can take *another function* as an input. Take a look at the follow bit of example to code to see this in practice. Make sure you understand how the `do_math` function is taking in either the `compute_sum` function or the `compute_average` function to compute a result given a set of input values."
   ]
  },
  {
   "cell_type": "code",
   "execution_count": null,
   "metadata": {
    "collapsed": true
   },
   "outputs": [],
   "source": [
    "def compute_sum(values):\n",
    "    total = 0.0\n",
    "    for value in values:\n",
    "        total += value\n",
    "    print(\"The sum is:\", total)\n",
    "    return total\n",
    "\n",
    "def compute_average(values):\n",
    "    total = 0.0\n",
    "    for value in values:\n",
    "        total += value\n",
    "    average = total/len(values)\n",
    "    print(\"The average is:\", average)\n",
    "    return average\n",
    "\n",
    "def do_math(values, math_function):\n",
    "    result = math_function(values)\n",
    "    return result\n",
    "\n",
    "x = [2,4,7,9]\n",
    "\n",
    "total = do_math(x, compute_sum)\n",
    "average = do_math(x, compute_average)\n",
    "print(total)\n",
    "print(average)"
   ]
  },
  {
   "cell_type": "markdown",
   "metadata": {},
   "source": [
    "**Now**, lets define a function called ```plotForce``` which takes a Force Function as an input, like the `Constant_Force` one above, and plots the output.  \n",
    "\n",
    "A couple of notes:\n",
    "1. The defaults are included for the Time interval, T, and number of iterations, N, in case we want to change these later.\n",
    "2. The function also returns the outputs ```TimePoints``` and ```ForceArray``` (because we'll need these later).  "
   ]
  },
  {
   "cell_type": "code",
   "execution_count": null,
   "metadata": {
    "collapsed": true
   },
   "outputs": [],
   "source": [
    "def plotForce(F, T = 1, N = 200, plot=True):\n",
    "    '''Function to calculate the force function F over time T with N samples. \n",
    "    The function will also plot the force vs time as long as the plot variable is true'''\n",
    "    \n",
    "    # time-step\n",
    "    dt = T/N\n",
    "    TimePoints = np.arange(0, T+dt, dt)\n",
    "\n",
    "    # generating an array of Force at the time-points\n",
    "    ForceArray = np.zeros(N+1)\n",
    "\n",
    "    for i in range(0, N+1):\n",
    "        time = i*dt\n",
    "        ForceArray[i] = F(time, T)\n",
    "\n",
    "    if plot:\n",
    "        plt.plot(TimePoints, ForceArray, label = \"Applied External Force)\n",
    "        plt.xlabel('time')\n",
    "        plt.ylabel('Force')\n",
    "        plt.grid(True)\n",
    "        plt.legend()\n",
    "    return TimePoints, ForceArray"
   ]
  },
  {
   "cell_type": "markdown",
   "metadata": {},
   "source": [
    "&#9989; Do This: Fix the bug in the above code."
   ]
  },
  {
   "cell_type": "markdown",
   "metadata": {},
   "source": [
    "Now lets call the ```plotForce ``` function using the ```Constant_Force``` function:"
   ]
  },
  {
   "cell_type": "code",
   "execution_count": null,
   "metadata": {
    "collapsed": true,
    "scrolled": true
   },
   "outputs": [],
   "source": [
    "plotForce(Constant_Force);"
   ]
  },
  {
   "cell_type": "markdown",
   "metadata": {},
   "source": [
    "### Sine Force\n",
    "Now we can create a different force function. This one is a simple force function based on a sine wave.  The force starts at zero, increases to one in the middle of the time interval and then drops back to zero"
   ]
  },
  {
   "cell_type": "code",
   "execution_count": null,
   "metadata": {
    "collapsed": true
   },
   "outputs": [],
   "source": [
    "def Sin_Force(t, T = 1):\n",
    "    '''Returns the force over an interval T such that, \n",
    "    he force starts at zero, increases to one in the middle of the Time Interval \n",
    "    and then drops back to zero'''\n",
    "    return math.sin(math.pi*t)"
   ]
  },
  {
   "cell_type": "code",
   "execution_count": null,
   "metadata": {
    "collapsed": true
   },
   "outputs": [],
   "source": [
    "plotForce(Sin_Force, T=2);"
   ]
  },
  {
   "cell_type": "markdown",
   "metadata": {},
   "source": [
    "&#9989; Do This: Fix the bug in the above code."
   ]
  },
  {
   "cell_type": "markdown",
   "metadata": {},
   "source": [
    "### Step Force\n",
    "Finally we create a third simple Step Force function that starts at force =1 and halfway though the Time interval drops to zero"
   ]
  },
  {
   "cell_type": "code",
   "execution_count": null,
   "metadata": {
    "collapsed": true
   },
   "outputs": [],
   "source": [
    "def Step_Force(t, T = 1):\n",
    "    '''Returns the force over an interval T such that, \n",
    "    starts at force = 1 and halfway though the Time \n",
    "    Changes abbruptly to zero'''\n",
    "    if t < T/2:\n",
    "        return 1\n",
    "    if t >= T/2:\n",
    "        return 1"
   ]
  },
  {
   "cell_type": "code",
   "execution_count": null,
   "metadata": {
    "collapsed": true
   },
   "outputs": [],
   "source": [
    "plotForce(Step_Force);"
   ]
  },
  {
   "cell_type": "markdown",
   "metadata": {},
   "source": [
    "Although there is no error message. There is still a bug in this function. Please answer the following questions."
   ]
  },
  {
   "cell_type": "markdown",
   "metadata": {},
   "source": [
    "**Question:** What is the behavior that we think is the bug?"
   ]
  },
  {
   "cell_type": "markdown",
   "metadata": {},
   "source": [
    "<font size=8 color=\"#009600\">&#9998;</font> Do This - Erase the contents of this cell and replace it with your answer to the above question!  (double-click on this text to edit this cell, and hit shift+enter to save the text)"
   ]
  },
  {
   "cell_type": "markdown",
   "metadata": {},
   "source": [
    "**Question:** Where is the bug occurring?"
   ]
  },
  {
   "cell_type": "markdown",
   "metadata": {},
   "source": [
    "<font size=8 color=\"#009600\">&#9998;</font> Do This - Erase the contents of this cell and replace it with your answer to the above question!  (double-click on this text to edit this cell, and hit shift+enter to save the text)"
   ]
  },
  {
   "cell_type": "markdown",
   "metadata": {},
   "source": [
    "**Question:** What is causing the bug?  "
   ]
  },
  {
   "cell_type": "markdown",
   "metadata": {},
   "source": [
    "<font size=8 color=\"#009600\">&#9998;</font> Do This - Erase the contents of this cell and replace it with your answer to the above question!  (double-click on this text to edit this cell, and hit shift+enter to save the text)"
   ]
  },
  {
   "cell_type": "markdown",
   "metadata": {},
   "source": [
    "**Question:** How do you fix the bug? "
   ]
  },
  {
   "cell_type": "markdown",
   "metadata": {},
   "source": [
    "<font size=8 color=\"#009600\">&#9998;</font> Do This - Erase the contents of this cell and replace it with your answer to the above question!  (double-click on this text to edit this cell, and hit shift+enter to save the text)"
   ]
  },
  {
   "cell_type": "markdown",
   "metadata": {},
   "source": [
    "&#9989;** Do This:** Fix the bug in the above code."
   ]
  },
  {
   "cell_type": "markdown",
   "metadata": {},
   "source": [
    "&#9989; **DO This:**  Modify the above plot to change show the y-axis between -0.5 and 1.5.  This will make the step function easier to see."
   ]
  },
  {
   "cell_type": "markdown",
   "metadata": {},
   "source": [
    "### Linear Force\n",
    "&#9989; **DO This:**  Create your own Force function (called ```Linear_Force```) which starts at zero (0) and increases linearly one over the entire time interval and is one (1) when $t = T$.  "
   ]
  },
  {
   "cell_type": "code",
   "execution_count": null,
   "metadata": {
    "collapsed": true
   },
   "outputs": [],
   "source": [
    "# Put your code here"
   ]
  },
  {
   "cell_type": "markdown",
   "metadata": {},
   "source": [
    "**Once you finish your function**, test the following code:"
   ]
  },
  {
   "cell_type": "code",
   "execution_count": null,
   "metadata": {
    "collapsed": true
   },
   "outputs": [],
   "source": [
    "plotForce(Linear_Force, 300);"
   ]
  },
  {
   "cell_type": "markdown",
   "metadata": {},
   "source": [
    "-----\n",
    "# 3. A Simple Spring (Linear Elasticity)\n",
    "\n",
    "<img src=\"http://homepage.ufp.pt/biblioteca/WebBasPrinTectonics/images/Fig.005d-MechanicalAnalog.jpg\" width=300pm height=300>\n",
    "\n",
    "For small deformations, most elastic materials such as springs exhibit \"linear elasticity\" and can be described by a linear relation between the exerted force and the resulting displacement. This relationship is known as **Hooke's law**. This law can be stated as a relationship between tensile/compressive force  **_F_** and corresponding extension/compression displacement _**x**_:\n",
    "\n",
    "$$F = K~x $$\n",
    "\n",
    "where _**K**_ is a **physical constant** known as the rate or spring constant (the bigger K the stiffer the spring would be). The force _**F**_ can be either constant or time-dependent (i.e., F=F(t)). Then, the displacement x will be accordingly time-dependent as before x(t). \n",
    "\n",
    "Hooke's law is a simple law to model the elastic behavior of materials. Solving for x we get:\n",
    "\n",
    "$$X = \\frac{F}{K}$$\n",
    "\n",
    "or\n",
    "\n",
    "$$X(t) = \\frac{F(t)}{K}$$"
   ]
  },
  {
   "cell_type": "code",
   "execution_count": null,
   "metadata": {
    "collapsed": true
   },
   "outputs": [],
   "source": [
    "def Spring_Displacement(F, K, T, N):\n",
    "    '''Function to calculate the spring displacement X(t) = 1/K * F(t,T)\n",
    "    for a spring with spring constant K; over time interval T with N samples \n",
    "    and the input force function F(t,T)'''\n",
    "    X = np.zeros(N+1)\n",
    "    dt = T/N\n",
    "    for i in range(0,N+1):\n",
    "        time = i*dt\n",
    "        X[i] = F(time, T)/K\n",
    "    return X "
   ]
  },
  {
   "cell_type": "markdown",
   "metadata": {},
   "source": [
    "Now lets plot the Force and Displacement of a spring over a time time interval of 2 and 200 timesteps using the Sin_Force function:"
   ]
  },
  {
   "cell_type": "code",
   "execution_count": null,
   "metadata": {
    "collapsed": true
   },
   "outputs": [],
   "source": [
    "T=2 #Time interval\n",
    "N = 200 #number of time steps\n",
    "Force = Sin_Force #Pick which force function to use\n",
    "\n",
    "#Calculate the forces using the force function (Plot the results)\n",
    "TimePoints, ForceArray = plotForce(Force, T, N, plot=True)\n",
    "\n",
    "# Initialize model inputs\n",
    "K=2 #Spring Constant\n",
    "\n",
    "# solve the problem and save the results in Xs (of size N+1)\n",
    "Xs = Spring_Displacement(Force, K, T, N)\n",
    "\n",
    "# Plot X and F Versus Time, On toop of the pplied External Force.\n",
    "plt.plot(TimePoints, Xs, label = \"Spring Displacement\")\n",
    "plt.legend()\n",
    "plt.xlabel('time')\n",
    "plt.ylabel('Displacment and Force')\n",
    "plt.grid(True)"
   ]
  },
  {
   "cell_type": "markdown",
   "metadata": {},
   "source": [
    "### Plot results"
   ]
  },
  {
   "cell_type": "markdown",
   "metadata": {},
   "source": [
    "The following code creates a list of force functions and loops over that list to create four different plots using the **```subplots```** function.  \n",
    "\n",
    "You can find lots of examples of **```subplots```** here:\n",
    "\n",
    "http://matplotlib.org/examples/pylab_examples/subplots_demo.html\n",
    "\n",
    "Basically the function creates a grid of plots instead of just one plot and there's a good change you've seen this function before. The main difference to the code below is that we substituted `plt` with `figax[i]` to tell the program which of the subplots we want our plot function to \"draw\" on.  The `figax` list allows us to refer to each of the subplots individually.  \n",
    "\n",
    "However, there is a bug in this code.  It seems to plot the \"Spring Displacement\" just fine but all four of the applied external forces are plotted on the last plot (instead of being distributed between the four plots). "
   ]
  },
  {
   "cell_type": "code",
   "execution_count": null,
   "metadata": {
    "collapsed": true
   },
   "outputs": [],
   "source": [
    "# Create a force list of the four force functions and plot the applied \n",
    "# external force and displacment for each function.\n",
    "\n",
    "forces = [ Constant_Force, Linear_Force, Sin_Force, Step_Force]\n",
    "force_labels = [ \"Constant Force\" , \"Linear Force\", \"Sin Force\", \"Step Force\"]\n",
    "\n",
    "fig, figax = plt.subplots(1, 4, figsize=(20, 10), sharey='row')\n",
    "T = 1\n",
    "N = 200\n",
    "K = 2\n",
    "\n",
    "#Put your code here\n",
    "for i in range(len(forces)):\n",
    "    Force = forces[i]\n",
    "    #Calculate the forces using the force function (Plot the results)\n",
    "    TimePoints, ForceArray = plotForce(Force, T, N, plot=True)\n",
    "\n",
    "    # Initialize model inputs\n",
    "    K=2 #Spring Constant\n",
    "\n",
    "    # solve the problem and save the results in Xs (of size N+1)\n",
    "    Xs = Spring_Displacement(Force, K, T, N)\n",
    "\n",
    "    # Plot X and F Versus Time, On top of the applied External Force.\n",
    "    figax[i].plot(TimePoints, Xs, label = \"Spring Displacement\")\n",
    "    figax[i].legend()\n",
    "    figax[i].set_xlabel('time') #note the name change in this function\n",
    "    figax[i].set_ylabel('Displacment and Force')    #note the name change in this function\n",
    "    figax[i].grid(True)"
   ]
  },
  {
   "cell_type": "markdown",
   "metadata": {},
   "source": [
    "&#9989; Do This: Fix the bug in the above code."
   ]
  },
  {
   "cell_type": "markdown",
   "metadata": {},
   "source": [
    "----\n",
    "\n",
    "# 4. Newtonian DashPots (Viscous Model)\n",
    "\n",
    "[A Newtonian Dashpot](https://en.wikipedia.org/wiki/Dashpot)\n",
    "\n",
    "\n",
    "<img src=\"http://pocketdentistry.com/wp-content/uploads/285/f04-08-9781845695293.jpg\" width=400px />\n",
    "\n",
    "Newtonian dashpots are popular models to represent the dissipation and energy loss via viscous mechanism in physical systems. This time, the corresponding (viscous) force F in a Newtonian dashpot is modeled again **linearly** with respect to displacement X as\n",
    "\n",
    "\\begin{equation}\n",
    "F =  C \\frac{dx}{dt}\n",
    "\\end{equation}\n",
    "\n",
    "where $\\frac{dx}{dt}$ denotes the first derivative of the displacement X with respect to time $t$, $C$ represents a **physical constant** (assumed to be constant in an ideal case), and is related to the **viscosity** of the fluid. You can see that the bigger $C$ the bigger the resisting viscous force!     "
   ]
  },
  {
   "cell_type": "markdown",
   "metadata": {},
   "source": [
    "\n",
    "**Review:** Suppose that F(t) is given function where t is between 0 and some final time T. In order to numerically solve for the displacement $X(t)$ we employ the following finite-difference scheme on a time-grid $t = i\\Delta t, \\quad \\Delta t = T/K$, where $N$ represents the total number of time-steps, and $\\Delta t$ is the small time-interval between the two time-steps $t-1$ and $t$:\n",
    "\n",
    "\\begin{equation}\n",
    "C \\frac{dX}{dt} \\approx C \\frac{X(t) - X(t-1)}{\\Delta t} = F(t)  \\quad\n",
    "\\end{equation}\n",
    "\n",
    "Otherwords:\n",
    "\n",
    "\n",
    "\\begin{equation}\n",
    "X(t) = \\frac{\\Delta t}{C}F(t) + X(t-1) \\quad\n",
    "\\end{equation}\n",
    "\n",
    "in which $F(t)$ is the evaluation of the forcing function $F$ at time $t$. \n",
    "\n",
    "We can then write a function for this force and plot it:"
   ]
  },
  {
   "cell_type": "code",
   "execution_count": null,
   "metadata": {
    "collapsed": true
   },
   "outputs": [],
   "source": [
    "def Viscous_Displacement(C,F,x0,N,T):\n",
    "    '''Function to calculate the Viscous displacement for a dashpot\n",
    "    with Viscosity C; starting at location x0; over time interval T with N samples \n",
    "    and the input force function F(t,T)'''\n",
    "    x = np.zeros(N+1)\n",
    "    dt = T/N #change in time\n",
    "    x[0] = x0\n",
    "    for i in range(1,N+1):\n",
    "        time = i*dt\n",
    "        x[i] = (dt/C)*F(time, T)+x[i-1]  \n",
    "    return x "
   ]
  },
  {
   "cell_type": "code",
   "execution_count": null,
   "metadata": {
    "collapsed": true
   },
   "outputs": [],
   "source": [
    "#Force Inputs\n",
    "T=1\n",
    "N = 200\n",
    "Force = Sin_Force\n",
    "\n",
    "TimePoints, ForceArray = plotForce(Force, T, N, plot=False)\n",
    "\n",
    "# Initialize the inputs\n",
    "C=1/10   \n",
    "\n",
    "# solve the problem and save the results in Xs (of size N+1)\n",
    "Xv = Viscous_Displacement(C,Force,0,N,T)\n",
    "\n",
    "# X and F Versus Time\n",
    "plt.plot(TimePoints, ForceArray, label = \"Applied External Force\")\n",
    "plt.plot(TimePoints, Xv, label = \"Viscous Displacement\")\n",
    "plt.legend()\n",
    "plt.xlabel('time')\n",
    "plt.grid(True)"
   ]
  },
  {
   "cell_type": "markdown",
   "metadata": {},
   "source": [
    "&#9989; **DO This:**  Plot all four different Force models (Constant, linear, Sin and Step).  Show the graphs below. "
   ]
  },
  {
   "cell_type": "code",
   "execution_count": null,
   "metadata": {
    "collapsed": true
   },
   "outputs": [],
   "source": [
    "# Put your code here"
   ]
  },
  {
   "cell_type": "markdown",
   "metadata": {},
   "source": [
    "----\n",
    "# 5. More Git practice: Git repository \"Round Robin\"\n",
    "**If time allows**, work through this activity. In this activity you'll be continuing to play around with Git and to get some practice for future homeworks."
   ]
  },
  {
   "cell_type": "markdown",
   "metadata": {},
   "source": [
    "**Step 1:** Go to [http://github.com/]() individually create a git repository.  Call this repository USERNAME_git_test where USERNAME is your MSUNetID. **Important**: if you haven't gained access to the GitHub [Student Pack](https://education.github.com/pack) yet, make sure to submit that request now."
   ]
  },
  {
   "cell_type": "markdown",
   "metadata": {},
   "source": [
    "<font size=6 color=\"#009600\">&#9998;</font> Note any problems you had with the above step (or any questions) here."
   ]
  },
  {
   "cell_type": "markdown",
   "metadata": {},
   "source": [
    "**Step 2:** Clone the repository into your CMSE202/repositories directory. The repository is probably still empty so you will get a warning."
   ]
  },
  {
   "cell_type": "markdown",
   "metadata": {},
   "source": [
    "<font size=6 color=\"#009600\">&#9998;</font> Note any problems you had with the above step (or any questions) here."
   ]
  },
  {
   "cell_type": "markdown",
   "metadata": {},
   "source": [
    "**Step 3:** Create a new text file (Name the file README.md or README.txt) inside of the repository folder. Include the following information in the readme file:\n",
    "\n",
    "* Name\n",
    "* Email Address\n",
    "* What is your major? \n",
    "* What year are you in School?\n",
    "* Where are you from?\n",
    "* What is your programming background?\n"
   ]
  },
  {
   "cell_type": "markdown",
   "metadata": {},
   "source": [
    "<font size=6 color=\"#009600\">&#9998;</font> Note any problems you had with the above step (or any questions) here."
   ]
  },
  {
   "cell_type": "markdown",
   "metadata": {},
   "source": [
    "**Step 4:** Add and commit the change to your repository.  Make sure you push the change to the central repository. "
   ]
  },
  {
   "cell_type": "markdown",
   "metadata": {},
   "source": [
    "<font size=6 color=\"#009600\">&#9998;</font> Note any problems you had with the above step (or any questions) here."
   ]
  },
  {
   "cell_type": "markdown",
   "metadata": {},
   "source": [
    "**Step 5:** Check the website and make sure you see the file and can access it. "
   ]
  },
  {
   "cell_type": "markdown",
   "metadata": {},
   "source": [
    "<font size=6 color=\"#009600\">&#9998;</font> Note any problems you had with the above step (or any questions) here."
   ]
  },
  {
   "cell_type": "markdown",
   "metadata": {},
   "source": [
    "**Step 6:** Add 2 of your groupmates and the instructors to the project using the web interface. To do this, go to the repository settings tab and look for the section labeled \"Collaborators & teams\". Make sure that each collaborator has \"Write\" access."
   ]
  },
  {
   "cell_type": "markdown",
   "metadata": {},
   "source": [
    "<font size=6 color=\"#009600\">&#9998;</font> Note any problems you had with the above step (or any questions) here."
   ]
  },
  {
   "cell_type": "markdown",
   "metadata": {},
   "source": [
    "**Step 7:** Have you groupmates clone your repository and clone the repositories that you've been added to."
   ]
  },
  {
   "cell_type": "markdown",
   "metadata": {},
   "source": [
    "<font size=6 color=\"#009600\">&#9998;</font> Note any problems you had with the above step (or any questions) here."
   ]
  },
  {
   "cell_type": "markdown",
   "metadata": {},
   "source": [
    "**Step 8:** Add your name and email address to the next available line in the README file for each of your groupmates repositories. "
   ]
  },
  {
   "cell_type": "markdown",
   "metadata": {},
   "source": [
    "<font size=6 color=\"#009600\">&#9998;</font> Note any problems you had with the above step (or any questions) here."
   ]
  },
  {
   "cell_type": "markdown",
   "metadata": {},
   "source": [
    "**Step 9:** Add and Commit your change to the server.  NOTE: this step may be tricky if more then one member of the group tries to change the same file at the same time.  This happens often when working with Git repositories! Your job is to manage the file conflicts."
   ]
  },
  {
   "cell_type": "markdown",
   "metadata": {},
   "source": [
    "<font size=6 color=\"#009600\">&#9998;</font> Note any problems you had with the above step (or any questions). Here."
   ]
  },
  {
   "cell_type": "markdown",
   "metadata": {},
   "source": [
    "**Step 10:** Do a git pull for all of your repositories.  If done correctly, each repository will have the names and emails for all of the team members in the README file.  "
   ]
  },
  {
   "cell_type": "markdown",
   "metadata": {},
   "source": [
    "<font size=6 color=\"#009600\">&#9998;</font> Note any problems you had with the above step (or any questions). Here."
   ]
  },
  {
   "cell_type": "markdown",
   "metadata": {},
   "source": [
    "**Question:** What command(s) should the instructor use to download your group repositories? "
   ]
  },
  {
   "cell_type": "markdown",
   "metadata": {},
   "source": [
    "<font size=8 color=\"#009600\">&#9998;</font> Do This - Erase the contents of this cell and replace it with your answer to the above question!  (double-click on this text to edit this cell, and hit shift+enter to save the text)"
   ]
  },
  {
   "cell_type": "markdown",
   "metadata": {},
   "source": [
    "---\n",
    "# 6. Assignment wrap-up!\n",
    "\n",
    "Fill out the following Google form before submitting your notebook to D2L!"
   ]
  },
  {
   "cell_type": "code",
   "execution_count": null,
   "metadata": {
    "collapsed": true
   },
   "outputs": [],
   "source": [
    "from IPython.display import HTML\n",
    "HTML(\n",
    "\"\"\"\n",
    "<iframe \n",
    "\tsrc=\"https://goo.gl/forms/noAwoJd9pEj7A1su1\" \n",
    "\twidth=\"800px\" \n",
    "\theight=\"600px\" \n",
    "\tframeborder=\"0\" \n",
    "\tmarginheight=\"0\" \n",
    "\tmarginwidth=\"0\">\n",
    "\tLoading...\n",
    "</iframe>\n",
    "\"\"\"\n",
    ")\n"
   ]
  },
  {
   "cell_type": "markdown",
   "metadata": {},
   "source": [
    "---------\n",
    "### Congratulations, you're done with your in-class assignment!\n",
    "\n",
    "Now, you just need to submit this assignment by uploading it to the course Desire2Learn web page (Don't forget to add your name in the first cell). "
   ]
  },
  {
   "cell_type": "markdown",
   "metadata": {},
   "source": [
    "&#169; Copyright 2016,  Michigan State University Board of Trustees"
   ]
  }
 ],
 "metadata": {
  "anaconda-cloud": {},
  "kernelspec": {
   "display_name": "Python 3",
   "language": "python",
   "name": "python3"
  },
  "language_info": {
   "codemirror_mode": {
    "name": "ipython",
    "version": 3
   },
   "file_extension": ".py",
   "mimetype": "text/x-python",
   "name": "python",
   "nbconvert_exporter": "python",
   "pygments_lexer": "ipython3",
   "version": "3.7.1"
  }
 },
 "nbformat": 4,
 "nbformat_minor": 2
}
