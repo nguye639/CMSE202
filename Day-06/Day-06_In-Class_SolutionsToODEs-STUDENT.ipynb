{
 "cells": [
  {
   "cell_type": "markdown",
   "metadata": {},
   "source": [
    "**<p style=\"text-align: right;\"> &#9989; Put your names here <br> And put your chosen/assigned system here. </p>**"
   ]
  },
  {
   "cell_type": "markdown",
   "metadata": {},
   "source": [
    "# Day 6 In-Class Assignment: Solutions to ODES"
   ]
  },
  {
   "cell_type": "markdown",
   "metadata": {},
   "source": [
    "## Review of Pre-class\n",
    "\n",
    "Discuss the following with your table.\n",
    "\n",
    "* What kind of problems do you think the Euler Method is a good solver?\n",
    "\n",
    "&#9989; Do This -  Write your disussion notes here.\n",
    "\n",
    "* What kind of problems do you think the extra cost and effort associated with the Midpoint method pays off?\n",
    "\n",
    "&#9989; Do This -  Write your disussion notes here.\n",
    "\n",
    "* Think of something related to your major/ research interest that might be modeled by an ODE that should be solved numerically. \n",
    "\n",
    "&#9989; Do This -  Write your disussion notes here.\n"
   ]
  },
  {
   "cell_type": "markdown",
   "metadata": {},
   "source": [
    "## Inquiry-based investigation of numerical solutions to ODEs"
   ]
  },
  {
   "cell_type": "markdown",
   "metadata": {},
   "source": [
    "In today's class you'll be working in groups to collaboratively write a program that creates a solution to the system that's been assigned to your group.  The system assignments are based on the shared interests between you and your group mates. Your goal is to make a fully functional model of the system and explore the advantages and limitations of your chosen solution method.\n",
    "\n",
    "During the activity, the instructors will be there to facilitate your progress and ensure that you reached the intended learning outcomes. A reminder: getting \"stuck\" or feeling frustrated along the way is a normal part of the inquiry process. In fact, much of what we've already been doing in this course includes elements of inquiry-based learning. Normally, when you start to feel frustrated it means you're at the boundary of your current knowledge and about to achieve a breakthrough.\n",
    "\n",
    "---\n",
    "### Investigation Schedule\n",
    "\n",
    "Our plan for the activity is as follows:\n",
    "\n",
    "**Day 1:**\n",
    "1. Brainstorming with your partner (**15 minutes**, no coding allowed!)\n",
    "2. Pseudocoding and planning session (**30 minutes**, use the whiteboards!!!, no formal coding, you can use stub functions if you wish)\n",
    "3. Investigation time (**50 minutes**, coding time!)\n",
    "4. Day 1 Wrap-up (**15 minutes**, record progress in your notebook and upload to D2L)\n",
    "\n",
    "**Day 2:**\n",
    "1. Investigation time (**50 minutes**, coding time!)\n",
    "2. Day 2 Jigsaw Preparation (**20 minutes**, review the \"jigsaw\" document)\n",
    "3. Culminating Assessment Task (**30 minutes**, share your results with other groups and present completed notebook)\n",
    "4. Synthesis (**10 minutes**, review what we collectively learned)"
   ]
  },
  {
   "cell_type": "markdown",
   "metadata": {},
   "source": [
    "---\n",
    "# Day 1\n",
    "\n",
    "## Brainstorming\n",
    "\n",
    "Spend ~10-15 minutes dicussing the nature of your system with your group and discuss what you think you'll need to go. Record your thoughts in a Markdown cell below this one."
   ]
  },
  {
   "cell_type": "markdown",
   "metadata": {},
   "source": []
  },
  {
   "cell_type": "markdown",
   "metadata": {},
   "source": [
    "## Planning session\n",
    "\n",
    "Use the white boards and write psuedocode to plan out what your program needs to do. Feel free to include stub functions here. Don't spend more than ~30 minutes on this.\n",
    "\n",
    "**Note**: The goal for this activity is not to use a pre-written package to solve the problem. Instead you should work out a solution on your own."
   ]
  },
  {
   "cell_type": "markdown",
   "metadata": {},
   "source": []
  },
  {
   "cell_type": "code",
   "execution_count": 1,
   "metadata": {
    "collapsed": true
   },
   "outputs": [],
   "source": [
    "# Stub functions can go here"
   ]
  },
  {
   "cell_type": "markdown",
   "metadata": {},
   "source": [
    "## Carry out Investigations\n",
    "\n",
    "Write your code here! You have until the last 10-15 minutes of class for this part."
   ]
  },
  {
   "cell_type": "code",
   "execution_count": 2,
   "metadata": {
    "collapsed": true
   },
   "outputs": [],
   "source": [
    "# CODE GOES HERE"
   ]
  },
  {
   "cell_type": "markdown",
   "metadata": {},
   "source": [
    "## Day 1 Wrap-up\n",
    "\n",
    "Write a summary about where your team is at in the process. Come up with a plan for what you need to do during the next class period. Document anywhere you might be stuck and uncertain about how to move forward."
   ]
  },
  {
   "cell_type": "markdown",
   "metadata": {},
   "source": []
  },
  {
   "cell_type": "markdown",
   "metadata": {},
   "source": [
    "---\n",
    "# Day 2\n",
    "\n",
    "## Investigations continued...\n",
    "\n",
    "More coding! You have ~50 minutes for this."
   ]
  },
  {
   "cell_type": "markdown",
   "metadata": {},
   "source": [
    "## Prepare for Jigsaw\n",
    "\n",
    "Download the \"Jigsaw\" directions from D2L and make sure that you understand the expectations for you presentation and have a completed jupyter notebook ready to go. Make sure you include all of the components outlined in the directions. You have ~20 minutes for this. Make sure your plots are all within your notebook. You can even reproduce them here. Make sure the plots are informative! **Make sure that every member of your group has a copy of the final notebook and related plots.**"
   ]
  },
  {
   "cell_type": "code",
   "execution_count": 4,
   "metadata": {
    "collapsed": true
   },
   "outputs": [],
   "source": [
    "# PLOT CODE GOES HERE"
   ]
  },
  {
   "cell_type": "markdown",
   "metadata": {},
   "source": [
    "## Present your solution to others in the Jigsaw groups\n",
    "\n",
    "You'll have a few minutes to share per team."
   ]
  },
  {
   "cell_type": "markdown",
   "metadata": {},
   "source": [
    "## Assignment Wrap-up!\n",
    "\n",
    "We'll review the progress everyone made in class and discuss the topics covered. Submit your completed notebook to D2L!"
   ]
  }
 ],
 "metadata": {
  "kernelspec": {
   "display_name": "Python 3",
   "language": "python",
   "name": "python3"
  },
  "language_info": {
   "codemirror_mode": {
    "name": "ipython",
    "version": 3
   },
   "file_extension": ".py",
   "mimetype": "text/x-python",
   "name": "python",
   "nbconvert_exporter": "python",
   "pygments_lexer": "ipython3",
   "version": "3.6.7"
  }
 },
 "nbformat": 4,
 "nbformat_minor": 2
}
