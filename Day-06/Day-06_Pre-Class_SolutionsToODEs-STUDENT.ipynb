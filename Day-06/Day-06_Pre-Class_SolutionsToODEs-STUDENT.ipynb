{
 "cells": [
  {
   "cell_type": "markdown",
   "metadata": {
    "slideshow": {
     "slide_type": "-"
    }
   },
   "source": [
    "## <p style=\"text-align: right;\"> &#9989; Put your name here </p>\n"
   ]
  },
  {
   "cell_type": "markdown",
   "metadata": {
    "slideshow": {
     "slide_type": "-"
    }
   },
   "source": [
    "# Day 6 Pre-Class Assignment\n",
    "# Inquiry-based investigations of numerical solutions to ordinary differential equations"
   ]
  },
  {
   "cell_type": "markdown",
   "metadata": {
    "slideshow": {
     "slide_type": "-"
    }
   },
   "source": [
    "---\n",
    "## Learning goals for this pre-class assignment \n",
    "\n",
    "1. Understand the nature of inquiry-based learning\n",
    "1. Be able to explain how to find a numerical solution to an ordinary differential equation. \n",
    "1. Think about systems that can be modeled using solutions to ordinary differential equations.\n",
    "1. Brainstorm what you would have to do in order to model such systems."
   ]
  },
  {
   "cell_type": "markdown",
   "metadata": {},
   "source": [
    "## Assignment instructions\n",
    "**This assignment is due by 11:59 p.m. the day before class** and should be uploaded into the appropriate \"Pre-class assignments\" dropbox folder in the Desire2Learn website. "
   ]
  },
  {
   "cell_type": "markdown",
   "metadata": {},
   "source": [
    "-------------\n",
    "# 1. Inquiry-based learning \n",
    "\n",
    "What is inquiry-based learning? The concept behind inquiry-based learning is that you take control of your learning process and pursue a question or activity that you are personally interested in while still staying within the bounds of the course content. In order to accomplish this, the learning process is left intentionally open-ended and the instructor serves primarily as a facilitator who helps to guide you to the desired learning outcomes rather than someone who's just there to give you the answers.\n",
    "\n",
    "While this style of learning provides tremendous freedom in how you go about reaching the learning goals of the activity, it can also feel a bit unusual and can occasionally lead to feelings of frustration. This frustration can stem from feeling like you don't know where you're headed in the activity, but it can also be an indicator that you're pushing the current bounds of your knowledge and you're about to make a breakthrough in your understanding of the material.\n",
    "\n",
    "Inquiry-based learning is more closely aligned with the nature of most research environments than many of the more traditional ways of learning. When doing research, you rarely know what the right answer is and it's up to you determine what question you want to answer and how you want to go about answering it. Like research, there is often no one path to the \"right answer\" when carrying out an inquiry-based invesigation. This requires that you stay engaged in the learning process and ask yourself if the work you're doing is serving to answer the question you set out to investigate.\n",
    "\n",
    "For this particular inquiry-based investigation, we'll be working on creating numerical solutions to ordinary differential equations."
   ]
  },
  {
   "cell_type": "markdown",
   "metadata": {},
   "source": [
    "-----\n",
    "# 2. Numerical Solutions to Ordinary Differential Equations (ODEs)\n",
    "\n",
    "Watch the video below for a short introduction to numerical solutions to ODEs."
   ]
  },
  {
   "cell_type": "code",
   "execution_count": null,
   "metadata": {},
   "outputs": [],
   "source": [
    "from IPython.display import YouTubeVideo\n",
    "YouTubeVideo(\"igdoiqEROXI\",width=640,height=360)"
   ]
  },
  {
   "cell_type": "markdown",
   "metadata": {},
   "source": [
    "**Video Follow-up**: The video mentions two possible methods for solving an ordinary differential equation, the Euler Method and the Midpoint Method. There are actually a number of different methods for solving such equations. You should spend some time reading the following links to learn a bit more about the numerical methods used to solve ODEs and think about how you might go about turning these methods into code.\n",
    "\n",
    "General details on numerical methods: https://en.wikipedia.org/wiki/Numerical_methods_for_ordinary_differential_equations \n",
    "\n",
    "Details on linear multi-step methods:\n",
    "https://en.wikipedia.org/wiki/Linear_multistep_method\n",
    "\n",
    "Details on Runge-Kutta methods (some of the most commonly used methods):\n",
    "https://en.wikipedia.org/wiki/Runge%E2%80%93Kutta_methods\n",
    "\n",
    "Feel free to explore sources of information outside of Wikipedia as well."
   ]
  },
  {
   "cell_type": "markdown",
   "metadata": {},
   "source": [
    "---\n",
    "# 3. Gallery of systems that can be solved using solutions to ODEs\n",
    "\n",
    "When you pulled the newest changes from the course repository, you also received a PDF that contains a variety of systems that can all be modeled with ODEs. In your investigation, you'll be asked to work with a partner in order to write a program that will allow you to model the system and understand a bit about the nature of the numerical methods we can use for these sorts of thing.\n",
    "\n",
    "**Task**: Navigate to the \"Day-06\" directory of your \"assignments\" repository and open the PDF called \"CMSE202_SystemsOfODEs.pdf\". Review the various systems that are presented. You'll be expected to model at least one of these systems during your investigation, so while you're reading about them, think about which ones you're interested in. You'll indicate your interest in the Google Form included in the next section. \n",
    "\n",
    "**Note**: When possible, try to pick a system that you haven't modeled before. If you've modeled all of the systems, just pick the one you're most interested in."
   ]
  },
  {
   "cell_type": "markdown",
   "metadata": {},
   "source": [
    "----\n",
    "# 4. Reflecting and Brainstorming\n",
    "\n",
    "Please fill out the form that appears when you run the code below.  **You must completely fill this out in order to receive credit for the assignment!**"
   ]
  },
  {
   "cell_type": "code",
   "execution_count": null,
   "metadata": {},
   "outputs": [],
   "source": [
    "from IPython.display import HTML\n",
    "HTML(\n",
    "\"\"\"\n",
    "<iframe \n",
    "\tsrc=\"https://goo.gl/forms/BLb1Yos8xtVs5iJe2\" \n",
    "\twidth=\"800px\" \n",
    "\theight=\"600px\" \n",
    "\tframeborder=\"0\" \n",
    "\tmarginheight=\"0\" \n",
    "\tmarginwidth=\"0\">\n",
    "\tLoading...\n",
    "</iframe>\n",
    "\"\"\"\n",
    ")"
   ]
  },
  {
   "cell_type": "markdown",
   "metadata": {},
   "source": [
    "---------\n",
    "### Congratulations, you're done with your pre-class assignment!\n",
    "\n",
    "Now, you just need to submit this assignment by uploading it to the course <a href=\"https://d2l.msu.edu/\">Desire2Learn</a> web page for today's submission folder (Don't forget to add your name in the first cell)."
   ]
  },
  {
   "cell_type": "markdown",
   "metadata": {},
   "source": [
    "&#169; Copyright 2018,  Michigan State University Board of Trustees"
   ]
  }
 ],
 "metadata": {
  "anaconda-cloud": {},
  "kernelspec": {
   "display_name": "Python 3",
   "language": "python",
   "name": "python3"
  },
  "language_info": {
   "codemirror_mode": {
    "name": "ipython",
    "version": 3
   },
   "file_extension": ".py",
   "mimetype": "text/x-python",
   "name": "python",
   "nbconvert_exporter": "python",
   "pygments_lexer": "ipython3",
   "version": "3.7.1"
  }
 },
 "nbformat": 4,
 "nbformat_minor": 2
}
