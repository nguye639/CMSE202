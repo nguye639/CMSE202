{
 "cells": [
  {
   "cell_type": "markdown",
   "metadata": {
    "slideshow": {
     "slide_type": "-"
    }
   },
   "source": [
    "### <p style=\"text-align: right;\"> &#9989; **Put your name here** </p>\n",
    "#### <p style=\"text-align: right;\"> &#9989; Put your group member names here</p>"
   ]
  },
  {
   "cell_type": "markdown",
   "metadata": {
    "slideshow": {
     "slide_type": "-"
    }
   },
   "source": [
    "# Day 8 In-class Assignment: Installing Python Packages and Plotting with Maps in Python\n",
    "\n",
    "What if you wanted to make a map like the one below? How would you go about doing it using Python? Perhaps someone else already created a Python package that you could use!\n",
    "\n",
    "<img src=\"http://www.270towin.com/presidential_map_new/maps/gv32O.png\" width=\"60%\">"
   ]
  },
  {
   "cell_type": "markdown",
   "metadata": {
    "slideshow": {
     "slide_type": "-"
    }
   },
   "source": [
    "### Agenda for today's class\n",
    "\n",
    "</p>\n",
    "\n",
    "1. Reminder and Review:\n",
    "    - Reminder: Homework due Friday at midnight!\n",
    "    - Questions about pre-class assignment?\n",
    "1. Getting data from the web\n",
    "1. Practice with `pip`\n",
    "1. Visualizing data with maps"
   ]
  },
  {
   "cell_type": "markdown",
   "metadata": {},
   "source": [
    "----\n",
    "# 1. Reminder and Review\n",
    "\n",
    "**Reminder**: Homework #2 is due Friday night at midnight!\n",
    "\n",
    "**Review**: Any questions about the pre-class assignment?"
   ]
  },
  {
   "cell_type": "markdown",
   "metadata": {},
   "source": [
    "----\n",
    "\n",
    "# 2. Getting data from the web\n",
    "For this assignment we need to download a couple of data files.  Here are direct links to the files:\n",
    "\n",
    "https://raw.githubusercontent.com/wrobstory/vincent/master/examples/data/US_Unemployment_Oct2012.csv\n",
    "\n",
    "https://raw.githubusercontent.com/python-visualization/folium/master/examples/data/us-states.json\n",
    "\n",
    "We need to figure out a way to get a copy of these files into your `assignments` repository.  You could just download them to your desktop or downloads folder and then move them to the right place, but there's a better way! Let's use the `curl` terminal command we learned in the pre-class assignment instead. \n",
    "\n",
    "***Hint***: This time we are going to use a trick.  You can actually run terminal commands from inside python. All you need to do is add the \"!\" to the beginning of your command. \n",
    "\n",
    "**&#9989; Do This:** Try it out -- run the `ls -la` command by using the following python code:"
   ]
  },
  {
   "cell_type": "code",
   "execution_count": null,
   "metadata": {
    "scrolled": true
   },
   "outputs": [],
   "source": [
    "!ls -la"
   ]
  },
  {
   "cell_type": "markdown",
   "metadata": {},
   "source": [
    "**&#9989; Do This:** Now download the two data files we need for class using the `curl` command prefaced by the python terminal command (!). **Important**: you want to make sure that curl downloads and saves the file on to your computer, but by default it will just print the contents of the file to the screen. You should have figured out how to save it in you pre-class assignment!"
   ]
  },
  {
   "cell_type": "code",
   "execution_count": null,
   "metadata": {},
   "outputs": [],
   "source": [
    "# Put your code here\n"
   ]
  },
  {
   "cell_type": "markdown",
   "metadata": {},
   "source": [
    "**&#9989; Do This:** As a group inspect the two new files.  \n",
    "\n",
    "**Question :** What types of files are they? What type of data do they seem to contain?  Be prepared to share your answers with the class."
   ]
  },
  {
   "cell_type": "markdown",
   "metadata": {},
   "source": [
    "<font size=8 color=\"#009600\">&#9998;</font> Do This - Erase the contents of this cell and replace it with your answer to the above question!  (double-click on this text to edit this cell, and hit shift+enter to save the text)"
   ]
  },
  {
   "cell_type": "markdown",
   "metadata": {},
   "source": [
    "**&#9989; Do This:** Figure out how to load the US_Unemployment_Oct2012.csv into python.  What libraries did you use?"
   ]
  },
  {
   "cell_type": "code",
   "execution_count": null,
   "metadata": {},
   "outputs": [],
   "source": [
    "#Put your code here. \n"
   ]
  },
  {
   "cell_type": "markdown",
   "metadata": {},
   "source": [
    "----\n",
    "# 3. Practice with `pip`\n",
    "\n",
    "Lets switch gears and talk about installing software.  Consider the following ```plotly``` package:\n",
    "\n",
    "\n",
    "[https://plot.ly/python/](https://plot.ly/python/)\n"
   ]
  },
  {
   "cell_type": "markdown",
   "metadata": {},
   "source": [
    "**Question:**  What does this package do?"
   ]
  },
  {
   "cell_type": "markdown",
   "metadata": {},
   "source": [
    "<font size=8 color=\"#009600\">&#9998;</font> Do This - Erase the contents of this cell and replace it with your answer to the above question!  (double-click on this text to edit this cell, and hit shift+enter to save the text)"
   ]
  },
  {
   "cell_type": "markdown",
   "metadata": {},
   "source": [
    "**&#9989; Do This:** Install the `plotly` package using pip and the python terminal operator (!). You might run into issues as happens sometimes when install new packages. It might also take a bit of time for the package to install. If you run into issues, get help from your group mates to the instructors."
   ]
  },
  {
   "cell_type": "code",
   "execution_count": null,
   "metadata": {},
   "outputs": [],
   "source": [
    "#Put your code here\n"
   ]
  },
  {
   "cell_type": "markdown",
   "metadata": {},
   "source": [
    "**&#9989; Do This:** Read through the documentation for running `plotly` in offline more and try to get an example to successfully run in your notebook. Make sure to help your group mates to get it working!"
   ]
  },
  {
   "cell_type": "code",
   "execution_count": null,
   "metadata": {},
   "outputs": [],
   "source": [
    "#Put your example code here\n"
   ]
  },
  {
   "cell_type": "markdown",
   "metadata": {},
   "source": [
    "----\n",
    "# 4. Visualizing data with maps\n",
    "\n",
    "Finding good ways to create map visualizations in Python can be tricky. This part of the assignment will be particularly useful for a graph theory activity we'll do next week!\n",
    "\n",
    "**&#9989; Do This:** Debug the following example code. Show all of your work (i.e. Make sure you show any terminal commands you used)"
   ]
  },
  {
   "cell_type": "code",
   "execution_count": null,
   "metadata": {
    "scrolled": false
   },
   "outputs": [],
   "source": [
    "%matplotlib inline \n",
    "\n",
    "import folium\n",
    "map_msu = folium.Map(location=[42.7284006,-84.4804778])\n",
    "folium.Marker([42.7284006,-84.4804778], popup='MSU').add_to(map_msu)\n",
    "map_msu\n"
   ]
  },
  {
   "cell_type": "markdown",
   "metadata": {},
   "source": [
    "**Question:** What does the above example do?  "
   ]
  },
  {
   "cell_type": "markdown",
   "metadata": {},
   "source": [
    "<font size=8 color=\"#009600\">&#9998;</font> Do This - Erase the contents of this cell and replace it with your answer to the above question!  (double-click on this text to edit this cell, and hit shift+enter to save the text)"
   ]
  },
  {
   "cell_type": "markdown",
   "metadata": {},
   "source": [
    "**Question:** Assuming we did everything up to this point correctly, what does the following code do? *Warning*: there may be a bug in the code!"
   ]
  },
  {
   "cell_type": "code",
   "execution_count": null,
   "metadata": {
    "scrolled": false
   },
   "outputs": [],
   "source": [
    "import folium\n",
    "import pandas as pd\n",
    "\n",
    "state_geo = r'./us-states.json'\n",
    "state_unemployment = r'./US_Unemployment_Oct2012.csv'\n",
    "\n",
    "state_data = pd.read_csv(state_unemployment)\n",
    "\n",
    "#Let Folium determine the scale\n",
    "map = folium.Map(location=[48, -102], zoom_start=3)\n",
    "map.choropleth(geo_path=state_geo, data=state_data,\n",
    "             columns=['State', 'Unemployment'],\n",
    "             key_on='feature.id',\n",
    "             fill_color='YlOrRd', fill_opacity=0.7, line_opacity=0.2,\n",
    "             legend_name='Unemployment Rate (%)', smooth_factor=0.1,highlight=True)\n",
    "\n",
    "map"
   ]
  },
  {
   "cell_type": "markdown",
   "metadata": {},
   "source": [
    "<font size=8 color=\"#009600\">&#9998;</font> Do This - Erase the contents of this cell and replace it with your answer to the above question!  (double-click on this text to edit this cell, and hit shift+enter to save the text)"
   ]
  },
  {
   "cell_type": "markdown",
   "metadata": {},
   "source": [
    "**&#9989; Do This:** Modify the above code so that the state colors range from green to blue.  "
   ]
  },
  {
   "cell_type": "markdown",
   "metadata": {},
   "source": [
    "**Question:** What other colors are avaliable in the folium library?"
   ]
  },
  {
   "cell_type": "markdown",
   "metadata": {},
   "source": [
    "<font size=8 color=\"#009600\">&#9998;</font> Do This - Erase the contents of this cell and replace it with your answer to the above question!  (double-click on this text to edit this cell, and hit shift+enter to save the text)"
   ]
  },
  {
   "cell_type": "markdown",
   "metadata": {},
   "source": [
    "**&#9989; Do This:** Think about some other ways that having a package like folium could be useful. Try to come up with at least three examples of scientific data being represented on a map. Include links to your examples below and explain what the data is trying to represent:"
   ]
  },
  {
   "cell_type": "markdown",
   "metadata": {},
   "source": [
    "<font size=8 color=\"#009600\">&#9998;</font> Do This - Erase the contents of this cell and replace it with your answer to the above question!  (double-click on this text to edit this cell, and hit shift+enter to save the text)"
   ]
  },
  {
   "cell_type": "markdown",
   "metadata": {},
   "source": [
    "### More than one way to make a map...\n",
    "\n",
    "Folium isn't the only Python package out there that can plot data on a map. For the remainder of today's class, spend some time finding other Python packages that can allow you to work with maps and data in Python. Some of the solutions you find might use modules you're already familiar with, some of them might use new modules. Explore the options and choose one that you want to try to get working.\n",
    "\n",
    "**&#9989; Do This:** In the cell below try to get an example working in your notebook using a package other than folium for plotting data on a map. Feel free to discuss any issues your run into with the rest of your group!"
   ]
  },
  {
   "cell_type": "markdown",
   "metadata": {},
   "source": [
    "----\n",
    "# Assignment Wrap-up\n",
    "\n",
    "Fill out the following Google Form before submitting your assignment to D2L!"
   ]
  },
  {
   "cell_type": "code",
   "execution_count": null,
   "metadata": {},
   "outputs": [],
   "source": [
    "from IPython.display import HTML\n",
    "HTML(\n",
    "\"\"\"\n",
    "<iframe \n",
    "\tsrc=\"https://goo.gl/forms/noAwoJd9pEj7A1su1\" \n",
    "\twidth=\"800px\" \n",
    "\theight=\"600px\" \n",
    "\tframeborder=\"0\" \n",
    "\tmarginheight=\"0\" \n",
    "\tmarginwidth=\"0\">\n",
    "\tLoading...\n",
    "</iframe>\n",
    "\"\"\"\n",
    ")"
   ]
  },
  {
   "cell_type": "markdown",
   "metadata": {},
   "source": [
    "-----\n",
    "### Congratulations, we're done!\n",
    "\n",
    "Now, you just need to submit this assignment by uploading it to the course <a href=\"https://d2l.msu.edu/\">Desire2Learn</a> web page for today's dropbox (Don't forget to add your name in the first cell)."
   ]
  },
  {
   "cell_type": "markdown",
   "metadata": {},
   "source": [
    "&#169; Copyright 2018,  Michigan State University Board of Trustees"
   ]
  }
 ],
 "metadata": {
  "anaconda-cloud": {},
  "kernelspec": {
   "display_name": "Python 3",
   "language": "python",
   "name": "python3"
  },
  "language_info": {
   "codemirror_mode": {
    "name": "ipython",
    "version": 3
   },
   "file_extension": ".py",
   "mimetype": "text/x-python",
   "name": "python",
   "nbconvert_exporter": "python",
   "pygments_lexer": "ipython3",
   "version": "3.7.1"
  }
 },
 "nbformat": 4,
 "nbformat_minor": 2
}
