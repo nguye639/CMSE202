{
 "cells": [
  {
   "cell_type": "markdown",
   "metadata": {},
   "source": [
    "## <p style=\"text-align: right;\"> &#9989; Put your name here</p>"
   ]
  },
  {
   "cell_type": "markdown",
   "metadata": {},
   "source": [
    "# Day 10 Pre-class Assignment: Graph Theory and Cell Towers\n",
    "\n",
    "In this pre-class assignment you will work to develop a program to generate a graph from a set of points on an XY-plane using the nearest neighbor graphing algorithm. This will set the stage for work that we will do in-class where you will work with your group to solve the problem of assigning cell phone tower frequencies"
   ]
  },
  {
   "cell_type": "markdown",
   "metadata": {},
   "source": [
    "## Goals for today's pre-class assignment\n",
    "\n",
    "1. Make a simple Graph Theory graph using matplotlib\n",
    "1. Create a function for finding the nearest neighbor for a given node in a graph.\n",
    "1. Experiment with the `networkx` module"
   ]
  },
  {
   "cell_type": "markdown",
   "metadata": {},
   "source": [
    "## Assignment instructions\n",
    "**This assignment is due by 11:59 p.m. the day before class** and should be uploaded into the appropriate \"Pre-class assignments\" dropbox folder in the Desire2Learn website.\n",
    "\n",
    "**Notes about the assignment**: The most important pieces of this assignment are Steps 1 and 2. Step 3 might be a bit challenging because you have to figure out the right syntax to get the NetworkX module to work. Feel free to discuss issues you run into with others on Slack. It's OK if you can't get Part 3 figured out before class as long as you've tried it. Make sure you complete the final part of the assignment where you're asked to come up with an outline for how you would solve the cell phone tower problem."
   ]
  },
  {
   "cell_type": "markdown",
   "metadata": {},
   "source": [
    "---\n",
    "# Defining the problem\n",
    "\n",
    "The signals from different cellphone towers that are close together can interfere.  \n",
    "\n",
    "<img src=\"http://2.bp.blogspot.com/-X7XJfnPb6xU/TjZfTmAd9CI/AAAAAAAAAF0/3eGarXigOQE/s1600/dido1.jpg\" width=\"50%\"><p style=\"text-align: right;\">From: http://www.onlivespot.com/2011/08/dido-wireless-technology-explained.html</p>\n",
    "\n",
    "In order to avoid this overlap cell phone companies use different frequency ranges in the Electromagnetic spectrum.  Two towers that are close together but have differences in frequencies (shown as colors, red/green/black in the following figure) do not cause nearly as much interference. \n",
    "\n",
    "<img src=\"http://2.bp.blogspot.com/-M4olRy6O-v4/TjZghvwq3KI/AAAAAAAAAF4/GtOd6Db-su4/s1600/dido2.jpg\" width = \"50%\"><p style=\"text-align: right;\">From:  http://www.onlivespot.com/2011/08/dido-wireless-technology-explained.html</p>\n",
    "\n",
    "However, cellphone towers are never distributed in such an even pattern.   Consider the following map which shows the location of cell towers around Michigan State. (Note: this map may have changed since the time it was first created.)\n",
    "\n",
    "<img src='https://i.imgur.com/oUuUDCH.jpg' width = \"50%\">\n",
    "<p style=\"text-align: right;\">From: http://www.antennasearch.com/</p>\n",
    "\n",
    "Another problem is that cellphone companies have to pay for each frequency range they use.  So they would like minimize the number of frequencies that they need to purchase while also minimizing the interference between the cell towers. \n",
    "\n",
    "Between this pre-class assignment and the assignment you'll do in class, we'll try to solve this cell phone tower problem using Graph Theory!"
   ]
  },
  {
   "cell_type": "markdown",
   "metadata": {},
   "source": [
    "# Step 1: Generate random cell towers. \n",
    "\n",
    "To start out, we're going to keep things simple and use artificial data to create our cell phone tower network. Specifically, we'll just populate a network of towers randomly.\n",
    "\n",
    "**Write a function** to randomly create a 2D numpy array with $N$ rows representing cell towers and 2 columns representing the $x$ (longitude) and $y$ (latitude) positions of the cell towers on a map. You may assume that the map is a 2D plane and not a sphere. You can also assume that the \"latitude\" and \"longitude\" values are all in the range of 0 to 1."
   ]
  },
  {
   "cell_type": "code",
   "execution_count": null,
   "metadata": {},
   "outputs": [],
   "source": [
    "# Put your code here."
   ]
  },
  {
   "cell_type": "markdown",
   "metadata": {},
   "source": [
    "Generate $N=50$ towers using your above function and plot the results as a scatter plot"
   ]
  },
  {
   "cell_type": "code",
   "execution_count": null,
   "metadata": {},
   "outputs": [],
   "source": [
    "# Put your code here."
   ]
  },
  {
   "cell_type": "markdown",
   "metadata": {},
   "source": [
    "# Step 2: Nearest Neighbor Graph\n",
    "Next **write a function that returns an adjacency list** (implemented as a dictionary of lists) from this set of points using the Nearest Neighbor Graph algorithm.  More information about the algorithm can be found here:\n",
    "\n",
    "https://en.wikipedia.org/wiki/Nearest_neighbor_graph\n",
    "\n",
    "Basically the algorithm should loop though all of the points and find the nearest neighbor to each point. To do this, you can use the `distance` function that is provide below, or you can take your own approach."
   ]
  },
  {
   "cell_type": "code",
   "execution_count": null,
   "metadata": {},
   "outputs": [],
   "source": [
    "import math\n",
    "# Function for computing the distance between two points\n",
    "def distance(p1,p2):\n",
    "    '''Returns the distance betwen two numpy points'''\n",
    "    return math.sqrt((p1[0] - p2[0])**2 + (p1[1] - p2[1])**2)\n",
    "\n",
    "# Put your nearest neighbor graph function here"
   ]
  },
  {
   "cell_type": "markdown",
   "metadata": {},
   "source": [
    "Run your nearest neighbor graphing function on the points you generated in step 1.  Generate a plot of the points and include the \n",
    "edges of the graph. Your plot should look something like the following:\n",
    "\n",
    "<img src=\"https://i.imgur.com/WRgQ7UQ.png\">\n"
   ]
  },
  {
   "cell_type": "markdown",
   "metadata": {},
   "source": [
    "# Step 3: Graph Coloring\n",
    "\n",
    "Now that we have a graph representing the towers closest to each other. Once thing that we can do is apply a graph coloring algorithm.  The colors will represent the frequencies.  We want to minimize the number of colors used and we want to minimize the number of cell towers that share an edge in the graph and have the same color.  \n",
    "\n",
    "As you discovered in class, there is a package called \"NetworkX\" available in you Anaconda Python distribution, which can create graph objects *and* has built in coloring algorithms.\n",
    "\n",
    "More information about Graph Coloring can be found here: https://en.wikipedia.org/wiki/Graph_coloring \n",
    "\n",
    "**Try using the `networkx` module to make a plot of your graph using the built in coloring algorithm.** You'll want to look at this documentation to figure this out, which you can find [here](https://networkx.github.io/documentation/stable/reference/algorithms/generated/networkx.algorithms.coloring.greedy_color.html). If you can't get `networkx` and the graph coloring to work, make a note of it in the assignment wrap-up survey and be prepared to ask you classmates for help in class.\n",
    "\n",
    "Even you can't get the coloring to work, at least try to make a graph of your points using `networkx`. **Don't get too hung up on this part, if you can't figure it out, try discussing it with other on Slack and bring your questions to class!**\n",
    "\n",
    "If you can get it working, you should end up with something that looks like this:\n",
    "\n",
    "<img src=\"https://i.imgur.com/ZYKbfmS.png\">\n",
    "\n",
    "**Important note**: Depending on the random points you end up with, you may end up with 3 colors instead of just 2, that's OK!"
   ]
  },
  {
   "cell_type": "code",
   "execution_count": null,
   "metadata": {},
   "outputs": [],
   "source": [
    "# Put networkx graph + coloring code here\n"
   ]
  },
  {
   "cell_type": "markdown",
   "metadata": {},
   "source": [
    "---\n",
    "# Preparing for the in-class assignment\n",
    "\n",
    "Think about how you would solve the cell phone tower problem discussed in the beginning of the assignment.  Outline a program to do the following:\n",
    "\n",
    "1. Upload cellphone tower data from http://www.antennasearch.com/ into our program. \n",
    "1. Generate a list of xy points from the longitude and latitude provided by the website.\n",
    "1. Run the Nearest Neighbor graph algorithm to generate a graph.\n",
    "1. Run a graph coloring algorithm on your graph. \n",
    "1. Plot the resulting map with points colored to represent the selected frequencies.\n",
    "\n",
    "You can outline the program in the cell below using \"stub\" functions where you define the functions you think you'll need, what the inputs will be for the functions, and some comments for what the functions will do. If you end the function with ```pass```, Python will be able to successfully \"run\" your code. An example of what is meant by as stub function is included below. **This is just an outline to guide your thinking when you get to class, it doesn't have to be perfect!**"
   ]
  },
  {
   "cell_type": "code",
   "execution_count": null,
   "metadata": {},
   "outputs": [],
   "source": [
    "# Example \"stub\" function\n",
    "def stubby(param1, param2, param3):\n",
    "    '''\n",
    "    This function takes input parameters and\n",
    "    uses them to compute things and make plots.\n",
    "    '''\n",
    "    pass\n",
    "\n",
    "#\n",
    "# Using stub functions, put your outline for your program below this comment block.\n",
    "# Make sure to include comments about what the inputs are and what the functions need to do.\n",
    "#\n",
    "\n"
   ]
  },
  {
   "cell_type": "markdown",
   "metadata": {},
   "source": [
    "----\n",
    "# Assignment Wrap-up\n",
    "\n",
    "Please fill out the form that appears when you run the code below.  **You must completely fill this out in order to receive credit for the assignment!**"
   ]
  },
  {
   "cell_type": "code",
   "execution_count": null,
   "metadata": {},
   "outputs": [],
   "source": [
    "from IPython.display import HTML\n",
    "HTML(\n",
    "\"\"\"\n",
    "<iframe \n",
    "\tsrc=\"https://goo.gl/forms/vKIJ53LxKq3h0rxN2\" \n",
    "\twidth=\"800px\" \n",
    "\theight=\"600px\" \n",
    "\tframeborder=\"0\" \n",
    "\tmarginheight=\"0\" \n",
    "\tmarginwidth=\"0\">\n",
    "\tLoading...\n",
    "</iframe>\n",
    "\"\"\"\n",
    ")"
   ]
  },
  {
   "cell_type": "markdown",
   "metadata": {},
   "source": [
    "---------\n",
    "### Congratulations, you're done with your pre-class assignment!\n",
    "\n",
    "Now, you just need to submit this assignment by uploading it to the course <a href=\"https://d2l.msu.edu/\">Desire2Learn</a> web page for this assignment's submission folder (Don't forget to add your names in the first cell)."
   ]
  },
  {
   "cell_type": "markdown",
   "metadata": {},
   "source": [
    "&#169; Copyright 2018,  Michigan State University Board of Trustees"
   ]
  }
 ],
 "metadata": {
  "kernelspec": {
   "display_name": "Python 3",
   "language": "python",
   "name": "python3"
  },
  "language_info": {
   "codemirror_mode": {
    "name": "ipython",
    "version": 3
   },
   "file_extension": ".py",
   "mimetype": "text/x-python",
   "name": "python",
   "nbconvert_exporter": "python",
   "pygments_lexer": "ipython3",
   "version": "3.7.1"
  }
 },
 "nbformat": 4,
 "nbformat_minor": 2
}
