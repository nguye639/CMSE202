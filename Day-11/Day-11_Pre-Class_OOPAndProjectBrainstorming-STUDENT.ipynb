{
 "cells": [
  {
   "cell_type": "markdown",
   "metadata": {},
   "source": [
    "## <p style=\"text-align: right;\"> &#9989; Put your name here</p>"
   ]
  },
  {
   "cell_type": "markdown",
   "metadata": {},
   "source": [
    "# Day 11 Pre-Class Assignment: Object Oriented Programming (OOP) and Project Brainstorming\n",
    "\n",
    "In this pre-class assignment we are going to talk about about Object Oriented Programming.  Although we have not talked about it directly, all variables in Python are objects. An object is a combination of variables, functions, and data structures.  \n",
    "\n",
    "The combinations are not random.  The goal in object oriented programming is to create an object that contains all of the data needed by the object and all of the functions that are associated with the object or \"act\" on the object. \n",
    "\n",
    "As you review OOP, you'll spend a bit of time thinking about possible semester project ideas."
   ]
  },
  {
   "cell_type": "markdown",
   "metadata": {},
   "source": [
    "# Goals for today's pre-class assignment\n",
    "\n",
    "1. Introduction Videos to Object Oriented Programming (OOP)\n",
    "1. OOP Example\n",
    "1. Brainstorm project ideas\n",
    "1. Assignment Wrap-up\n",
    "\n",
    "## Assignment instructions\n",
    "**This assignment is due by 11:59 p.m. the day before class** and should be uploaded into the appropriate \"Pre-class assignments\" dropbox folder in the Desire2Learn website.\n",
    "\n",
    "---"
   ]
  },
  {
   "cell_type": "markdown",
   "metadata": {},
   "source": [
    "# 1. Introduction Videos to Object Oriented Programming (OOP)\n",
    "Watch and follow along in the following video and answer the questions. Ignore the fact that apparently its perfectly acceptable to use \"orientated\" in the UK..."
   ]
  },
  {
   "cell_type": "code",
   "execution_count": null,
   "metadata": {},
   "outputs": [],
   "source": [
    "from IPython.display import YouTubeVideo\n",
    "YouTubeVideo(\"3dA4XE6l7YI\",width=640,height=360)"
   ]
  },
  {
   "cell_type": "markdown",
   "metadata": {},
   "source": [
    "**Question**: This video mentions three things that are needed to describe a class. What are these three things (Hint: the first one is a class name. I included this one to get you started)."
   ]
  },
  {
   "cell_type": "markdown",
   "metadata": {},
   "source": [
    "<font size=8 color=\"#009600\">&#9998;</font> Do This - Erase the contents of this cell and replace it with your answer to the above question!  (double-click on this text to edit this cell, and hit shift+enter to save the text)\n",
    "\n",
    "1. It's Name\n",
    "1. ??\n",
    "1. ??"
   ]
  },
  {
   "cell_type": "markdown",
   "metadata": {},
   "source": [
    "Watch the next video and complete the tasks and questions below. Hopefully you're not currently feeling narky!"
   ]
  },
  {
   "cell_type": "code",
   "execution_count": null,
   "metadata": {
    "scrolled": false
   },
   "outputs": [],
   "source": [
    "from IPython.display import YouTubeVideo\n",
    "YouTubeVideo(\"1j9BFXsZvp0\",width=640,height=360)"
   ]
  },
  {
   "cell_type": "markdown",
   "metadata": {},
   "source": [
    "# 2. OOP Example - Mesh Free Particle Methods\n",
    "\n",
    "When simulating environment researchers often break the environment into discrete nodes based on location.  Each node is connected to it's neighbors and form a network often called a **mesh** (see image below).   At each simulated time step the dynamics of the environment are calculated independently at each node. Then between each time step the properties of the environment (such as energy, mass or forces) are transfered across the borders between nodes.   \n",
    "\n",
    "<img src=\"http://clasp-research.engin.umich.edu/groups/admg/ipam_ws2_barotropic_wave.jpg\" width=\"25%\">\n",
    "<p style=\"text-align: right;\">\n",
    "Example Mesh based Image from http://clasp-research.engin.umich.edu/groups/admg/education.php\n",
    "</p>\n",
    "\n",
    "In contrast, **mesh free particle methods** do not require connection between nodes of the simulation domain but instead track the environment properties as distinct objects (called particles) that typically move within the environment.  There are many difficult types of problems that can be solved easily using Mesh free methods.  However, they can sometimes been much more difficult to program and take more computing power. \n",
    "\n",
    "<img src=\"http://ascelibrary.org/cms/attachment/44204/1020646/1.gif\" width=\"75%\">\n",
    "<p style=\"text-align: right;\">\n",
    "Mesh vs particle methods from http://clasp-research.engin.umich.edu/groups/admg/education.php\n",
    "</p>\n",
    "\n",
    "Consider the following, very simple, particle simulation written using Object Oriented Programming that just looks at position and velocity. "
   ]
  },
  {
   "cell_type": "code",
   "execution_count": null,
   "metadata": {},
   "outputs": [],
   "source": [
    "%matplotlib inline\n",
    "import matplotlib.pyplot as plt\n",
    "import random \n",
    "\n",
    "class particle():\n",
    "    def __init__(self):\n",
    "        self.x = random.random()\n",
    "        self.y = random.random()\n",
    "        self.dx = random.random()*0.1\n",
    "        self.dy = random.random()*0.1\n",
    "    \n",
    "    def increment_time(self):\n",
    "        self.x = self.x + self.dx\n",
    "        self.y = self.y + self.dy\n",
    "        if (self.x < 0):\n",
    "            self.x = abs(self.x)\n",
    "            self.dx = -1 * self.dx\n",
    "        if (self.y < 0):\n",
    "            self.y = abs(self.y)\n",
    "            self.dy = -1 * self.dy\n",
    "        if (self.x > 1):\n",
    "            self.x = 1 - (self.x-1)\n",
    "            self.dx = -1 * self.dx\n",
    "        if (self.y > 1):\n",
    "            self.y = 1 -(self.y-1)\n",
    "            self.dy = -1 * self.dy\n",
    "    \n",
    "    \n",
    "    def draw(self):\n",
    "        plt.scatter(self.x, self.y)\n",
    "        plt.plot([self.x-self.dx, self.x], [self.y-self.dy, self.y])\n",
    "        plt.axis([0, 1, 0, 1])\n",
    "    "
   ]
  },
  {
   "cell_type": "markdown",
   "metadata": {},
   "source": [
    "&#9989; DO THIS - The above class is missing it's DocString. Read though the code and add an appropriate dotstring to describe the class. Here is some information about what DocStrings are and why they are useful: https://www.pythonforbeginners.com/basics/python-docstrings \n",
    "\n",
    "A docstring might look like:\n",
    "\n",
    "```\n",
    "'''\n",
    "This function does things.\n",
    "'''\n",
    "```\n",
    "\n",
    "Of course, you'll need to be a bit more descriptive than that..."
   ]
  },
  {
   "cell_type": "markdown",
   "metadata": {},
   "source": [
    "The following code creates two instances (objects) of the above partical class using the constructor method:"
   ]
  },
  {
   "cell_type": "code",
   "execution_count": null,
   "metadata": {},
   "outputs": [],
   "source": [
    "p1 = particle()\n",
    "p2 = particle()"
   ]
  },
  {
   "cell_type": "markdown",
   "metadata": {},
   "source": [
    "**Question**: Look at the constructor function in the above code. It is initializing four object variables. What are the variables names? "
   ]
  },
  {
   "cell_type": "markdown",
   "metadata": {},
   "source": [
    "<font size=8 color=\"#009600\">&#9998;</font> Do This - Erase the contents of this cell and replace it with your answer to the above question!  (double-click on this text to edit this cell, and hit shift+enter to save the text)"
   ]
  },
  {
   "cell_type": "markdown",
   "metadata": {},
   "source": [
    "The dot '.' notation is used to call member functions of an object. For example, the following code calls the `draw` function."
   ]
  },
  {
   "cell_type": "code",
   "execution_count": null,
   "metadata": {},
   "outputs": [],
   "source": [
    "p1.draw()\n",
    "p2.draw()"
   ]
  },
  {
   "cell_type": "markdown",
   "metadata": {},
   "source": [
    "The increment_time() function in the above code updates the position by adding the contribution of the velocity (dx,dy) to the current position of the particle.  If we run the increment_time function in a loop we can see how the particles change position in time.  \n",
    "\n",
    "The following code calls the increment_time and draw methods in a loop to animate the figure:"
   ]
  },
  {
   "cell_type": "code",
   "execution_count": null,
   "metadata": {
    "scrolled": false
   },
   "outputs": [],
   "source": [
    "from IPython.display import display, clear_output\n",
    "import time  \n",
    "fig, ax = plt.subplots(figsize=(20,10))\n",
    "for i in range(100):\n",
    "    p1.increment_time();\n",
    "    p2.increment_time();\n",
    "    p1.draw();\n",
    "    p2.draw();\n",
    "    \n",
    "    # Animation part (doesn't change)\n",
    "    clear_output(wait=True) # Clear output for dynamic display\n",
    "    display(fig)            # Reset display\n",
    "    fig.clear()             # Prevent overlapping and layered plots\n",
    "    time.sleep(0.0001)      # Sleep for half a second to slow down the animation\n"
   ]
  },
  {
   "cell_type": "markdown",
   "metadata": {},
   "source": [
    "&#9989; DO THIS - Copy and paste the contents from the above cell and put it in the next cell.  Modify the code to create 100 instances of the particle class and animate using the `increment_time` and `draw` methods. If done correctly you should see 100 dots bouncing around inside the simulation. \n",
    "\n",
    "**Note:** Because a particle is an \"object\" you can create a list or dictionary of particles just like you can create a list or dictionary of anything else in python. "
   ]
  },
  {
   "cell_type": "code",
   "execution_count": null,
   "metadata": {},
   "outputs": [],
   "source": [
    "# Put Your code here"
   ]
  },
  {
   "cell_type": "markdown",
   "metadata": {},
   "source": [
    "---\n",
    "# 3. Project Brainstorming\n",
    "\n",
    "For the last part of this assignment, we would like you to start thinking about your semester project.  Ideally, your project will incorporate the concepts that you have been learning and will eventually learn in the course. You can find details for what is expected of you for the semester projects in the \"CourseMaterials\" folder in your Assignments repository in the fie \"semester_project_details.pdf\".\n",
    "\n",
    "Right now the goal is to just come up with project ideas that sound interesting to you! Later, we'll work together to shape them into concepts that fit well within the bound of the course!\n",
    "\n",
    "You may also find it useful to consider the following examples from previous semesters:"
   ]
  },
  {
   "cell_type": "markdown",
   "metadata": {},
   "source": [
    "### Example 1: Agent based spread of disease\n",
    "This group developed an agent based model to study the spread of a disease. The model consisted of people that lived, worked and went to school.  The interaction between the agents determined the likelihood of the spread of the virus. \n",
    "\n",
    "<img src=\"./images/name_019.jpg\" width=\"600px\">\n"
   ]
  },
  {
   "cell_type": "markdown",
   "metadata": {},
   "source": [
    "### Example 2: Planetary Habitable_zone\n",
    "This project developed an API (advanced programming interface) to existing online databases of exoplanets (planets outside of our solar system). The user could query the database and the program would generate an idealized picture of the solar system and show if the planet is inside the \"goldilock zone.\" This is the zone where a planet is likely to sustain liquid water.  \n",
    "\n",
    "<img src=\"./images/Kepler-47.png\" width=\"600px\">\n",
    "<img src=\"./images/Habitable_zone.png\" width=\"600px\">"
   ]
  },
  {
   "cell_type": "markdown",
   "metadata": {},
   "source": [
    "### Example 3: Star Spectral Analysis\n",
    "This project developed an algorithm to automatically categorize stars based on their visible spectral signatures.  This categorization process is often difficult and the students wanted to see if a model could be generated using a learning algorithm.\n",
    "\n",
    "<img src=\"./images/Spectra.png\" width=\"600px\">\n"
   ]
  },
  {
   "cell_type": "markdown",
   "metadata": {},
   "source": [
    "### Example 4: Image Classification of Filamentous Fungi\n",
    "This project involved the creation of a image classifier using machine learning to classify images of fungi to the correct phylum based on microscope images. It was intended to improve the efficiency of identifying unknown fungi isolated from soil. Currently there are 248 images in the database.\n",
    "\n",
    "<img src=\"./images/hyphal_image_classification.png\" width=\"900px\">\n"
   ]
  },
  {
   "cell_type": "markdown",
   "metadata": {},
   "source": [
    "**&#9989;  Do This:**  Brainstorm ideas you have for projects.  We will do this brainstorming individually, in small groups, and as a class. \n"
   ]
  },
  {
   "cell_type": "markdown",
   "metadata": {},
   "source": [
    "<font size=8 color=\"#009600\">&#9998;</font> Do This - Erase the contents of this cell and replace it with your ideas here.  (double-click on this text to edit this cell, and hit shift+enter to save the text)"
   ]
  },
  {
   "cell_type": "markdown",
   "metadata": {},
   "source": [
    "**Once you've come up with some ideas for project, fill out the following survey so that your ideas can be compiled into list of possible ideas for the entire class**. The combined list will be used to seed ideas that will eventually lead to semester projects!"
   ]
  },
  {
   "cell_type": "code",
   "execution_count": null,
   "metadata": {},
   "outputs": [],
   "source": [
    "from IPython.display import HTML\n",
    "HTML(\n",
    "\"\"\"\n",
    "<iframe \n",
    "\tsrc=\"https://goo.gl/forms/5dq6ESute1AwDjpJ3\" \n",
    "\twidth=\"800px\" \n",
    "\theight=\"600px\" \n",
    "\tframeborder=\"0\" \n",
    "\tmarginheight=\"0\" \n",
    "\tmarginwidth=\"0\">\n",
    "\tLoading...\n",
    "</iframe>\n",
    "\"\"\"\n",
    ")"
   ]
  },
  {
   "cell_type": "markdown",
   "metadata": {},
   "source": [
    "----\n",
    "# 4. Assignment wrap-up\n",
    "\n",
    "That's it!\n",
    "\n",
    "Please fill out the form that appears when you run the code below.  **You must completely fill this out in order to receive credit for the assignment!**"
   ]
  },
  {
   "cell_type": "code",
   "execution_count": null,
   "metadata": {},
   "outputs": [],
   "source": [
    "from IPython.display import HTML\n",
    "HTML(\n",
    "\"\"\"\n",
    "<iframe \n",
    "\tsrc=\"https://goo.gl/forms/vKIJ53LxKq3h0rxN2\" \n",
    "\twidth=\"800px\" \n",
    "\theight=\"600px\" \n",
    "\tframeborder=\"0\" \n",
    "\tmarginheight=\"0\" \n",
    "\tmarginwidth=\"0\">\n",
    "\tLoading...\n",
    "</iframe>\n",
    "\"\"\"\n",
    ")"
   ]
  },
  {
   "cell_type": "markdown",
   "metadata": {},
   "source": [
    "---------\n",
    "### Congratulations, you're done with your pre-class assignment!\n",
    "\n",
    "Now, you just need to submit this assignment by uploading it to the course <a href=\"https://d2l.msu.edu/\">Desire2Learn</a> web page for today's submission folder (Don't forget to add your name in the first cell)."
   ]
  },
  {
   "cell_type": "markdown",
   "metadata": {},
   "source": [
    "&#169; Copyright 2018,  Michigan State University Board of Trustees"
   ]
  }
 ],
 "metadata": {
  "anaconda-cloud": {},
  "kernelspec": {
   "display_name": "Python 3",
   "language": "python",
   "name": "python3"
  },
  "language_info": {
   "codemirror_mode": {
    "name": "ipython",
    "version": 3
   },
   "file_extension": ".py",
   "mimetype": "text/x-python",
   "name": "python",
   "nbconvert_exporter": "python",
   "pygments_lexer": "ipython3",
   "version": "3.7.1"
  }
 },
 "nbformat": 4,
 "nbformat_minor": 2
}
