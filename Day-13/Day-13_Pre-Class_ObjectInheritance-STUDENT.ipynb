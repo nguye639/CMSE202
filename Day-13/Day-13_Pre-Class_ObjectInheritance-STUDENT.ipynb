{
 "cells": [
  {
   "cell_type": "markdown",
   "metadata": {},
   "source": [
    "<p style=\"text-align: right;\"> &#9989; Put your name here</p>"
   ]
  },
  {
   "cell_type": "markdown",
   "metadata": {},
   "source": [
    "# Day 13 Pre-class Assignment: Object inheritance in Python\n",
    "\n",
    "<img src=\"https://thevpn.guru/wp-content/uploads/2016/12/Watch-PDC-World-Darts-Championship-Live-Stream-Online-e1481107242399.jpeg\" width=400px>"
   ]
  },
  {
   "cell_type": "markdown",
   "metadata": {},
   "source": [
    "## Goals for today's pre-class assignment\n",
    "\n",
    "</p>\n",
    "* Think about and use object inheritance in Python\n",
    "\n",
    "## Assignment instructions\n",
    "**This assignment is due by 11:59 p.m. the day before class** and should be uploaded into the appropriate \"Pre-class assignments\" submission folder in the Desire2Learn website."
   ]
  },
  {
   "cell_type": "markdown",
   "metadata": {},
   "source": [
    "----\n",
    "# Object Inheritance\n",
    "In the following video we introduce the topic of class inheritance.  "
   ]
  },
  {
   "cell_type": "code",
   "execution_count": null,
   "metadata": {
    "scrolled": false
   },
   "outputs": [],
   "source": [
    "from IPython.display import YouTubeVideo\n",
    "YouTubeVideo(\"JtjFr_M-8OA\",width=640,height=360)"
   ]
  },
  {
   "cell_type": "markdown",
   "metadata": {},
   "source": [
    "The following code is modified from the above video.  New code is indicated with comments (## NEW STUFF ## and ## END NEW STUFF ##). Read the code and answer the questions below:"
   ]
  },
  {
   "cell_type": "code",
   "execution_count": null,
   "metadata": {},
   "outputs": [],
   "source": [
    "%matplotlib inline\n",
    "import numpy as np\n",
    "import matplotlib.pyplot as plt\n",
    "import random \n",
    "\n",
    "class board():\n",
    "    \n",
    "    def __init__(self):\n",
    "        self.init_board()\n",
    "        \n",
    "        ## NEW STUFF ##\n",
    "        self.darts_r = []\n",
    "        self.darts_c = []\n",
    "        self.total = 0 #score for darts\n",
    "        ## END NEW STUFF ##\n",
    "    \n",
    "    def init_board(self, rows=100, cols=200):\n",
    "        self.attribute = np.zeros((rows,cols))\n",
    "    \n",
    "    ## NEW STUFF ##\n",
    "    def take_turn(self, ndarts=10):\n",
    "        self.darts_r = []\n",
    "        self.darts_c = []\n",
    "        self.total = 0\n",
    "        for i in range(ndarts):\n",
    "            dart_r = int(random.random()*self.attribute.shape[0]-1)\n",
    "            dart_c = int(random.random()*self.attribute.shape[1]-1)\n",
    "            self.total = self.total + self.attribute[dart_r,dart_c]\n",
    "            self.darts_r.append(dart_r)\n",
    "            self.darts_c.append(dart_c)\n",
    "        self.plot()\n",
    "        plt.title(\"YOUR SCORE = \"+str(self.total))\n",
    "        return self.total\n",
    "    ## END NEW STUFF ##\n",
    "        \n",
    "    def plot(self):\n",
    "        plt.imshow(self.attribute, cmap=plt.get_cmap('gray_r'))\n",
    "        ## NEW STUFF##\n",
    "        plt.scatter(self.darts_c, self.darts_r,c='r')\n",
    "        ## END NEW STUFF##\n",
    "        \n",
    "class random_board(board):\n",
    "    def init_board(self, rows=50, cols=25):\n",
    "        self.attribute = np.random.rand(rows,cols)\n",
    "        \n",
    "class binary_random_board(random_board):\n",
    "    def init_board(self, rows=100, cols = 300):\n",
    "        random_board.init_board(self,rows,cols)\n",
    "        self.attribute = self.attribute > 0.5"
   ]
  },
  {
   "cell_type": "code",
   "execution_count": null,
   "metadata": {},
   "outputs": [],
   "source": [
    "b = board()\n",
    "b.take_turn()"
   ]
  },
  {
   "cell_type": "code",
   "execution_count": null,
   "metadata": {},
   "outputs": [],
   "source": [
    "b = random_board()\n",
    "b.take_turn()"
   ]
  },
  {
   "cell_type": "code",
   "execution_count": null,
   "metadata": {},
   "outputs": [],
   "source": [
    "b = binary_random_board()\n",
    "b.take_turn()"
   ]
  },
  {
   "cell_type": "markdown",
   "metadata": {},
   "source": [
    "**Question:** This code adds three variables to the base board class. What are these variables? "
   ]
  },
  {
   "cell_type": "markdown",
   "metadata": {},
   "source": [
    "<font size=8 color=\"#009600\">&#9998;</font> Do This - Erase the contents of this cell and replace it with your answer to the above question!  (double-click on this text to edit this cell, and hit shift+enter to save the text)"
   ]
  },
  {
   "cell_type": "markdown",
   "metadata": {},
   "source": [
    "**Question:** This code adds one method to the base class. What is this method and what does it do?  "
   ]
  },
  {
   "cell_type": "markdown",
   "metadata": {},
   "source": [
    "<font size=8 color=\"#009600\">&#9998;</font> Do This - Erase the contents of this cell and replace it with your answer to the above question!  (double-click on this text to edit this cell, and hit shift+enter to save the text)"
   ]
  },
  {
   "cell_type": "markdown",
   "metadata": {},
   "source": [
    "**Question:** Create yet another board (ex: bulls_eye) that creates a 2D array initialized to zero with a square in the center of a particular size (e.g. 10x10 is fine, or better yet, make it a percentage of the original board size)."
   ]
  },
  {
   "cell_type": "code",
   "execution_count": null,
   "metadata": {},
   "outputs": [],
   "source": [
    "class bulls_eye(board):\n",
    "    # Put your code here\n",
    "    pass"
   ]
  },
  {
   "cell_type": "code",
   "execution_count": null,
   "metadata": {},
   "outputs": [],
   "source": [
    "# Test your code with the following commands\n",
    "your_board = bulls_eye()\n",
    "your_board.take_turn()"
   ]
  },
  {
   "cell_type": "markdown",
   "metadata": {},
   "source": [
    "----\n",
    "# 2. Assignment wrap-up\n",
    "\n",
    "Please fill out the form that appears when you run the code below.  **You must completely fill this out in order to receive credit for the assignment!**"
   ]
  },
  {
   "cell_type": "code",
   "execution_count": null,
   "metadata": {},
   "outputs": [],
   "source": [
    "from IPython.display import HTML\n",
    "HTML(\n",
    "\"\"\"\n",
    "<iframe \n",
    "\tsrc=\"https://goo.gl/forms/vKIJ53LxKq3h0rxN2\" \n",
    "\twidth=\"800px\" \n",
    "\theight=\"600px\" \n",
    "\tframeborder=\"0\" \n",
    "\tmarginheight=\"0\" \n",
    "\tmarginwidth=\"0\">\n",
    "\tLoading...\n",
    "</iframe>\n",
    "\"\"\"\n",
    ")"
   ]
  },
  {
   "cell_type": "markdown",
   "metadata": {},
   "source": [
    "---------\n",
    "### Congratulations, you're done with your pre-class assignment!\n",
    "\n",
    "Now, you just need to submit this assignment by uploading it to the course <a href=\"https://d2l.msu.edu/\">Desire2Learn</a> web page for today's submission folder (Don't forget to add your name in the first cell)."
   ]
  },
  {
   "cell_type": "markdown",
   "metadata": {},
   "source": [
    "&#169; Copyright 2018,  Michigan State University Board of Trustees"
   ]
  }
 ],
 "metadata": {
  "anaconda-cloud": {},
  "kernelspec": {
   "display_name": "Python 3",
   "language": "python",
   "name": "python3"
  },
  "language_info": {
   "codemirror_mode": {
    "name": "ipython",
    "version": 3
   },
   "file_extension": ".py",
   "mimetype": "text/x-python",
   "name": "python",
   "nbconvert_exporter": "python",
   "pygments_lexer": "ipython3",
   "version": "3.7.1"
  }
 },
 "nbformat": 4,
 "nbformat_minor": 2
}
