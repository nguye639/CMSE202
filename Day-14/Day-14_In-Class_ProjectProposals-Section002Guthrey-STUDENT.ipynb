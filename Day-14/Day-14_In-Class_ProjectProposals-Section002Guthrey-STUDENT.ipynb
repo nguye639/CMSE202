{
 "cells": [
  {
   "cell_type": "markdown",
   "metadata": {},
   "source": [
    "### <p style=\"text-align: right;\"> &#9989; **Put your name here** </p>\n",
    "#### <p style=\"text-align: right;\"> &#9989; Put your group member names here</p>"
   ]
  },
  {
   "cell_type": "markdown",
   "metadata": {},
   "source": [
    "# Day 14 In-Class Assignment: Reviewing Project Ideas"
   ]
  },
  {
   "cell_type": "markdown",
   "metadata": {},
   "source": [
    "### Agenda for today:\n",
    "\n",
    "1. Brainstorm project selection criteria\n",
    "1. Group discussion to determine selection critera\n",
    "1. Review project ideas and brainstorm possible new ideas\n",
    "1. Apply selection criteria to project ideas and finalize possible project list\n",
    "1. Dig into projects further"
   ]
  },
  {
   "cell_type": "markdown",
   "metadata": {},
   "source": [
    "# Defining criteria for selecting projects\n",
    "\n",
    "In order to make sure that each group has a good project idea to pursue for their semester project, we are going to try to define a set of selection criteria as a class. Basically, what elements should a good project idea have? If we can make sure that the projects ideas we've generated meet our selection criteria before we choose one of them, it is less likely that a group will run into significant issues with their project."
   ]
  },
  {
   "cell_type": "markdown",
   "metadata": {},
   "source": [
    "---\n",
    "# General Guidelines for Brainstorming process\n",
    "\n",
    "A useful approach to brainstorming is the following two-step process:\n",
    "\n",
    "#### Step 1: Generate ideas\n",
    "* Strive for quantity (don't criticize or set restictions on ideas)\n",
    "* Strive for variety\n",
    "\n",
    "#### Step 2: Reduce the list\n",
    "* Clarify vague ideas\n",
    "* Group related ideas\n",
    "* Remove obvious outliers\n",
    "* Discuss and choose the critical few"
   ]
  },
  {
   "cell_type": "markdown",
   "metadata": {},
   "source": [
    "---\n",
    "# 1. Generating ideas for project selection criteria\n",
    "\n",
    "In pairs, do \"**Step 1**\" from above. Generate possible criteria for selecting a project (\"Step 1\" from above). Try to identify criteria that are \"measurable,\" if possible. To think of this another way, what makes something a \"good\" idea for a project versus a \"bad\" idea? We'll do \"Step 2\" as a class.\n",
    "\n",
    "You'll have ~10-15 minutes to do this."
   ]
  },
  {
   "cell_type": "markdown",
   "metadata": {},
   "source": [
    "<font size=8 color=\"#009600\">&#9998;</font> Do This - Erase the contents of this cell and replace it with the ideas you come up with for selection criter. (double-click on this text to edit this cell, and hit shift+enter to save the text)"
   ]
  },
  {
   "cell_type": "markdown",
   "metadata": {},
   "source": [
    "---\n",
    "# 2. Discussing and choosing selection criteria\n",
    "\n",
    "As a class, we will go through **Step 2**. We will try to:\n",
    "\n",
    "* Clarify vague ideas\n",
    "* Group related ideas\n",
    "* Remove obvious outliers\n",
    "* Discuss and choose the critical few\n",
    "\n",
    "The instructor will create a record of the criteria here:\n",
    "\n",
    "[https://docs.google.com/document/d/1bGT2lBZtDUlNRHZiZ8pz35EqjIgGZNTSmo-LSTtjYqw/edit?usp=sharing](https://docs.google.com/document/d/1bGT2lBZtDUlNRHZiZ8pz35EqjIgGZNTSmo-LSTtjYqw/edit?usp=sharing)\n",
    "\n",
    "**Note**: You need to be logged into your MSU google account to see this document."
   ]
  },
  {
   "cell_type": "markdown",
   "metadata": {},
   "source": [
    "---\n",
    "# 3. Review project ideas and brainstorm new ideas\n",
    "\n",
    "In the list below are all of the ideas that you, as a class, came up with as possible project ideas. In your pre-class assignment, you spent sometime thinking about which ideas you were most interested in.\n",
    "\n",
    "For this part of the assignment, each table will be assigned a subset of the project ideas listed below. Then, in pairs, you will review that subset of ideas. Which ones do you think should either be kept or thrown out based on the selection criteria we came up with? You may want to think back to some of the thoughts you had in your pre-class assignment. You may also need to poke around online a bit to figure out if the project will meet the selection criteria. Record your thoughts in the \"comments\" section for the project ideas.\n",
    "\n",
    "If you aren't particularly familiar with a topic, feel free to see if someone else are your table is. If no one is, see if you can find a bit of information online about the topic.\n",
    "\n",
    "Keep in mind that if you think an idea should be thrown out, it doesn't mean it was a fundamentally bad idea, it just may not be a good choice for a semester project in this course. There are lot of great ideas that sometimes prove to be overly difficult once you dig a bit further. Or, sometimes it's hard to find something to pursue that hasn't already been done by someone else.\n",
    "\n",
    "Feel free to add new project ideas if you've thought up any recently and then try applying the selection criteria to these new ideas.\n",
    "\n",
    "After you do your review in pairs, we'll discuss all of these as a class.\n",
    "\n",
    "You'll have ~20 minutes to do this.\n",
    "\n",
    "**Record any useful details/information/python packages you find during your review process here:**\n",
    "\n",
    "[https://docs.google.com/document/d/1x_WoJJtFSDXvS7k-YkMxzfyHLDTapjZktyhkiqhKtDY/edit?usp=sharing](https://docs.google.com/document/d/1x_WoJJtFSDXvS7k-YkMxzfyHLDTapjZktyhkiqhKtDY/edit?usp=sharing)\n",
    "\n",
    "---"
   ]
  },
  {
   "cell_type": "markdown",
   "metadata": {},
   "source": [
    "### 1. Write an algorithm that automatically predicts one's age based on their face's photo.\n",
    "\n",
    "#### Comments:\n"
   ]
  },
  {
   "cell_type": "markdown",
   "metadata": {},
   "source": [
    "### 2. Map stars to other stars within a star cluster using graph theory.\n",
    "\n",
    "#### Comments:\n"
   ]
  },
  {
   "cell_type": "markdown",
   "metadata": {},
   "source": [
    "### 3. Model a possible interaction of two super massive black holes using lagragians.\n",
    "\n",
    "#### Comments: \n"
   ]
  },
  {
   "cell_type": "markdown",
   "metadata": {},
   "source": [
    "### 4. Neuronal avalanches: Abelian Sandile model\n",
    "\n",
    "#### Comments:\n"
   ]
  },
  {
   "cell_type": "markdown",
   "metadata": {},
   "source": [
    "### 5. ML classification of Grains\n",
    "\n",
    "#### Comments:\n"
   ]
  },
  {
   "cell_type": "markdown",
   "metadata": {},
   "source": [
    "### 6. \"Best\" counties to live in based on climate\n",
    "\n",
    "#### Comments:\n",
    "\n"
   ]
  },
  {
   "cell_type": "markdown",
   "metadata": {},
   "source": [
    "### 7. Sales forecast using machine learning and superstore data\n",
    "\n",
    "#### Comments:\n"
   ]
  },
  {
   "cell_type": "markdown",
   "metadata": {},
   "source": [
    "### 8.  Use machine learning, reliability physics, and test data to determine scheduled maintenance for the mechanical parts of a machine\n",
    "\n",
    "#### Comments:\n"
   ]
  },
  {
   "cell_type": "markdown",
   "metadata": {},
   "source": [
    "### 9. Model for identifying genomic features \n",
    "\n",
    "#### Comments:\n"
   ]
  },
  {
   "cell_type": "markdown",
   "metadata": {},
   "source": [
    "### 10. Model enzyme kinetics and drug interactions\n",
    "\n",
    "#### Comments:\n"
   ]
  },
  {
   "cell_type": "markdown",
   "metadata": {},
   "source": [
    "### 11. Population genetics via ABMs: How a gene spreads through a popoulation and how it can be advantageous and alter predator/prey relationships\n",
    "\n",
    "#### Comments:\n"
   ]
  },
  {
   "cell_type": "markdown",
   "metadata": {},
   "source": [
    "### 12. Molecular Dynamic: Gas particles speed as temperature increases\n",
    "\n",
    "#### Comments:\n"
   ]
  },
  {
   "cell_type": "markdown",
   "metadata": {},
   "source": [
    "### 13. Modeling the sizes of different types of stars based on stage of life cycle and size and temperature\n",
    "\n",
    "#### Comments:\n"
   ]
  },
  {
   "cell_type": "markdown",
   "metadata": {},
   "source": [
    "### 14. The spread of a virus on the world map\n",
    "\n",
    "#### Comments:\n"
   ]
  },
  {
   "cell_type": "markdown",
   "metadata": {},
   "source": [
    "### 15. Using compartmental models to explore brain chemistry\n",
    "\n",
    "#### Comments:\n"
   ]
  },
  {
   "cell_type": "markdown",
   "metadata": {},
   "source": [
    "### 16. Analysis of the Tropical Storms in the Atlantic North \n",
    "\n",
    "#### Comments:"
   ]
  },
  {
   "cell_type": "markdown",
   "metadata": {},
   "source": [
    "### 17. Mapping the migration of predators and prey in a forest\n",
    "\n",
    "#### Comments:"
   ]
  },
  {
   "cell_type": "markdown",
   "metadata": {},
   "source": [
    "### 18. Economics Game Theory\n",
    "\n",
    "#### Comments:"
   ]
  },
  {
   "cell_type": "markdown",
   "metadata": {},
   "source": [
    "### 19. Opioid addiction in US counties\n",
    "\n",
    "#### Comments:"
   ]
  },
  {
   "cell_type": "markdown",
   "metadata": {},
   "source": [
    "### 20. Predicting Alzheimer's early with machine learning of MRI images\n",
    "\n",
    "#### Comments:"
   ]
  },
  {
   "cell_type": "markdown",
   "metadata": {},
   "source": [
    "---\n",
    "\n",
    "# 4. Applying selection criteria and finalizing project list\n",
    "\n",
    "As a class, we'll discuss your thoughts as to which projects meet the selection criteria and we'll remove all of the projects that don't meet the criteria. We can also add on new project ideas that you might have come up with, assuming they also meet the criteria. This finalized list will be the one we use to choose projects from.\n",
    "\n",
    "The instructor will send out a Google Form with a list of all the final topics so that you can vote on which ones you're most interested in pursuing for a semester project. These votes will be used to form groups.\n",
    "\n",
    "**If you don't complete the forthcoming survey, you will be randomly assigned to a group!**"
   ]
  },
  {
   "cell_type": "markdown",
   "metadata": {},
   "source": [
    "---\n",
    "# 5. Digging into the projects\n",
    "\n",
    "If time allows, we're going to divide up the remaining projects between all of the pairs and each pair will be responsible for doing a bit of further digging to find information that would be useful to complete the projects they are assigned. Note, this does not mean you are responsible for doing that project you're research today.\n",
    "\n",
    "To ensure that today's work is beneficial to all groups, we'll continue to compile our findings in the previously shared Google document."
   ]
  },
  {
   "cell_type": "markdown",
   "metadata": {},
   "source": [
    "----\n",
    "# Assignment Wrap-up\n",
    "\n",
    "Fill out the following Google Form before submitting your assignment to D2L!"
   ]
  },
  {
   "cell_type": "code",
   "execution_count": null,
   "metadata": {},
   "outputs": [],
   "source": [
    "from IPython.display import HTML\n",
    "HTML(\n",
    "\"\"\"\n",
    "<iframe \n",
    "\tsrc=\"https://goo.gl/forms/noAwoJd9pEj7A1su1\" \n",
    "\twidth=\"800px\" \n",
    "\theight=\"600px\" \n",
    "\tframeborder=\"0\" \n",
    "\tmarginheight=\"0\" \n",
    "\tmarginwidth=\"0\">\n",
    "\tLoading...\n",
    "</iframe>\n",
    "\"\"\"\n",
    ")"
   ]
  },
  {
   "cell_type": "markdown",
   "metadata": {},
   "source": [
    "-----\n",
    "### Congratulations, we're done!\n",
    "\n",
    "Now, you just need to submit this assignment by uploading it to the course <a href=\"https://d2l.msu.edu/\">Desire2Learn</a> web page for today's submission folder (Don't forget to add your names in the first cell)."
   ]
  },
  {
   "cell_type": "markdown",
   "metadata": {},
   "source": [
    "&#169; Copyright 2018,  Michigan State University Board of Trustees"
   ]
  }
 ],
 "metadata": {
  "kernelspec": {
   "display_name": "Python 3",
   "language": "python",
   "name": "python3"
  },
  "language_info": {
   "codemirror_mode": {
    "name": "ipython",
    "version": 3
   },
   "file_extension": ".py",
   "mimetype": "text/x-python",
   "name": "python",
   "nbconvert_exporter": "python",
   "pygments_lexer": "ipython3",
   "version": "3.7.1"
  }
 },
 "nbformat": 4,
 "nbformat_minor": 2
}
