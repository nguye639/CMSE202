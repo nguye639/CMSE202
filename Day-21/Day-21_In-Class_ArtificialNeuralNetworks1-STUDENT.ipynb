{
 "cells": [
  {
   "cell_type": "markdown",
   "metadata": {},
   "source": [
    "# Day 21 In-Class: Intro to Artificial Neural Networks\n",
    "\n",
    "<img src=\"http://www.bogotobogo.com/python/scikit-learn/images/NeuralNetwork1/NN-with-components-w11-etc.png\" width=600px>\n",
    "\n",
    "### Agenda:\n",
    "\n",
    "1. Review pre-class assignment\n",
    "2. Present project updates\n",
    "3. Work on semester projects!"
   ]
  },
  {
   "cell_type": "markdown",
   "metadata": {},
   "source": [
    "----\n",
    "# 1. Review pre-class assignment\n",
    "\n",
    "Below is the solution to the pre-class assignment, we're going to talk through this to make sure we all understand what's happening."
   ]
  },
  {
   "cell_type": "code",
   "execution_count": null,
   "metadata": {},
   "outputs": [],
   "source": [
    "%matplotlib inline\n",
    "import matplotlib.pyplot as plt\n",
    "import numpy as np\n",
    "\n",
    "# input data (hours of sleep, hours of study)\n",
    "X = np.array([[3,5], [5,1], [10,2]])\n",
    "\n",
    "# normalized X\n",
    "X_norm = X / np.max(X)\n",
    "print(\"X_norm =\")\n",
    "print(X_norm)\n",
    "\n",
    "# output data (test score)\n",
    "y = np.array([[75], [83], [93]])\n",
    "\n",
    "# normalized y\n",
    "y_norm = y/100\n",
    "print(\"y_norm =\")\n",
    "print(y_norm)\n",
    "\n",
    "# Neural Network properties\n",
    "inputLayerSize = 2\n",
    "outputLayerSize = 1\n",
    "hiddenLayerSize = 3\n",
    "\n",
    "# Define synapse weights\n",
    "W1 = np.random.randn(inputLayerSize, hiddenLayerSize)\n",
    "W2 = np.random.randn(hiddenLayerSize, outputLayerSize)\n",
    "\n",
    "# Apply the first weights to inputs to get hidden layer activity\n",
    "Z2 = np.dot(X_norm, W1)\n",
    "print(\"Z2 =\")\n",
    "print(Z2)\n",
    "\n",
    "# Define our activation function\n",
    "def sigmoid(z):\n",
    "    #Apply sigmoid activation function to scalar, vector, or matrix\n",
    "    return 1/(1+np.exp(-z))\n",
    "\n",
    "# Apply the activation function to our activity levels\n",
    "a2 = sigmoid(Z2)\n",
    "print(\"a2 =\")\n",
    "print(a2)\n",
    "\n",
    "# Apply the second weights to the hidden layer\n",
    "Z3 = np.dot(a2, W2)\n",
    "print(\"Z3 =\")\n",
    "print(Z3)\n",
    "\n",
    "# Apply the activation function to produce prediction for yHat\n",
    "yHat = sigmoid(Z3)\n",
    "\n",
    "# Compare yhat to known y_norm\n",
    "print(\"--------------\")\n",
    "print(\"How did we do?\")\n",
    "print(\"y_norm:\")\n",
    "print(y_norm)\n",
    "print(\"yHat:\")\n",
    "print(yHat)"
   ]
  },
  {
   "cell_type": "markdown",
   "metadata": {},
   "source": [
    "---\n",
    "# 2. Present project updates\n",
    "\n",
    "Each group will have **~2 minutes** to update the class on where they are at with their projects. Make sure to pay attention in case you have questions or suggestions. You might also get some inspiration from another group!"
   ]
  },
  {
   "cell_type": "markdown",
   "metadata": {},
   "source": [
    "----\n",
    "# 3. Work on semester projects\n",
    "\n",
    "This is a chance to make some progress on your project with your group while the instructors are around to help. Make use of it!\n",
    "\n",
    "Before you leave, answer the following questions:\n",
    "\n",
    "1. Where are you at with your project?\n",
    "    - What have you accomplished?\n",
    "    - What do you still need to do?\n",
    "2. What do you think your biggest obstacle will be in completing your assignment?\n",
    "3. When is your group going to meet to continue working on or finish the project?"
   ]
  },
  {
   "cell_type": "markdown",
   "metadata": {},
   "source": [
    "*Put your answers here!*"
   ]
  },
  {
   "cell_type": "markdown",
   "metadata": {},
   "source": [
    "-----\n",
    "### Congratulations, you're done!\n",
    "\n",
    "Submit this notebook to D2L so that your instructor knows where you're at with your project!"
   ]
  },
  {
   "cell_type": "markdown",
   "metadata": {},
   "source": [
    "&#169; Copyright 2018,  Michigan State University Board of Trustees"
   ]
  }
 ],
 "metadata": {
  "kernelspec": {
   "display_name": "Python 3",
   "language": "python",
   "name": "python3"
  },
  "language_info": {
   "codemirror_mode": {
    "name": "ipython",
    "version": 3
   },
   "file_extension": ".py",
   "mimetype": "text/x-python",
   "name": "python",
   "nbconvert_exporter": "python",
   "pygments_lexer": "ipython3",
   "version": "3.7.1"
  }
 },
 "nbformat": 4,
 "nbformat_minor": 2
}
