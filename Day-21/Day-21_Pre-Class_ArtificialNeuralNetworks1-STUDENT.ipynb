{
 "cells": [
  {
   "cell_type": "markdown",
   "metadata": {},
   "source": [
    "## <p style=\"text-align: right;\"> &#9989; Put your name here</p>"
   ]
  },
  {
   "cell_type": "markdown",
   "metadata": {},
   "source": [
    "# Day 21 Pre-Class assignment: Introduction to Artificial Neural Networks\n",
    "\n",
    "This entire Artificial Neural Networks module is from Neural Networks Demystified by @stephencwelch.  We have streamlined the content to better fit the format of the class. However, if you have questions or are just curious I highly recommend downloading everything from the following git repository.  It is a great reference to have:\n",
    "\n",
    "    git clone https://github.com/stephencwelch/Neural-Networks-Demystified\n"
   ]
  },
  {
   "cell_type": "markdown",
   "metadata": {},
   "source": [
    "## Goals for today's pre-class assignment \n",
    "\n",
    "</p>\n",
    "\n",
    "1. Think about the architecture of Artificial Neural Networks\n",
    "1. Model data flow by performing forward propagation\n",
    "1. Explore A Neural Network (through a visualization)\n",
    "\n",
    "## Assignment instructions\n",
    "\n",
    "**This assignment is due by 11:59 p.m. the day before class** and should be uploaded into the appropriate \"Pre-class assignments\" submission folder in the Desire2Learn website.\n"
   ]
  },
  {
   "cell_type": "markdown",
   "metadata": {},
   "source": [
    "# 1. The architecture of Artificial Neural Networks"
   ]
  },
  {
   "cell_type": "markdown",
   "metadata": {},
   "source": [
    "Watch the following video:"
   ]
  },
  {
   "cell_type": "code",
   "execution_count": null,
   "metadata": {},
   "outputs": [],
   "source": [
    "from IPython.display import YouTubeVideo\n",
    "YouTubeVideo('bxe2T-V8XRs',width=640,height=360)"
   ]
  },
  {
   "cell_type": "markdown",
   "metadata": {},
   "source": [
    "We will use the data from the video above:\n",
    "$$X = \\left[\\begin{matrix} 3 & 5 \\\\ 5 & 1 \\\\ 10 & 2 \\end{matrix}\\right] \\hspace{1cm} , \\hspace{1cm}y = \\left[ \\begin{matrix} 75 \\\\ 82 \\\\ 93 \\end{matrix}\\right] $$\n",
    "\n",
    "\n",
    "### &#9989; Step 1: Initialize your inputs\n",
    "Create two numpy arrays to store the values of the variables $X$ and $y$, as well as their normalized counterparts \n",
    "$X_{norm}$ and $y_{norm}$."
   ]
  },
  {
   "cell_type": "code",
   "execution_count": null,
   "metadata": {},
   "outputs": [],
   "source": [
    "# your code here (Note include needed libraries):\n",
    "\n",
    "\n",
    "\n",
    "# input data (hours of sleep, hours of study)\n",
    "X = \n",
    "\n",
    "# normalized X\n",
    "X_norm = \n",
    "\n",
    "\n",
    "# output data (test score)\n",
    "y = \n",
    "\n",
    "# normalized y\n",
    "y_norm = "
   ]
  },
  {
   "cell_type": "markdown",
   "metadata": {},
   "source": [
    "# 2. Data flow: forward propagation"
   ]
  },
  {
   "cell_type": "markdown",
   "metadata": {},
   "source": [
    "Data in a neural network flows via a process called **forward propagation**. Watch the following video:"
   ]
  },
  {
   "cell_type": "code",
   "execution_count": null,
   "metadata": {
    "scrolled": true
   },
   "outputs": [],
   "source": [
    "from IPython.display import YouTubeVideo\n",
    "YouTubeVideo('UJwK6jAStmg',width=640,height=360, align='Center')"
   ]
  },
  {
   "cell_type": "markdown",
   "metadata": {},
   "source": [
    "**Question 1:** How many input layers, hidden layers and output layers are there in the neural network shown in the video?"
   ]
  },
  {
   "cell_type": "code",
   "execution_count": null,
   "metadata": {},
   "outputs": [],
   "source": [
    "# Put your answer here\n",
    "inputLayerSize = \n",
    "outputLayerSize = \n",
    "hiddenLayerSize = "
   ]
  },
  {
   "cell_type": "markdown",
   "metadata": {},
   "source": [
    "### &#9989; Step 2:  Initialize random weights\n",
    "Randomly initialize two numpy arrays W1 and W2, of the right dimensions, to store the weights (zero-one) in the synapses between input layer --> hidden layer, and hidden layer --> output layer  "
   ]
  },
  {
   "cell_type": "code",
   "execution_count": null,
   "metadata": {},
   "outputs": [],
   "source": [
    "# your code here:\n",
    "\n",
    "W1 = \n",
    "\n",
    "\n",
    "W2 ="
   ]
  },
  {
   "cell_type": "markdown",
   "metadata": {},
   "source": [
    "### &#9989; Step 3: Multiply the normalized input matrix by $W^{(1)}$\n",
    "$$Z^{(2)} = X  W^{(1)} $$ \n",
    "Here is the code using the NumPy `dot` function. If you get an error you may have initilized the size of your variables incorrectly. Make sure the second dimension of ```X_norm``` matches the first dimension of ```W1```:"
   ]
  },
  {
   "cell_type": "code",
   "execution_count": null,
   "metadata": {},
   "outputs": [],
   "source": [
    "Z2 = np.dot(X_norm, W1)\n",
    "Z2"
   ]
  },
  {
   "cell_type": "markdown",
   "metadata": {},
   "source": [
    "### &#9989; **Do This:** Implement and test the sigmoid function \n",
    "\n",
    "$$a(z) = \\frac{1}{1 + e^{-z}} $$ \n",
    "\n",
    "The implemented  sigmoid function should take as input a numpy array and return a numpy array of the same dimension, with the function $f$ applied to each entry."
   ]
  },
  {
   "cell_type": "code",
   "execution_count": null,
   "metadata": {},
   "outputs": [],
   "source": [
    "# your code here:\n",
    "def sigmoid(z):\n",
    "    # apply sigmoid activation function\n",
    "    \n",
    "    return "
   ]
  },
  {
   "cell_type": "markdown",
   "metadata": {},
   "source": [
    "Test your sigmoid function using the following testing code:"
   ]
  },
  {
   "cell_type": "code",
   "execution_count": null,
   "metadata": {},
   "outputs": [],
   "source": [
    "testInput = np.arange(-6,6,0.01)\n",
    "plt.plot(testInput, sigmoid(testInput), linewidth= 2)\n",
    "plt.grid(1)"
   ]
  },
  {
   "cell_type": "markdown",
   "metadata": {},
   "source": [
    "### &#9989; Step 4: Apply the sigmoid function to  $Z^{(2)}$\n",
    "$$a^{(2)} = f({Z^{(2)}})$$ \n",
    "Here is the code to apply the sigmoid function to $Z^{(2)}$ and display the results"
   ]
  },
  {
   "cell_type": "code",
   "execution_count": null,
   "metadata": {},
   "outputs": [],
   "source": [
    "a2 = sigmoid(Z2)\n",
    "a2"
   ]
  },
  {
   "cell_type": "markdown",
   "metadata": {},
   "source": [
    "### &#9989; Step 5:  multiply $A^{(2)}$ by $W^{(2)}$ to get $Z^{(3)}$\n",
    "$$Z^{(3)} = A^{(2)}  W^{(2)} $$ "
   ]
  },
  {
   "cell_type": "code",
   "execution_count": null,
   "metadata": {},
   "outputs": [],
   "source": [
    "Z3 = np.dot(a2, W2)\n",
    "Z3"
   ]
  },
  {
   "cell_type": "markdown",
   "metadata": {},
   "source": [
    "### &#9989; Step 6: Apply the sigmoid function again to $Z^{(3)}$ to produce $\\hat{y}$\n",
    "$$\\hat{y} = f({Z^{(3)}})$$ "
   ]
  },
  {
   "cell_type": "code",
   "execution_count": null,
   "metadata": {},
   "outputs": [],
   "source": [
    "# your code here:\n",
    "yHat = "
   ]
  },
  {
   "cell_type": "markdown",
   "metadata": {},
   "source": [
    "### Final Comparison\n",
    "Now compare the estimation output ($\\hat{y}$) to the actual output ```y_norm```.  "
   ]
  },
  {
   "cell_type": "code",
   "execution_count": null,
   "metadata": {},
   "outputs": [],
   "source": [
    "y_norm"
   ]
  },
  {
   "cell_type": "code",
   "execution_count": null,
   "metadata": {},
   "outputs": [],
   "source": [
    "yHat"
   ]
  },
  {
   "cell_type": "markdown",
   "metadata": {},
   "source": [
    "Of course the results from forward propagation are terrible; no surprises here! The weights have not been properly chosen. That's what training a network does:  the goal is to find a combination of weights so that the result of forward propagation fits the intended output data as best as possible. \n",
    "\n",
    "We will be covering this topic in class."
   ]
  },
  {
   "cell_type": "markdown",
   "metadata": {},
   "source": [
    "# 3. Exploring A Neural Network\n",
    "\n",
    "Please go to the following website : http://playground.tensorflow.org/\n",
    "\n",
    "There, you'll have the opportunity to play with an actual neural network (e.g., choosing its architecture and the type of activation function) for classification purpose. "
   ]
  },
  {
   "cell_type": "markdown",
   "metadata": {},
   "source": [
    "----\n",
    "# Assignment wrap-up\n",
    "\n",
    "Please fill out the form that appears when you run the code below.  **You must completely fill this out in order to receive credit for the assignment!**"
   ]
  },
  {
   "cell_type": "code",
   "execution_count": null,
   "metadata": {},
   "outputs": [],
   "source": [
    "from IPython.display import HTML\n",
    "HTML(\n",
    "\"\"\"\n",
    "<iframe \n",
    "\tsrc=\"https://goo.gl/forms/vKIJ53LxKq3h0rxN2\" \n",
    "\twidth=\"800px\" \n",
    "\theight=\"600px\" \n",
    "\tframeborder=\"0\" \n",
    "\tmarginheight=\"0\" \n",
    "\tmarginwidth=\"0\">\n",
    "\tLoading...\n",
    "</iframe>\n",
    "\"\"\"\n",
    ")"
   ]
  },
  {
   "cell_type": "markdown",
   "metadata": {},
   "source": [
    "---------\n",
    "### Congratulations, you're done with your pre-class assignment!\n",
    "\n",
    "Now, you just need to submit this assignment by uploading it to the course <a href=\"https://d2l.msu.edu/\">Desire2Learn</a> web page for today's submission folder (Don't forget to add your name in the first cell)."
   ]
  },
  {
   "cell_type": "markdown",
   "metadata": {},
   "source": [
    "&#169; Copyright 2018,  Michigan State University Board of Trustees"
   ]
  }
 ],
 "metadata": {
  "kernelspec": {
   "display_name": "Python 3",
   "language": "python",
   "name": "python3"
  },
  "language_info": {
   "codemirror_mode": {
    "name": "ipython",
    "version": 3
   },
   "file_extension": ".py",
   "mimetype": "text/x-python",
   "name": "python",
   "nbconvert_exporter": "python",
   "pygments_lexer": "ipython3",
   "version": "3.7.1"
  }
 },
 "nbformat": 4,
 "nbformat_minor": 2
}
