{
 "cells": [
  {
   "cell_type": "markdown",
   "metadata": {
    "slideshow": {
     "slide_type": "-"
    }
   },
   "source": [
    "### <p style=\"text-align: right;\"> &#9989; **Put your name here** </p>\n",
    "#### <p style=\"text-align: right;\"> &#9989; Put your group member names here</p>"
   ]
  },
  {
   "cell_type": "markdown",
   "metadata": {
    "slideshow": {
     "slide_type": "-"
    }
   },
   "source": [
    "# Day 25 In-Class Assignment: Review and Project Brainstorming\n",
    "\n",
    "In this in-class assignment we are going to review the class syllabus and review the course content in the context of the syllabus. You should be able to find the course syllabus in the \"CourseMaterials\" folder in your Assignments repository.\n",
    "\n",
    "Specifically we would like you reflect on what you have learned so far and relate what you have learned to the learning goals.\n",
    "\n",
    "The following is a list of topics/modules we completed covered in the course in roughly the order that they were covered. \n",
    "\n",
    "**Remember:** All of the course assignments are in your \"assignments\" repository, so you can go back and look at the assignments that comprised each of the modules listed below.\n",
    "\n",
    "* Command line interface\n",
    "* Version control with Git\n",
    "* Debugging Python code\n",
    "* Writing Python scripts\n",
    "* Python package management\n",
    "* Solving time-evoling systems with ODEs\n",
    "* Graph theory (building and analyzing networks)\n",
    "* Object-oriented programming with Python (writing classes)\n",
    "* Agent-based models\n",
    "* Machine learning\n",
    "    - Perceptron\n",
    "    - SVMs (with and without PCA)\n",
    "    - Artifical neural networks\n",
    "* Parameter estimation with Markov Chain Monte Carlo\n",
    "* Quantum computing"
   ]
  },
  {
   "cell_type": "markdown",
   "metadata": {
    "slideshow": {
     "slide_type": "-"
    }
   },
   "source": [
    "## Goals for today's assignment \n",
    "\n",
    "1. Review learning goals and reflect on assignments\n",
    "1. Review the primary topics covered and reflect on how these relate to learning goals.\n",
    "1. Review overall class design and motivation."
   ]
  },
  {
   "cell_type": "markdown",
   "metadata": {},
   "source": [
    "----\n",
    "# 1. Learning Goals\n",
    "Below is the list of learning goals (also called learning objectives) from the CMSE 202 class syllabus. Learning goals are important so that instructors and students both understand the purpose of the learning experience. \n",
    "\n",
    "**&#9989; DO THIS:** For each of the seven goals listed below, select a example assignment from one of the modules listed above and describe how it relates to this learning goal (try using your own words in the description). We did the first one for you as an example. Be prepared to discuss your examples in a class-wide discussion."
   ]
  },
  {
   "cell_type": "markdown",
   "metadata": {},
   "source": [
    "1)\t**Design** and **write** programs to solve common problems in a variety of scientific disciplines."
   ]
  },
  {
   "cell_type": "markdown",
   "metadata": {},
   "source": [
    "> **Day-05_In-Class_RandomNumbersMonteCarloIntegration** - We wrote a program as a Python script to compute the area enclosed in a region using random numbers through \"monte carlo Integration\". "
   ]
  },
  {
   "cell_type": "markdown",
   "metadata": {},
   "source": [
    "2)\t**Identify** and **analyze** appropriate pre-existing techniques, software packages and numerical libraries to **use** in programs to solve scientific problems."
   ]
  },
  {
   "cell_type": "markdown",
   "metadata": {},
   "source": [
    "> <font size=6 color=\"#009600\">&#9998;</font> Select a example assignment from the topics above and describe how it relates to this learning goal."
   ]
  },
  {
   "cell_type": "markdown",
   "metadata": {},
   "source": [
    "3)\t**Choose** appropriate algorithms and data types to break down scientific problems into manageable components."
   ]
  },
  {
   "cell_type": "markdown",
   "metadata": {},
   "source": [
    "> <font size=6 color=\"#009600\">&#9998;</font> Select a example assignment from the topics above and describe how it relates to this learning goal."
   ]
  },
  {
   "cell_type": "markdown",
   "metadata": {},
   "source": [
    "4)\t**Use** modern software development methods and tools to construct *reusable* programs."
   ]
  },
  {
   "cell_type": "markdown",
   "metadata": {},
   "source": [
    "> <font size=6 color=\"#009600\">&#9998;</font> Select a example assignment from the topics above and describe how it relates to this learning goal."
   ]
  },
  {
   "cell_type": "markdown",
   "metadata": {},
   "source": [
    "5)\t**Create** computer automated workflows to manipulate, analyze and visualize datasets and **use** this data to evaluate scientific models."
   ]
  },
  {
   "cell_type": "markdown",
   "metadata": {},
   "source": [
    "> <font size=6 color=\"#009600\">&#9998;</font> Select a example assignment from the topics above and describe how it relates to this learning goal."
   ]
  },
  {
   "cell_type": "markdown",
   "metadata": {},
   "source": [
    "6)\t**Demonstrate** the ability to work in diverse groups to develop scientific software."
   ]
  },
  {
   "cell_type": "markdown",
   "metadata": {},
   "source": [
    "> <font size=6 color=\"#009600\">&#9998;</font> Select a example assignment from the topics above and describe how it relates to this learning goal."
   ]
  },
  {
   "cell_type": "markdown",
   "metadata": {},
   "source": [
    "7)\t**Explain** the results from a scientific computing problem and present it both verbally and in writing."
   ]
  },
  {
   "cell_type": "markdown",
   "metadata": {},
   "source": [
    "> <font size=6 color=\"#009600\">&#9998;</font> Select a example assignment from the topics above and describe how it relates to this learning goal."
   ]
  },
  {
   "cell_type": "markdown",
   "metadata": {},
   "source": [
    "---\n",
    "# 2. Primary Concepts Covered\n",
    "\n",
    "As listed in the syllabus, the primary computational concepts covered in this course include:\n",
    "\n",
    "* Finding and using existing software and tools to solve scientific models.\n",
    "* Tools for collaborating with other programmers/scientists (Version Control)\n",
    "* More experience in programming in Python (i.e., variables and types, functions, simple data structures (strings, lists, dictionaries))\n",
    "* Moving beyond the Jupyter notebooks (Command Line Interfaces and Python scripts).\n",
    "* Tools to be better programmers and scientists\n",
    "* Plotting and data visualization\n",
    "* File and dataset manipulation\n",
    "* Introduction to scientific computing techniques, possibly  including; signal processing, graph theory, machine learning, image analysis.\n",
    "\n",
    "These primary topics (and others) are taught, revisited and practiced in multiple assignments in the hopes of students improved learning and achieving some level of mastery. "
   ]
  },
  {
   "cell_type": "markdown",
   "metadata": {},
   "source": [
    "If we take Git/Version Control as an example, **how does learning Git tie into the learning goals of the course?** Well, Git is a highly used modern software development tool (See learning goal 4 from above) whose mastery will help students develop reusable software and enable them to work more effectively in teams (See learning goal 6 from above)."
   ]
  },
  {
   "cell_type": "markdown",
   "metadata": {},
   "source": [
    "**&#9989; DO THIS:** Consider the primary concept of \"Moving beyond the Jupyter notebooks (Command Line Interfaces and Python scripts).\" Explain how learning this topic relates to the list of learning goals in Section 1. Note, we are expecting an answer similar to the description of Git in the paragraph above."
   ]
  },
  {
   "cell_type": "markdown",
   "metadata": {},
   "source": [
    "> <font size=6 color=\"#009600\">&#9998;</font> Explain how learning CLI and python scripting relates to the learning goals for the class. "
   ]
  },
  {
   "cell_type": "markdown",
   "metadata": {},
   "source": [
    "---\n",
    "# 3. Review of the class design (up until now)\n",
    "\n",
    "At times, this course may seem to be slightly disconnected, but there is actually a method to our madness. The class is designed with multiple main learning threads. This technique in teaching is called integrated teaching.  The following are design concept categories that we try to integrate into all lessons. Included in each category are a few examples from class assignments:\n",
    "\n",
    "1. **Scientific motivation** - Concept to provide real world examples for everything\n",
    "    * Modeling physical systems (pendulum, extreme sports, orbits)\n",
    "    * Modeling disease epidemics (Zombie outbreak)\n",
    "    * Cell Tower Frequency Selection\n",
    "    * Numerical Integration\n",
    "\n",
    "2. **Modeling tools** - Mathematical models or techniques that are used in a wide area of sciences. \n",
    "    * Graph Theory\n",
    "    * Numerical Solutions to ODEs (euler method, midpoint method, RK methods)\n",
    "    * Geographic Information Systems (GIS) (i.e. mapping; the folium package)\n",
    "    * Visualization (matplotlib, ggplot)\n",
    "\n",
    "3. **Programming concepts** - General tools that can help you be a better programmer (independent of the language)\n",
    "    * Exploration\n",
    "    * Debugging\n",
    "    * File systems\n",
    "    * Command Line Interface\\*\\*\n",
    "    * Git\\*\\*\n",
    "\n",
    "4. **Python Programming Concepts** - Tools and practices specific (or highly bias) towards Python. \n",
    "    * Jupyter Notebooks\n",
    "    * Installing Software\n",
    "    * Python Tutor\n",
    "    * pdb/parsing python errors\n",
    "    * Python libraries (numpy, matplotlib, networkx, folium)\n",
    "    \n",
    "    \n",
    "\\*\\* specific tools used by developers in all areas of programming."
   ]
  },
  {
   "cell_type": "markdown",
   "metadata": {},
   "source": [
    "The class is organized into \"modules\" as much as possible as indicated at the beginning of this assignment. These modules consist of assignments that are grouped together and typically consists of a combination of pre-class assignments, in-class assignments, and possibly a homework.  We try to develop each module to have some components from  each of the design concepts.  For example, consider the graph theory and related assignments again.  The Graph theory module consists of the following assignments:\n",
    "\n",
    "* Day-09_Pre-Class_GraphTheory.ipynb\n",
    "* Day-09_In-Class_GraphTheory.ipynb\n",
    "* Day-10_Pre-Class_GraphTheoryCellTowers.ipynb\n",
    "* Day-10_In-Class_GraphTheoryCellTowers.ipynb\n",
    "* HW-03_Gerrymandering.ipynb\n",
    "\n",
    "A example review of this module is show here:\n",
    "\n",
    "1. **Scientific motivation** \n",
    "    - Tower Frequency Selection - This is an actual engineering problem designed to minimize interface while also minimizing frequencies used.\n",
    "    - Galaxy Mergers - graphy theory can be used to understand visualize how galaxy mergers happen and how this ties into large scale structure formation in the Universe.\n",
    "2. **Modeling tools** \n",
    "    - Graph Theory - Representing data, problems and models as graphs.\n",
    "    - Web crawler - Tool to gather data from the web. \n",
    "3. **Programming concepts** \n",
    "    - Exploration - Searching for graphing libraries\n",
    "    - File systems - Learning/revisiting how to load csv files\n",
    "    - Command Line Interface - Downloading files\n",
    "4. **Python Programming Concepts** \n",
    "    - Dictionaries, numpy, matplotlib, networkx\n",
    "    - Installing packages (e.g. Folium)"
   ]
  },
  {
   "cell_type": "markdown",
   "metadata": {},
   "source": [
    "**&#9989;  Do This:** Review the \"Agent-based models\" module and try to find the design concepts being taught or practiced. Fill out the list below. Be prepared to share your thoughts with the class. Here are the ABM-related assignments to remind you:\n",
    "\n",
    "* Day-12_Pre-Class_SuperbugsABM.ipynb\n",
    "* Day-12_In-Class_ABMSuperbugs1.ipynb\n",
    "* Day-13_Pre-Class_ObjectInheritance.ipynb\n",
    "* Day-13_In-Class_ABMSuperbugs2.ipynb\n",
    "* HW-04_ABMsWithMesa-WealthNetwork.ipynb"
   ]
  },
  {
   "cell_type": "markdown",
   "metadata": {},
   "source": [
    "### ABM Module\n",
    "\n",
    "1. **Scientific motivation** \n",
    "    - Put your notes here.\n",
    "2. **Modeling tools** \n",
    "    - Put your notes here. \n",
    "3. **Programming concepts** \n",
    "    - Put your notes here. \n",
    "4. **Python Programming Concepts** \n",
    "    - Put your notes here."
   ]
  },
  {
   "cell_type": "markdown",
   "metadata": {},
   "source": [
    "----\n",
    "# 4. What's else?\n",
    "\n",
    "As we worked through the course, you had many opportunities to work with the concepts from above and practice your programming skills in Python. Take a few minutes to identify any aspects of the course that fall in the 4 design concept areas that haven't already been highlighted.\n",
    "\n",
    "1. **Scientific motivation** \n",
    "    - Put your notes here.\n",
    "2. **Modeling tools** \n",
    "    - Put your notes here.\n",
    "3. **Programming concepts** \n",
    "    - Put your notes here.\n",
    "5. **Python Programming Concepts** \n",
    "    - Put your notes here."
   ]
  },
  {
   "cell_type": "markdown",
   "metadata": {},
   "source": [
    "----\n",
    "# Assignment Wrap-up\n",
    "\n",
    "Fill out the following Google Form before submitting your assignment to D2L!"
   ]
  },
  {
   "cell_type": "code",
   "execution_count": null,
   "metadata": {},
   "outputs": [],
   "source": [
    "from IPython.display import HTML\n",
    "HTML(\n",
    "\"\"\"\n",
    "<iframe \n",
    "\tsrc=\"https://goo.gl/forms/noAwoJd9pEj7A1su1\" \n",
    "\twidth=\"800\" \n",
    "\theight=\"600\" \n",
    "\tframeborder=\"0\" \n",
    "\tmarginheight=\"0\" \n",
    "\tmarginwidth=\"0\">\n",
    "\tLoading...\n",
    "</iframe>\n",
    "\"\"\"\n",
    ")"
   ]
  },
  {
   "cell_type": "markdown",
   "metadata": {},
   "source": [
    "---------\n",
    "### Congratulations, you're done with your in-class assignment!\n",
    "\n",
    "Now, you just need to submit this assignment by uploading it to the course <a href=\"https://d2l.msu.edu/\">Desire2Learn</a> web page for today's submission folder (Don't forget to add your names in the first cell)."
   ]
  },
  {
   "cell_type": "markdown",
   "metadata": {},
   "source": [
    "&#169; Copyright 2018,  Michigan State University Board of Trustees"
   ]
  }
 ],
 "metadata": {
  "anaconda-cloud": {},
  "kernelspec": {
   "display_name": "Python 3",
   "language": "python",
   "name": "python3"
  },
  "language_info": {
   "codemirror_mode": {
    "name": "ipython",
    "version": 3
   },
   "file_extension": ".py",
   "mimetype": "text/x-python",
   "name": "python",
   "nbconvert_exporter": "python",
   "pygments_lexer": "ipython3",
   "version": "3.7.1"
  }
 },
 "nbformat": 4,
 "nbformat_minor": 2
}
