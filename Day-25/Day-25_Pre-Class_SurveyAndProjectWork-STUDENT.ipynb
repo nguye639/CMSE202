{
 "cells": [
  {
   "cell_type": "markdown",
   "metadata": {},
   "source": [
    "## <p style=\"text-align: right;\"> &#9989; Put your name here</p>"
   ]
  },
  {
   "cell_type": "markdown",
   "metadata": {},
   "source": [
    "# Day 25 Pre-class assignment: A quick survey and making project progress!\n",
    "\n",
    "## Goals for today's pre-class assignment\n",
    "\n",
    "* Fill out a quick survey to assist with a CMSE education research project\n",
    "* Make some progress on your project with your group!\n",
    "\n",
    "## Assignment instructions\n",
    "\n",
    "**This assignment is due by 11:59 p.m. the day before class,** and should be uploaded into the appropriate \"Pre-class assignments\" dropbox folder."
   ]
  },
  {
   "cell_type": "markdown",
   "metadata": {},
   "source": [
    "---\n",
    "## Part 0: Short survey for CMSE Research Study\n",
    "\n",
    "The Department of CMSE is in the early stages of carrying out research to understand how students interact with, digest, and ultimately learn computationally-driven content. As part of this effort, a survey aimed at understanding how you feel about your ability to accomplish a variety of programming-related tasks now that you've nearly completed the course is included below. You participation in this survey is completely voluntary and the results will have _absolutely no impact_ on your final grade in this course. Furthemore, your responses will be kept completely confidential. Even your instructors will not be able to identify your individual reponses.\n",
    "\n",
    "Your participation will help to improve future iterations of our CMSE courses!"
   ]
  },
  {
   "cell_type": "code",
   "execution_count": null,
   "metadata": {},
   "outputs": [],
   "source": [
    "from IPython.display import HTML\n",
    "HTML(\n",
    "\"\"\"\n",
    "<iframe \n",
    "\tsrc=\"https://forms.gle/2ZrpGVhnAYAry5yNA\" \n",
    "\twidth=\"800px\" \n",
    "\theight=\"600px\" \n",
    "\tframeborder=\"0\" \n",
    "\tmarginheight=\"0\" \n",
    "\tmarginwidth=\"0\">\n",
    "\tLoading...\n",
    "</iframe>\n",
    "\"\"\"\n",
    ")"
   ]
  },
  {
   "cell_type": "markdown",
   "metadata": {},
   "source": [
    "---\n",
    "## Part 1: Work on your project!\n",
    "\n",
    "If you haven't already made some significant progress on your project, you should really get moving! Project presentations will start soon, so take some time to check in with your group and get some work done on your project.\n",
    "\n",
    "**In the cell below, describe what contributions you have made to your group's project thus far and what additional contributions you plan to make.**"
   ]
  },
  {
   "cell_type": "markdown",
   "metadata": {},
   "source": [
    "*Describe your contributions to your group project here!*"
   ]
  },
  {
   "cell_type": "markdown",
   "metadata": {},
   "source": [
    "---\n",
    "## Assignment wrap-up\n",
    "\n",
    "Since you already filled out one survey, you're not being asked to fill out another one. Just make sure you upload this completed notebook to D2L!"
   ]
  },
  {
   "cell_type": "markdown",
   "metadata": {},
   "source": [
    "---\n",
    "### Congratulations, you're done!\n",
    "\n",
    "Submit this assignment by uploading it to the course Desire2Learn web page.  Go to the \"Pre-class assignments\" folder, find the appropriate submission link, and upload it there.\n",
    "\n",
    "See you in class!"
   ]
  },
  {
   "cell_type": "markdown",
   "metadata": {},
   "source": [
    "&#169; Copyright 2018,  Michigan State University Board of Trustees"
   ]
  }
 ],
 "metadata": {
  "kernelspec": {
   "display_name": "Python 3",
   "language": "python",
   "name": "python3"
  },
  "language_info": {
   "codemirror_mode": {
    "name": "ipython",
    "version": 3
   },
   "file_extension": ".py",
   "mimetype": "text/x-python",
   "name": "python",
   "nbconvert_exporter": "python",
   "pygments_lexer": "ipython3",
   "version": "3.7.1"
  }
 },
 "nbformat": 4,
 "nbformat_minor": 2
}
