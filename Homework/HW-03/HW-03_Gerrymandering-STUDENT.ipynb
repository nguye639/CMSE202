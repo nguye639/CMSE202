{
 "cells": [
  {
   "cell_type": "markdown",
   "metadata": {},
   "source": [
    "### <p style=\"text-align: right;\"> &#9989; Put your name here.</p>"
   ]
  },
  {
   "cell_type": "markdown",
   "metadata": {},
   "source": [
    "<img src=\"http://media.mlive.com/elections_impact/photo/-ea54343316cbd29c.jpg\" width=600px>\n",
    "\n",
    "# Homework Assignment #3\n",
    "\n",
    "## Modeling Gerrymandering using Graph Theory\n",
    "\n",
    "\n",
    "The purpose of this assignment is to give you some practice using the networkx library to model problems using graphs. We will also explore some of the links between pandas, networkx, and a new software called geopandas.\n",
    "\n",
    "\n",
    "**You are encouraged to read through the entire assignment before you start to make sure you understand what you're expected to do.**\n",
    "\n",
    "### Goals for this assignment:\n",
    "\n",
    "By the end of this assignment, you should be able to:\n",
    "\n",
    "* Install a new software called geopandas\n",
    "* Load a shapefile as a geopandas dataframe\n",
    "* Create some basic visualizations using a geopandas dataframe\n",
    "* Convert a geopandas dataframe to a networkx graph\n",
    "\n",
    "\n",
    "### Assignment instructions\n",
    "\n",
    "**This assignment is due roughly two weeks from now at 11:59pm on Friday, February 22.** It should be uploaded into the \"Homework Assignments\" dropbox folder for Homework #3.  Submission instructions can be found at the end of the notebook.\n",
    "\n",
    "\n",
    "-----\n",
    "### Background\n",
    "\n",
    "Due to the rise in recent news coverage, many of you may be familiar with the topic of gerrymandering. For those who aren't, the video below will begin with a short introduction. The rest of the video describes some of the computational methods and models which are being used to assess the level of gerrymandering of a congressional districting plan."
   ]
  },
  {
   "cell_type": "code",
   "execution_count": null,
   "metadata": {},
   "outputs": [],
   "source": [
    "from IPython.display import YouTubeVideo\n",
    "YouTubeVideo(\"PrUqbCnEpus\",width=640,height=360)"
   ]
  },
  {
   "cell_type": "markdown",
   "metadata": {},
   "source": [
    "One of the models discussed in the video is based on graph theory. In this model \"voter tabulation districts\" such as a voting precinct serve as the nodes of the graph. The nodes are connected to one another if the two voting precincts are next to one another on the map. In order to represent districts, the graph is partitioned into *connected components*. The main goal of this assignment is to produce a simplified version of one of these graphs as a model of the current congressional district plan in Michigan. Let's get started."
   ]
  },
  {
   "cell_type": "code",
   "execution_count": null,
   "metadata": {},
   "outputs": [],
   "source": [
    "### MAKE SURE TO RUN THIS CELL!\n",
    "import networkx as nx\n",
    "import pandas as pd\n",
    "import numpy as np\n",
    "import matplotlib.pyplot as plt\n",
    "%matplotlib inline"
   ]
  },
  {
   "cell_type": "markdown",
   "metadata": {},
   "source": [
    "---\n",
    "## Section 1: Visualizing data with a Pandas Dataframe  \n",
    "In this section, we will be working with the file 'data/MI_Presidential_Results_by_County_2016.csv' which you should have downloaded with your notebook. The data contained in this file has already been prepared so that it can be easily converted to a pandas dataframe. The focus of this assignment is to practice visualizing and modeling a set of data assuming that it has already been organized in a useful way. In practice, it is rare that you will find such a well prepared dataset. The first step in any data science project almost always involves collecting data and organizing it. However, for the sake of time, this step has been completed in advance.\n",
    "\n",
    "### **Part 1.0**:\n",
    "**Convert the file \"MI_Presidential_Results_by_County_2016.csv\" into a pandas dataframe.**"
   ]
  },
  {
   "cell_type": "code",
   "execution_count": null,
   "metadata": {},
   "outputs": [],
   "source": [
    "### Put your code here\n"
   ]
  },
  {
   "cell_type": "markdown",
   "metadata": {},
   "source": [
    "### Some Jargon\n",
    "What you should find in the dataframe you created in Part 1.0 is the population of each of Michigan's 83 counties, as well as the number of democratic/republican votes cast in that county during the 2016 presidential election. In the final column is a 'DistrictCode' which approximates the congressional district each county sits in. We will explore the 'DistrictCode' further during a later section. For now, we will try to visualize the outcome of the election using the data we have together with some of the built in pandas plotting methods. One simple way to visualize this data is to plot the difference between the democratic votes and the republican votes in each county using a scatter plot or bar graph. Hopefully you already know how to create a scatter plot or bar graph using matplotlib. However, something you may not be so familiar with are the matplotlib functions specifically designed to work with the dataframes! A python **_class_** is a single structure which encompases both an object and a special set of functions which can act on that object. We call these special functions **_class methods_** and we can access them using the 'dot' notation like this:\n",
    "\n",
    "'my_class.method()'\n",
    "\n",
    "Notice that method calls require parenthesis just like standard function calls. The technique of storing objects together with the methods that act on those objects into classes is the central concept of **_Object Oriented Programming_**. In fact, since we have the capability to construct classes in python, we call it an **_Object Oriented Programming Language_**. We will learn much more about classes and methods during the course of this semester. In this section, we will simply explore some useful methods from a python class you are already familiar with.\n",
    "\n",
    "### Example 1.1:\n",
    "Let's see what a python class looks like in action. In the cell below is a simple example of a pandas dataframe which is one example of a class. Inside of the dataframe class there is a method called `plot.scatter` which is built on top of matplotlib's `plt.scatter` function. One convienience of using the `plot.scatter` method is that we can usually just set parameters by passing in the name of a column headings in our dataframe."
   ]
  },
  {
   "cell_type": "code",
   "execution_count": null,
   "metadata": {},
   "outputs": [],
   "source": [
    "### EXAMPLE 1.1 ###\n",
    "\n",
    "# Creating an example dataframe with three columns\n",
    "data = {'col1': [1, 2, 3, 4, 5], 'col2': [1, 2, 3, 4, 5], 'col3': [-1, -2, -3, -4, -5]}\n",
    "df = pd.DataFrame(data=data, index=['row' + str(i) for i in range(1,6)])\n",
    "\n",
    "# Notice the data frame has type <class 'pandas....DataFrame'>\n",
    "print(type(df), '\\n')\n",
    "print(df)\n",
    "\n",
    "# Create matplotlib figure and axes objects\n",
    "fig, ax = plt.subplots(nrows = 2, ncols = 1, figsize = (10,5))\n",
    "\n",
    "# This is how we access the plot.scatter method from the Dataframe class\n",
    "# The 'x' and 'y' inputs must be column titles from our dataframe given as strings\n",
    "df.plot.scatter(ax = ax[0], x = 'col1', y = 'col2', s = 100, color = 'red')\n",
    "\n",
    "# We can specify other input parameters the same way as we do in the plt.scatter function\n",
    "# The parameter 'ax' specifies the matplotlib axes object where the plot should be displayed\n",
    "df.plot.scatter(ax = ax[1], x = 'col1', y = 'col3', s = 100, color = 'blue')\n",
    "plt.tight_layout()\n",
    "plt.show()"
   ]
  },
  {
   "cell_type": "markdown",
   "metadata": {},
   "source": [
    "### **Part 1.1**:\n",
    "Now that we saw an example of how to access the pandas plot methods, lets get some practice using them on our own data. \n",
    "\n",
    "**Use the plot.bar() method on the voting results dataframe you created in Part 1.0 to display the VoteDifference of each county. Use Example 1.1 as a guide on the notation.**"
   ]
  },
  {
   "cell_type": "code",
   "execution_count": null,
   "metadata": {},
   "outputs": [],
   "source": [
    "### Put your code here\n"
   ]
  },
  {
   "cell_type": "markdown",
   "metadata": {},
   "source": [
    "## Example 1.2\n",
    "\n",
    "Since the pandas plot function is built on top of matplotlib. we can access all of the bells and whistles we are used to. To see some matplotlib functionality in action, let's use color to represent some of the information in our dataframe. One way to specify colors for a bar graph is the 'color' parameter. The 'color' parameter uses a list which contains the name of the color we want to assign each bar in the same order as we have input the bars. Let's test it out on our example dataframe."
   ]
  },
  {
   "cell_type": "code",
   "execution_count": null,
   "metadata": {},
   "outputs": [],
   "source": [
    "### EXAMPLE 1.2 ###\n",
    "\n",
    "data = {'col1': [1, 2, 3, 4, 5], 'col2': [6, 7, 8, 9, 10], 'col3': [-6, -7, -8, -9, -10]}\n",
    "df = pd.DataFrame(data=data)\n",
    "\n",
    "# Create a matplotlib figure with two subplots\n",
    "fig, ax = plt.subplots(nrows = 2, ncols = 1, figsize = (10,5))\n",
    "\n",
    "# Create a color list for the five points in subplot 1\n",
    "colors1 = ['green', 'green', 'green', 'green', 'green' ]\n",
    "\n",
    "# Create a color list for the five points in subplot 2\n",
    "colors2 = ['red', 'black', 'red', 'black', 'red']\n",
    "\n",
    "# Pass colors1 to the 'color' parameter\n",
    "df.plot.scatter(ax = ax[0], x = 'col1', y = 'col2', s = 100, color = colors1)\n",
    "\n",
    "# Pass colors2 to the 'color' parameter\n",
    "df.plot.scatter(ax = ax[1], x = 'col1', y = 'col3', s = 100, color = colors2)\n",
    "plt.tight_layout()\n",
    "plt.show()"
   ]
  },
  {
   "cell_type": "markdown",
   "metadata": {},
   "source": [
    "### **Part 1.2**:\n",
    "\n",
    "**Modify the plot you created in Part 1.1 by including the 'color' parameter in your plot method. If the republican candidate won in a given county, color that bar red. If the democratic candidate won, color the bar blue. Finally, add the color list you created to your dataframe as a new column with the heading \"Color\".**"
   ]
  },
  {
   "cell_type": "code",
   "execution_count": null,
   "metadata": {},
   "outputs": [],
   "source": [
    "### Put your code here\n"
   ]
  },
  {
   "cell_type": "markdown",
   "metadata": {},
   "source": [
    "---\n",
    "## Section 2: Visualizing data with a GeoPandas GeoDataFrame \n",
    "\n",
    "Up to this point, hopefully the tasks have seemed pretty familiar to you. The 'object-oriented' way of making plots from dataframe requires some slightly different notation, but the bar plots and scatter plots are exactly the same matplotlib plots we have made frequent use of throughout the course. However, what you may also notice about the plots from Parts 1.1 and 1.2 is that they aren't great at displaying the information we have at our disposal. In this section we will begin to remedy this.\n",
    "\n",
    "To begin, we will use a more specialized tool which will aid us in making more useful visualizations. In the previous section, we used a standard pandas dataframe and some of its methods to visualize our data. In this section, we will use a software called GeoPandas. GeoPandas offers an additional set of classes which are specialized for working with geospatial data. Put simply, GeoPandas is a tool which makes it easier to create maps from datasets collected within highly accurate geographic boundaries such as county lines. For Part 2 of the assignment, we will convert our standard pandas dataframe into a geopandas dataframe so that we can access its more advanced visualization methods.\n",
    "\n",
    "\n",
    "### __Part 2.1__:\n",
    "\n",
    "**Install the _geopandas_ module found here http://geopandas.org/ and import it into your notebook. Read in the file 'MI_Counties.shp' as a GeoDataFrame and then plot it with the GeoDataFrames `plot()` method.** **Note:** Depending on how you install geopandas, you may have to install additional Python packages as well. One of the goals of this assignment is to get comfortable troubleshooting issues that come up when you install packages!"
   ]
  },
  {
   "cell_type": "code",
   "execution_count": null,
   "metadata": {},
   "outputs": [],
   "source": [
    "### Put your code here\n"
   ]
  },
  {
   "cell_type": "markdown",
   "metadata": {},
   "source": [
    "### **Part 2.2**:\n",
    "\n",
    "Hopefully the GeoDataFrame methods you found in Part 2.1 remind you of similar methods you have used with regular pandas DataFrames. One of the things you should be able to locate in your data is a list of POLYGON's under the column heading 'geometry'. The geometry column is the most important in any GeoDataFrame, since it contains the information needed to construct the lines forming the boundaries of interest ( in our case, county lines ). All other information relavent to our model is contained in the standard DataFrame you created in Section 1, so we don't really need to worry about any of the other columns in the GeoDataFrame. To keep things simple and organized, let's gather all of our information under one roof.\n",
    "\n",
    "**Concatenate the 'geometry' column from your geopandas GeoDataFrame to the standard Pandas DataFrame you created in Part 1. Then create a new GeoDataFrame object from your modified Pandas DataFrame so that we can still take advantage of the geographical information stored in the shapefile.**"
   ]
  },
  {
   "cell_type": "markdown",
   "metadata": {},
   "source": [
    "### **Part 2.3**:\n",
    "\n",
    "The main benefit of using counties for our voter tabulation districts is that we can actually see the graphs we are working with and make sense of our models (and obstacles using networkx). However, this does come at some cost. Our model requires us to assign each node (county) to a single district. Currently, three of Michigan's congressional districts essentially span two counties: Wayne and Oakland. This means that one of the congressional districts which lies predominantly between the two counties is left out of our model. For most other counties this was not a problem since the entire county votes in a single congressional district. In all other counties which are represented across multiple congressional districts, we have assigned the county to the district which represents its most populus city. For example, Washtenaw county was assigned to the congressional district which represents the city of Ann Arbor.\n",
    "\n",
    "In the 'DistrictCode' column is a number which represents an assignment of each of the 83 counties in Michigan to one of 13 congressional districts. One way we can use these district codes in order to visualize Michigan's congressional districts on our map is by taking advantage of color.\n",
    "\n",
    "In the cell below, **create a matplotlib figure with two subplots. Then, use the `GeoDataFrame.plot()` method to draw the county boundaries in Michigan. In the first subplot, color the counties using the 'DistrictCode'. In the second subplot, color the counties according to 'VoteDifference'. Use an appropriate colormap for each plot.**\n",
    "\n",
    "If everything goes well, you should end up with something that looks like this:\n",
    "<img src=\"https://i.imgur.com/qfNEvc7.png\" width=900px>"
   ]
  },
  {
   "cell_type": "code",
   "execution_count": null,
   "metadata": {},
   "outputs": [],
   "source": [
    "### Put your code here\n"
   ]
  },
  {
   "cell_type": "markdown",
   "metadata": {},
   "source": [
    "### **Part 2.4**:\n",
    "\n",
    "For our final model, we will use a graph as a coarse representation of the geographic information contained in the shapefile. This means we will be need to represent each of Michigan's 83 counties as a single node. To do this, we will choose a representative point for each county called its 'centroid'. Intuitively, the centroid can be thought of as the center of the polygon formed by the county lines. Luckily for us, GeoSeries objects always keep track of the centroid of each polygon. All we have to do is call the centroid method on the geometry column of our GeoDataFrame. In a regular pandas dataframe, a single column is its own distinct type of object called a pandas Series. Similarly, the geometry column is itself a kind of geopandas object called a GeoSeries. GeoSeries objects have their own methods, but they are highly related to the methods for the entire GeoDataFrames. In particular, GeoSeries objects also have their own plot method. \n",
    "\n",
    "In the cell below:\n",
    "\n",
    "**Create a GeoSeries containing the 'centroid' for each county by using the GeoSeries.centroid() method. Display the centroid nodes and the county lines on the same plot by using appropriate plot() methods. Color the counties and nodes using the \"Color\" column you created previously.**"
   ]
  },
  {
   "cell_type": "code",
   "execution_count": null,
   "metadata": {},
   "outputs": [],
   "source": [
    "### Put your code here\n"
   ]
  },
  {
   "cell_type": "markdown",
   "metadata": {},
   "source": [
    "## Section 3: Converting a Geopandas Dataframe to a Networkx Graph\n",
    "\n",
    "Now that we have obtained the centroids for each county we have the nodes for our graph. All thats left to do is connect them! For this simple model, we will compute a distance matrix using all of the centrorid points we obtained above. A distance matrix contains the distance from node `i` to node `j` in the `i,j` position. To compute the distance matrix, we will need the x and y coordinates of each of our centroid points. These can be found using the `x` or `y` methods on the GeoSeries object containing the centroids. \n",
    "\n",
    "Once we obtain the coordinates, one way to build a distance matrix is by using the scipy pdist function:\n",
    "\n",
    "https://docs.scipy.org/doc/scipy/reference/generated/scipy.spatial.distance.pdist.html\n",
    "\n",
    "However, in order to build our graph we will need to convert this distance matrix into an adjacency matrix. As you know, an adjacency matrix should contain only 1's and 0's where a 1 in the `i,j` place indicates the nodes `i` and `j` are connected, and a 0 indicates they are not connected. To do the conversion, we must choose a threshold, $\\delta$, and then only connect two nodes if the distance between them is below the threshold. \n",
    "\n",
    "### **Part 3.1**:\n",
    "**Create a distance matrix containing the pairwise distances between centroids. Convert the distance matrix to an adjacency matrix by using a distance threshold $\\delta = 1$. Then, use the adjacency matrix to construct a networkx graph that displays all of the nodes and edges.**"
   ]
  },
  {
   "cell_type": "code",
   "execution_count": null,
   "metadata": {},
   "outputs": [],
   "source": [
    "### Put your code here\n"
   ]
  },
  {
   "cell_type": "markdown",
   "metadata": {},
   "source": [
    "Another neat feature of networkx is the ability to store information inside of node attributes. This allows us to transfer all of the information contained in a dataframe to a networkx graph. The way to create a node attribute in networkx is to pass a dictionary to the *set_node_attributes()* function containing the nodes as keys and the attribute values as dictionary values. Here is how that works.\n",
    "\n",
    "### Example:"
   ]
  },
  {
   "cell_type": "code",
   "execution_count": null,
   "metadata": {},
   "outputs": [],
   "source": [
    "K3 = nx.complete_graph(3)\n",
    "attribute_map = {0: 'Calm', 1: 'Cool', 2: 'Collected'}\n",
    "nx.set_node_attributes(K3, attribute_map, 'My Attribute')\n",
    "for n in K3.nodes:\n",
    "    print(K3.nodes[n])"
   ]
  },
  {
   "cell_type": "markdown",
   "metadata": {},
   "source": [
    "### **Part 3.2**:\n",
    "\n",
    "**Store the information from your pandas data frame inside of our networkx graph by creating a set of attributes for each node that map to the columns of information in your dataframe.**\n",
    "\n",
    "As an example, once you're done, if you access the attributes for Oakland county, you should get the following:\n",
    "\n",
    "```\n",
    ">>> G.nodes['OAKLAND']\n",
    "{'Index': 62,\n",
    " 'DistrictCode': 11,\n",
    " 'County': 'OAKLAND',\n",
    " 'Population': 1250836,\n",
    " 'RepVotes': 289203,\n",
    " 'DemVotes': 343070,\n",
    " 'VoteDifference': -53867,\n",
    " 'Color': 'Blue'}\n",
    "```"
   ]
  },
  {
   "cell_type": "code",
   "execution_count": null,
   "metadata": {},
   "outputs": [],
   "source": [
    "### Put your code here\n"
   ]
  },
  {
   "cell_type": "markdown",
   "metadata": {},
   "source": [
    "### **Part 3.3**:\n",
    "\n",
    "**Make a new version of your graph and use the district codes to color your graph nodes according to their district using an appropriate colormap. Also, use the 'Population' attribute of each node, with an appropriate scaling, to set the node size.**"
   ]
  },
  {
   "cell_type": "code",
   "execution_count": null,
   "metadata": {},
   "outputs": [],
   "source": [
    "### Put your code here\n"
   ]
  },
  {
   "cell_type": "markdown",
   "metadata": {},
   "source": [
    "This is pretty nice, but we may want to view the districts more independently. Lets try to separate our graph so that only the nodes which are in the same district are connected. Mathematically, the graph operation we need is called an *induced subgraph*. An induced subgraph is an operation which takes both a graph and a set of its nodes as inputs, and returns a new graph. The new graph will have nodes from the original graph which are in the subset, and edges from the original graph which connect **two** nodes from that subset. Once we have a set of subgraphs representing each district, we can use the networkx 'compose' function to generate a single graph from our set of subgraphs. In this way, we can obtain a single graph where there are no edge connection present between districts. In the mathematical field of graph theory, these districts are examples of *connected components* of the single graph which represents the whole state.\n",
    "\n",
    "### **Part 3.4**:\n",
    "**In the cell below, separate the graph into connected components: one representing each district. You may want to take advantage of the networkx functions 'subgraph' and 'compose'.**"
   ]
  },
  {
   "cell_type": "code",
   "execution_count": null,
   "metadata": {},
   "outputs": [],
   "source": [
    "### Put your code here\n"
   ]
  },
  {
   "cell_type": "markdown",
   "metadata": {},
   "source": [
    "### **Part 3.5**:\n",
    "\n",
    "**Plot out the connected components. Use the absolute 'VoteDifference' with an appropriate scaling for the node sizes. Color the nodes blue if the democratic candidate won that county, and red if the repulican candidate won.**\n",
    "\n",
    "You should get something that looks like this:\n",
    "<img src=\"https://i.imgur.com/fIwbLiL.png\" width=600px>"
   ]
  },
  {
   "cell_type": "code",
   "execution_count": null,
   "metadata": {},
   "outputs": [],
   "source": [
    "### Put your code here\n"
   ]
  },
  {
   "cell_type": "code",
   "execution_count": null,
   "metadata": {},
   "outputs": [],
   "source": [
    "node_sizes = [0.01*abs(H.nodes[node]['VoteDifference']) for node in H.nodes]\n",
    "node_colors = [H.nodes[node]['Color'] for node in H.nodes]\n",
    "\n",
    "fig, ax = plt.subplots(figsize=(15,15))\n",
    "nx.draw(H, pos, node_size=node_sizes, node_color=node_colors)"
   ]
  },
  {
   "cell_type": "markdown",
   "metadata": {},
   "source": [
    "## Section 4: Computing the Efficiency Gap (4 points)\n",
    "\n",
    "Thus far, we have focused entirely on assesing the districting plan qualitatively by using various visualizations. In the final section of this assignment, we will explore one proposal for a quantitative assesment of the level of gerrymandering in our district plan. The proposal in question goes by the name of the effeciency gap. The procedure for computing the efficiency gap from a district plan is described in the short paper by found in the file \"GerrymanderingMetrics.pdf\" which was included with the notebook. \n",
    "\n",
    "### **Part 4.1**:\n",
    "\n",
    "**Write a function which computes the efficiency gap of the district plan from our model. You may use inputs from whichever object you find most convienient. Print your result!**"
   ]
  },
  {
   "cell_type": "code",
   "execution_count": null,
   "metadata": {},
   "outputs": [],
   "source": [
    "### Put your code here\n"
   ]
  },
  {
   "cell_type": "markdown",
   "metadata": {},
   "source": [
    "---\n",
    "## Assignment wrap-up\n",
    "\n",
    "Please fill out the form that appears when you run the code below.  **You must completely fill this out in order to receive credit for the assignment!**"
   ]
  },
  {
   "cell_type": "code",
   "execution_count": null,
   "metadata": {},
   "outputs": [],
   "source": [
    "from IPython.display import HTML\n",
    "HTML(\n",
    "\"\"\"\n",
    "<iframe \n",
    "\tsrc=\"https://goo.gl/forms/52B64pswdVxD8S1q2\" \n",
    "\twidth=\"800px\" \n",
    "\theight=\"600px\" \n",
    "\tframeborder=\"0\" \n",
    "\tmarginheight=\"0\" \n",
    "\tmarginwidth=\"0\">\n",
    "\tLoading...\n",
    "</iframe>\n",
    "\"\"\"\n",
    ")"
   ]
  },
  {
   "cell_type": "markdown",
   "metadata": {},
   "source": [
    "## Congrats, you're done!\n",
    "\n",
    "Submit this assignment by uploading it to the course Desire2Learn web page.  Go to the \"Homework Assignments\" folder, find the dropbox link for Homework #3, and upload it there."
   ]
  }
 ],
 "metadata": {
  "kernelspec": {
   "display_name": "Python 3",
   "language": "python",
   "name": "python3"
  },
  "language_info": {
   "codemirror_mode": {
    "name": "ipython",
    "version": 3
   },
   "file_extension": ".py",
   "mimetype": "text/x-python",
   "name": "python",
   "nbconvert_exporter": "python",
   "pygments_lexer": "ipython3",
   "version": "3.7.1"
  }
 },
 "nbformat": 4,
 "nbformat_minor": 2
}
