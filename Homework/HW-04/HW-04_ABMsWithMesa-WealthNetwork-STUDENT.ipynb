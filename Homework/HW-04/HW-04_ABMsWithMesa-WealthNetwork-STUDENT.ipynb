{
 "cells": [
  {
   "cell_type": "markdown",
   "metadata": {},
   "source": [
    "### <p style=\"text-align: right;\"> &#9989; Put your name here</p>\n",
    "\n",
    "#### <p style=\"text-align: right;\"> &#9989; Put your GitHub username here</p>"
   ]
  },
  {
   "cell_type": "markdown",
   "metadata": {},
   "source": [
    "---\n",
    "# Homework #4: Exploring agent-based models with Mesa and modeling the distribution of wealth in a network\n",
    "\n",
    "<img src=https://amp.businessinsider.com/images/557ef766ecad04fe50a257cd-750-412.jpg width=600px>\n"
   ]
  },
  {
   "cell_type": "markdown",
   "metadata": {},
   "source": [
    "In this assignment, you'll be exploring how you can use the Python package \"Mesa\" to run agent-based models. Remember, one of the focuses of this class is learning how to use pre-existing software packages to solve problems. In this assignment you'll need to install Mesa, read the documention, and work through the Mesa tutorial individually. After that, you'll work off of a pre-existing example and make modifications to it to explore how money can move through a network of agents.\n",
    "\n",
    "One of the primary motivations for this assignment, beyond thinking about agent-based models, is to get you more practice with Object-Oriented Programming (OOP). Mesa is built upon a framework of classes and functions and you'll be finding ways to work with the functionality of those classes to expand beyond the basic model.\n",
    "\n",
    "**You are encouraged to read through the entire assignment before you start to make sure you understand what you're expected to do.**\n",
    "\n",
    "**IMPORTANT NOTE FOR THOSE WHO USE JUPYTERHUB**: If you've been using JupyterHub ([jupyterhub.egr.msu.edu](http://jupyterhub.egr.msu.edu)) for your assignments up to this point, **READ THIS!!!**. Because of the way that the Mesa package does the simulation visualization, it is not possible to run the visualization on JupyterHub. This means that starting with Step 3 of Part 1 of the assignment, you will need to be working with a Python installation that is installed *locally*. Being able to run software locally on your computer is an important part of being a computational professional! If you don't have a functioning Python installation on your computer, you should try to remedy this **as soon as possible**. See you instructor, TA, or LA **right away** if you need help with this. If for some reason installing Python locally on your own computer is not viable, it is also possible to use any of the DECS computers in the Engineering Building, but getting everything running correctly might require a bit of effort, so running everything on your own computer is the preferable option. If you decide to use one of the DECS computers, contact your instructor **right away** for details about how to best make this work.  \n",
    "\n",
    "### Goals for this assignment\n",
    "\n",
    "By the end of this assignment, you should be able to:\n",
    "\n",
    "* Use Mesa to run and visualize an agent-based model\n",
    "* Practice object-oriented programming by working with pre-existing classes, methods, and attributes.\n",
    "\n",
    "### Assignment instructions\n",
    "\n",
    "**This assignment is due roughly two weeks from now at 11:59pm on Friday, March 22th.** It should be uploaded into the \"Homework Assignments\" dropbox folder for Homework #4.  You'll also create a new folder in your `cmse202-s19-turnin` repository and push your solutions there.\n",
    "\n",
    "### Grading\n",
    "\n",
    "* Part 0: Setting up your repository (2 points)\n",
    "* Part 1: Installing and running Mesa (8 points)\n",
    "* Part 2: Modifying the basic model (15 points)\n",
    "\n",
    "Total points: **25**"
   ]
  },
  {
   "cell_type": "markdown",
   "metadata": {},
   "source": [
    "---\n",
    "## Part 0: Setting up your repository (2 points)\n",
    "    \n",
    "In your `cmse202-s19-turnin` repository create a new folder called `homework-04`. Add this notebook to that directory and make sure you add it and commit it to the repository. As a reminder, make sure you're working on the version of the notebook that is in your repository and not the one you pulled from the CMSE 202 course repository!\n",
    "\n",
    "From this point on, make sure you periodically commit the changes to this notebook to your repository. Make sure you also add any additional files to that folder so that when you finish the assignment you have **all** of the necessary files for the instructor and TA to be able to run all of your code.\n",
    "\n",
    "**If any of the files are missing, you will lose points on your assignment!** This is especially important because if files are missing, your work can't be graded!\n",
    "\n",
    "Finally, **include the URL for your repository in a markdown cell below this one!**"
   ]
  },
  {
   "cell_type": "markdown",
   "metadata": {},
   "source": [
    "---\n",
    "## Part 1: Installing and running Mesa (8 points)\n",
    "\n",
    "For this part of the assignment, you'll need to refer to the documentation for Mesa, which you can find [here](https://mesa.readthedocs.io/en/latest/index.html). Once you have things installed, if you want to explore some of the Mesa example problems, you can get some from their [examples directory of their GitHub repository](https://github.com/projectmesa/mesa/tree/master/examples).\n",
    "\n",
    "### Step 1: Install Mesa\n",
    "\n",
    "Use the documentation and the following instructions to install Mesa. Specifically, **you are expected to install the current version of Mesa from the [GitHub repository](https://github.com/projectmesa/mesa), To do this, you should clone the repository onto your computer (or JupyterHub) and then run `pip install -e .` in the `mesa` directory.** For code repositories that are set up correctly, this is how one can install the most up-to-date version of a code base. \n",
    "\n",
    "Check that you've installed it correctly by running the following import command:\n",
    "\n",
    "```python\n",
    "from mesa import Agent, Model\n",
    "```\n",
    "\n",
    "and then check the version number using the following:\n",
    "\n",
    "```python\n",
    "import mesa\n",
    "print(mesa.__version__)\n",
    "```\n",
    "\n",
    "At the time this assignment was written the version number was 0.8.5"
   ]
  },
  {
   "cell_type": "code",
   "execution_count": null,
   "metadata": {},
   "outputs": [],
   "source": [
    "### Put your testing and version checking here.\n"
   ]
  },
  {
   "cell_type": "markdown",
   "metadata": {},
   "source": [
    "### Step 2: Work through the Mesa tutorial\n",
    "\n",
    "To make sure you understand Mesa's functionality, you now need to work through the very nicely detailed Mesa tutorial. You can find the tutorial [here](http://mesa.readthedocs.io/en/latest/tutorials/intro_tutorial.html). This tutorial has you code up a simple model for looking at how wealth distributes itself.\n",
    "\n",
    "You are expected to work through the material by taking the example code and running it inside this notebook to make sure you can get it all to work. Make sure you pay attention to the comments in the tutorial about how you would run Mesa using scripts -- you'll have to do that eventually!"
   ]
  },
  {
   "cell_type": "code",
   "execution_count": null,
   "metadata": {},
   "outputs": [],
   "source": [
    "# Put your Mesa tutorial code here!\n"
   ]
  },
  {
   "cell_type": "markdown",
   "metadata": {},
   "source": [
    "### Step 3: Using scripts and running a pre-existing example to visualize a model\n",
    "\n",
    "Now that you have a basic sense for how Mesa works, you're going to make sure you can get one of the pre-existing examples to run correctly and visualize a model. If all goes well, this should be a pretty painless process, but if you run into issues, you might have to do a bit of troubleshooting.\n",
    "\n",
    "Go to the \"[Boltzmann Wealth Model with Network](https://github.com/projectmesa/mesa/tree/master/examples/boltzmann_wealth_model_network)\" example and review how to get it to run. Then, **copy all of the files from the `boltzmann_wealth_model_network` folder into your `homework-04` folder, add them to your repository, and commit them.**\n",
    "\n",
    "*Does this model sound familiar? Earlier in the semester you wrote code to model this, but not as an agent-based model using OOP! It also uses networkx to visualize the model, how convenient!*\n",
    "\n",
    "Once you have everything in your repository, run the model and make sure everything works with the Mesa server visualization. You should end up seeing agents moved around in a network and exchange money. You'll also see a graph of the *Gini* value. What does this value represent? Put your answer in the cell below."
   ]
  },
  {
   "cell_type": "markdown",
   "metadata": {},
   "source": [
    "*Explain what the Gini coefficient tells you about the wealth distribution of the network here.*"
   ]
  },
  {
   "cell_type": "markdown",
   "metadata": {},
   "source": [
    "___\n",
    "## Part 2: Modifying the basic model\n",
    "\n",
    "Now that you've got the pre-existing example working, it's time to practice modifying it to do something different. You are expected to do the following and **commit changes to your code as you accomplish each item in the list**:\n",
    "\n",
    "1. Change the model so that instead of always exchanging one unit of money, the agents exchange a random fraction between 0 and 1 of their current combined wealth. As a reminder from when you did this in the first homework assignment, this looks like the following mathematically, where $f$ is the randomly defined fraction:\n",
    "\n",
    "$$ p_{1,\\mathrm{new}} = f~(p_{1,\\mathrm{old}} + p_{2,\\mathrm{old}}) $$\n",
    "$$ p_{2,\\mathrm{new}} = (1-f)~(p_{1,\\mathrm{old}} + p_{2,\\mathrm{old}}) $$\n",
    "\n",
    "2. Change the visualization so that the \"Wealth\" number that is printed on the network graph is rounded to 2 decimal places, which helps to minimize the busy-ness of the visualization.\n",
    "\n",
    "3. Change the visualization so that the size of the node in the graph is directly proportional to the wealth of the agent. You should see that as the model runs, only a small number of the agents have large node sizes.\n",
    "\n",
    "4. Change the visualization so that the graph edges are blue instead of black.\n",
    "5. Add a new slider that sets the initial wealth of the agents and defaults to 1 with a maximum of 1000.\n",
    "6. Add a new chart that visualizes the minimum, maximum, mean, and median wealth in real time. Make sure each line uses a different color! What information does this give you about how the wealth distribution evolves with time?"
   ]
  },
  {
   "cell_type": "markdown",
   "metadata": {},
   "source": [
    "*Comment on what the new chart you added tells you about how the distribtion of wealth is changing as a function of time.*"
   ]
  },
  {
   "cell_type": "markdown",
   "metadata": {},
   "source": [
    "### Going further\n",
    "Once you've completed all of the above come up with **your own** modification to the model and/or the visualization. This can involve changing how the model works (e.g., how agents move or how they exchange money) or changing how the simulation is visualized, which can involve modifying the current visualization or adding new elements.\n",
    "\n",
    "**In the cell below, explain how you modified the model and the changes this creates in how the simulation runs or what the end result is.**"
   ]
  },
  {
   "cell_type": "markdown",
   "metadata": {},
   "source": [
    "*Explain your modifications here!*"
   ]
  },
  {
   "cell_type": "markdown",
   "metadata": {},
   "source": [
    "---\n",
    "## Assignment wrap-up\n",
    "\n",
    "Please fill out the form that appears when you run the code below.  **You must completely fill this out in order to receive credit for the assignment!**"
   ]
  },
  {
   "cell_type": "code",
   "execution_count": null,
   "metadata": {},
   "outputs": [],
   "source": [
    "from IPython.display import HTML\n",
    "HTML(\n",
    "\"\"\"\n",
    "<iframe \n",
    "\tsrc=\"https://goo.gl/forms/d0bBTIahsW3HGor53\" \n",
    "\twidth=\"800px\" \n",
    "\theight=\"600px\" \n",
    "\tframeborder=\"0\" \n",
    "\tmarginheight=\"0\" \n",
    "\tmarginwidth=\"0\">\n",
    "\tLoading...\n",
    "</iframe>\n",
    "\"\"\"\n",
    ")"
   ]
  },
  {
   "cell_type": "markdown",
   "metadata": {},
   "source": [
    "___\n",
    "# Congrats, you're done!\n",
    "\n",
    "Upload a copy of this notebook to the \"Homework #4\" dropbox on D2l and **make sure all of your code has been committed to your `cmse202-s19-turnin` repository.** The notebook should contain the completed Mesa tutorial and answers to the embedded questions. **Remember, if the instructor or TA can't get your model to run, they won't be able to give you a grade!**"
   ]
  }
 ],
 "metadata": {
  "kernelspec": {
   "display_name": "Python 3",
   "language": "python",
   "name": "python3"
  },
  "language_info": {
   "codemirror_mode": {
    "name": "ipython",
    "version": 3
   },
   "file_extension": ".py",
   "mimetype": "text/x-python",
   "name": "python",
   "nbconvert_exporter": "python",
   "pygments_lexer": "ipython3",
   "version": "3.7.1"
  }
 },
 "nbformat": 4,
 "nbformat_minor": 2
}
